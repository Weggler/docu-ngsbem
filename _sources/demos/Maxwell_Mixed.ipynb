{
 "cells": [
  {
   "cell_type": "code",
   "execution_count": null,
   "id": "4220f8af-1580-467a-801e-6ef49d43c70c",
   "metadata": {},
   "outputs": [],
   "source": [
    "from netgen.occ import *\n",
    "import netgen.meshing as meshing\n",
    "from ngsolve import *\n",
    "from ngsolve.webgui import Draw\n",
    "from ngsolve.bem import *\n",
    "from ngsolve import Projector, Preconditioner\n",
    "from ngsolve.krylovspace import CG, GMRes"
   ]
  },
  {
   "cell_type": "markdown",
   "id": "41e3ec90-d516-40cd-b776-52598f505458",
   "metadata": {},
   "source": [
    "**keys**: PEC Scattering with mixed conditions, Calderon projector, Dirichlet data, Neumann data "
   ]
  },
  {
   "cell_type": "markdown",
   "id": "27439a9a-bf23-4761-bb28-b73132b97f25",
   "metadata": {},
   "source": [
    "Maxwell Mixed Conditions\n",
    "============================"
   ]
  },
  {
   "cell_type": "markdown",
   "id": "2b563978-852c-442d-84e9-ef5dd152645b",
   "metadata": {},
   "source": [
    "Consider the mixed problem:\n",
    "\n",
    "|  |  |  |\n",
    "| -|--|- |\n",
    "| $ \\begin{array}{l rcl r} & \\mathrm{curl}\\,\\mathrm{curl} \\boldsymbol E - \\kappa^2 \\boldsymbol E &=& \\boldsymbol 0  &\\mathrm{in}\\; \\Omega^c \\,,\\\\ \\textnormal{Dirichlet condition} & \\gamma_R \\boldsymbol E &=& \\boldsymbol m & \\mathrm{on}\\; \\Gamma_0\\,,\\\\ \\textnormal{Neumann condition} & \\gamma_N \\boldsymbol E &=&  \\boldsymbol j & \\mathrm{on}\\; \\Gamma_1\\,, \\\\ \\textnormal{radiation condition} & \\| \\mathrm{curl}\\boldsymbol E \\times \\dfrac{x}{\\|x\\|} - i \\omega\\epsilon \\boldsymbol E(x)\\| &=& \\mathcal O(1/\\|x\\|^2), & \\|x\\|\\to \\infty\\,. \\end{array} $   | $\\quad\\quad\\quad$  | ![](resources/BEM_Mixed.png)  |\n",
    "\n",
    "- lower half sphere: Dirichlet boundary with given $\\gamma_D \\, E = \\boldsymbol m$ \n",
    "- upper half sphere: Neumann boundary with given $\\gamma_N \\, E = \\boldsymbol j$"
   ]
  },
  {
   "cell_type": "markdown",
   "id": "8c17c00f-6226-47d3-9d18-09891d98a849",
   "metadata": {},
   "source": [
    "**NGSolve solution**\n",
    "\n",
    "Define geometry and mesh:"
   ]
  },
  {
   "cell_type": "code",
   "execution_count": null,
   "id": "b3bee3e9-b23a-43dd-b5d9-8f9265af827a",
   "metadata": {},
   "outputs": [],
   "source": [
    "topsphere = Sphere((0,0,0), 1) * Box((-1,-1,0),(1,1,1))\n",
    "botsphere = Sphere((0,0,0), 1) - Box((-1,-1,0),(1,1,1))\n",
    "topsphere.faces.name = \"neumann\" # 1/kappa n x curl E\n",
    "botsphere.faces.name = \"dirichlet\" # nxE\n",
    "shape = Fuse( [topsphere,botsphere] )\n",
    "\n",
    "h = 0.5\n",
    "order = 3\n",
    "mesh = Mesh( OCCGeometry(shape).GenerateMesh(maxh=h, perfstepsend=meshing.MeshingStep.MESHSURFACE)).Curve(order)\n",
    "#Draw (mesh);"
   ]
  },
  {
   "cell_type": "markdown",
   "id": "072b149e-d83c-46f6-9d30-b0a432e7dcdd",
   "metadata": {},
   "source": [
    "Define a manufactured solution $\\boldsymbol E$:"
   ]
  },
  {
   "cell_type": "code",
   "execution_count": null,
   "id": "2ea25412-738b-469b-a30c-990d32089e9c",
   "metadata": {},
   "outputs": [],
   "source": [
    "# manufactured solution: kernel with source in point s and direction e\n",
    "kappa = 1. / h\n",
    "s = CF((0., 0., 0.))\n",
    "e = (1.192, -0.189, 2.745)\n",
    "e = CF(e) / sqrt(e[0] ** 2 + e[1] ** 2 + e[2] ** 2)\n",
    "xms = CF((x, y , z)) - s\n",
    "r = Norm(xms)\n",
    "f = (-kappa ** 2 * r ** 2 - 1j * kappa * r + 1.) / r ** 3\n",
    "g = (e * xms) * (-kappa ** 2 * r ** 2 - 3. * 1j * kappa * r + 3.) / r ** 5\n",
    "E = exp(1j * kappa * r) * (f * e - g * xms)\n",
    "curlE = CF((E[2].Diff(y) - E[1].Diff(z), E[0].Diff(z) - E[2].Diff(x), E[1].Diff(x) - E[0].Diff(y)))\n",
    "\n",
    "print(\"kappa = \", kappa)"
   ]
  },
  {
   "cell_type": "markdown",
   "id": "3c08e5aa-a5b9-4474-af41-87b14cd4c125",
   "metadata": {},
   "source": [
    "**Boundary Integral Equations**\n",
    "\n",
    "The Calderon projector relates the Dirichlet and the Neumann traces of the solution $u$, i.e., \n",
    "\n",
    "  \n",
    "$$  \\left( \\begin{array}{c} \\gamma_D E \\\\ \\gamma_N E \\end{array}\\right) =  \\left( \\begin{array}{cc} V & \\frac12 - K \\\\ \\frac12 + K^\\intercal & D \\end{array} \\right)  \\left( \\begin{array}{c} \\gamma_N E \\\\ \\gamma_D E \\end{array}\\right)\\,, $$\n",
    "\n",
    "and we use it to solve for the Dirchlet trace on $\\Gamma_1$ and the Neumann trace on $\\Gamma_0$. "
   ]
  },
  {
   "cell_type": "markdown",
   "id": "bb071ec7-71ac-407f-b0ef-0a4d54e95368",
   "metadata": {},
   "source": [
    "Define the finite element product space with $H^{-\\frac12}(\\mathrm{curl}_\\Gamma, \\Gamma)$ and $H^{-\\frac12}(\\mathrm{div}_\\Gamma, \\Gamma)$ conforming finte elements:"
   ]
  },
  {
   "cell_type": "code",
   "execution_count": null,
   "id": "5a6ee11f-4bc6-4cc8-9408-c4d6d9c4727d",
   "metadata": {},
   "outputs": [],
   "source": [
    "order = 3\n",
    "fesHDiv = HDivSurface(mesh, order=order, complex=True, dirichlet=\"neumann\")\n",
    "fesHCurl = HCurl(mesh, order=order, complex=True, dirichlet=\"dirichlet\")\n",
    "fes = fesHCurl * fesHDiv\n",
    "(uHCurl,uHDiv),(vHCurl,vHDiv) = fes.TnT() "
   ]
  },
  {
   "cell_type": "markdown",
   "id": "46dbeb1f-1888-44d5-88d3-1e3c3111cf05",
   "metadata": {},
   "source": [
    "Get the Dirichlet trace $\\boldsymbol m$ and exact Neumann data $\\boldsymbol j$ as grid functions defined everywhere on $\\Gamma$:"
   ]
  },
  {
   "cell_type": "code",
   "execution_count": null,
   "id": "1b6980a9-510d-4a26-bacf-057f54fffb86",
   "metadata": {},
   "outputs": [],
   "source": [
    "n = specialcf.normal(3)\n",
    "mjexa = GridFunction(fes)\n",
    "mj = GridFunction(fes)\n",
    "mjexa.components[0].Set( Cross( Cross(n, E), n) , definedon=mesh.Boundaries(\".*\"), dual=True) # Hcurl, gamma_R = (nxE)xn\n",
    "mjexa.components[1].Set( 1/kappa*Cross(n,curlE) , definedon=mesh.Boundaries(\".*\"), dual=True) # Hdiv, gamma_N = 1/k nx curl E"
   ]
  },
  {
   "cell_type": "markdown",
   "id": "5e2b7978-ddf6-4a4b-9485-73438dd8be47",
   "metadata": {},
   "source": [
    "Define Dirichlet boundary condition on the lower half sphere $\\Gamma_0$ and have a look at it:"
   ]
  },
  {
   "cell_type": "code",
   "execution_count": null,
   "id": "1e63632c-608c-4a1d-b1fb-7e7fc709c3d0",
   "metadata": {},
   "outputs": [],
   "source": [
    "mj.components[0].Set( mjexa.components[0], definedon=mesh.Boundaries(\"dirichlet\"), dual=True) # given Dirichlet data\n",
    "Draw (Norm(mj.components[0]), mesh, draw_vol=False, order=3);"
   ]
  },
  {
   "cell_type": "markdown",
   "id": "9d90e066-0158-4da7-9a0b-c7301076559e",
   "metadata": {},
   "source": [
    "Define Neumann boundary condition on the upper half sphere $\\Gamma_1$ and have a look at it:"
   ]
  },
  {
   "cell_type": "code",
   "execution_count": null,
   "id": "c09bc1bd-195f-41ba-a243-e92c65843df0",
   "metadata": {},
   "outputs": [],
   "source": [
    "mj.components[1].Set( mjexa.components[1], definedon=mesh.Boundaries(\"neumann\"), dual=True) # given Neumann data\n",
    "Draw (Norm(mj.components[1]), mesh, draw_vol=False, order=3);"
   ]
  },
  {
   "cell_type": "markdown",
   "id": "e16e1586-8c7a-4eb7-b5e9-9c2c21aa14b8",
   "metadata": {},
   "source": [
    "Compute boundary integral operators $\\mathrm{V}$, $\\mathrm{K}$, $\\mathrm{D}$ and the mass matrix $\\mathrm M$"
   ]
  },
  {
   "cell_type": "code",
   "execution_count": null,
   "id": "36d6ba11-6bc7-4d76-a114-b7119b3b90e7",
   "metadata": {},
   "outputs": [],
   "source": [
    "# M, V, K and D \n",
    "intorder = 2 * order + 6\n",
    "with TaskManager(): \n",
    "    M = BilinearForm( uHCurl.Trace() * vHDiv.Trace()* ds(bonus_intorder=3)).Assemble() # <Hcurl, Hdiv>  \n",
    "    V1 = HelmholtzSL(uHDiv.Trace()*ds(bonus_intorder=6), kappa)*vHDiv.Trace()*ds(bonus_intorder=6)\n",
    "    V2 = HelmholtzSL(div(uHDiv.Trace())*ds(bonus_intorder=6), kappa)*div(vHDiv.Trace())*ds(bonus_intorder=6)\n",
    "    V = kappa * V1.mat - 1/kappa * V2.mat\n",
    "    K = HelmholtzDL(uHCurl.Operator(\"rotated_trace\") * ds(bonus_intorder=6), kappa) * vHDiv.Trace() * ds(bonus_intorder=6)\n",
    "    D1 = HelmholtzSL(uHCurl.Operator(\"rotated_trace\")*ds(bonus_intorder=6), kappa)*uHCurl.Operator(\"rotated_trace\")*ds(bonus_intorder=6)\n",
    "    D2 = HelmholtzSL(uHCurl.Operator(\"surface_curl\")*ds(bonus_intorder=6), kappa)*vHCurl.Operator(\"surface_curl\")*ds(bonus_intorder=6)\n",
    "    D = kappa * D1.mat - 1/kappa * D2.mat"
   ]
  },
  {
   "cell_type": "markdown",
   "id": "6a0eec30-a38b-4157-9e2a-c8f6360afdc6",
   "metadata": {},
   "source": [
    "Generate right hand side, block matrix and solve the linear system of equations:\n",
    "  \n",
    "$$  \\left( \\begin{array}{c} \\gamma_D E \\\\ \\gamma_N E \\end{array}\\right) =  \\left( \\begin{array}{cc} V & \\frac12 - K \\\\ \\frac12 + K^\\intercal & D \\end{array} \\right)  \\left( \\begin{array}{c} \\gamma_N E \\\\ \\gamma_D E \\end{array}\\right)\\,, $$\n",
    "\n",
    "and we use it to solve for the Dirchlet trace on $\\Gamma_1$ and the Neumann trace on $\\Gamma_0$. "
   ]
  },
  {
   "cell_type": "code",
   "execution_count": null,
   "id": "18dee7e9-9ceb-4386-8427-9bf937376549",
   "metadata": {
    "scrolled": true
   },
   "outputs": [],
   "source": [
    "with TaskManager():\n",
    "    lhs = V + K.mat - K.mat.T - D\n",
    "    rhs = ((0.5 * M.mat - K.mat - V + 0.5 * M.mat.T + K.mat.T + D ) * mj.vec).Evaluate()"
   ]
  },
  {
   "cell_type": "code",
   "execution_count": null,
   "id": "7cee1ee5-ca4e-4058-8a69-02a50e0a3773",
   "metadata": {
    "scrolled": true
   },
   "outputs": [],
   "source": [
    "fesHDivN = HDivSurface(mesh, order=order, dirichlet=\"neumann\") # Dirichlet nodes free dofs\n",
    "fesHCurlD = HCurl(mesh, order=order, dirichlet=\"dirichlet\") # Neumann nodes free dofs\n",
    "\n",
    "bfpre = BilinearForm(uHDiv.Trace() * vHDiv.Trace() *ds + uHCurl.Trace() * vHCurl.Trace() *ds).Assemble()\n",
    "pre = bfpre.mat.Inverse(freedofs=fes.FreeDofs())\n",
    "with TaskManager():\n",
    "    sol = GMRes(A=lhs, b=rhs, pre=pre, maxsteps=3000, tol=1e-8)"
   ]
  },
  {
   "cell_type": "markdown",
   "id": "a415dd0a-9ba7-4268-87ea-3f396d4f696d",
   "metadata": {},
   "source": [
    "**Compute the Error**"
   ]
  },
  {
   "cell_type": "markdown",
   "id": "fc4d0ab0-655e-4d8a-a8f3-7f947c65882b",
   "metadata": {},
   "source": [
    "Have a look at Neumann data on $\\Gamma_0$ and compute the $L_2$-error:"
   ]
  },
  {
   "cell_type": "code",
   "execution_count": null,
   "id": "0e83a3fa-af75-4d52-bf5c-986f7a7036a9",
   "metadata": {},
   "outputs": [],
   "source": [
    "# compare with exact Dirichlet trace\n",
    "gf = GridFunction(fes)\n",
    "gf.vec[:] = sol\n",
    "gfdiv = gf.components[1]\n",
    "print (\"Neumann error =\", sqrt(Integrate(Norm(gfdiv + mj.components[1] - mjexa.components[1])**2, mesh.Boundaries(\".*\"), BND)))\n",
    "Draw (Norm(gfdiv), mesh.Boundaries(\"dirichlet\"), order=3);"
   ]
  },
  {
   "cell_type": "markdown",
   "id": "3262a1f8-6edf-4af4-9438-2726aea19e09",
   "metadata": {},
   "source": [
    "Have a look at Dirichlet data on $\\Gamma_1$ and compute the $L_2$-error:"
   ]
  },
  {
   "cell_type": "code",
   "execution_count": null,
   "id": "75e1e075-06c5-4a35-9041-c4d09dbba0a1",
   "metadata": {},
   "outputs": [],
   "source": [
    "# compare with the exact Neuman trace  \n",
    "gfcurl = gf.components[0]\n",
    "print (\"Dirichlet error =\", sqrt(Integrate(Norm(gfcurl +mj.components[0] - mjexa.components[0])**2, mesh.Boundaries(\".*\"), BND)))\n",
    "Draw (Norm(gfcurl), mesh.Boundaries(\"neumann\"), draw_vol=False, order=3);"
   ]
  },
  {
   "cell_type": "markdown",
   "id": "ea385457-1e87-40f9-819d-9203aa52c828",
   "metadata": {},
   "source": [
    "**References (theory results):** \n",
    "\n",
    "[Boundary Element Methods for Maxwell Transmission Problems in Lipschitz Domains](https://www.semanticscholar.org/paper/Boundary-Element-Methods-for-Maxwell-Transmission-Buffa-Hiptmair/92147cb3aee1a71d0a38544d0f6fdd6d1213299c)\n",
    "\n",
    "Note that the Calderon-projector in the referenced paper is slightly different from ours as only trace space $H^{-\\frac12}(\\mathrm{div}_\\Gamma,\\Gamma)$ is used. Theoretical results stay the same."
   ]
  },
  {
   "cell_type": "code",
   "execution_count": null,
   "id": "e288c2ba-efed-49ee-8d5a-88b5bc178e21",
   "metadata": {},
   "outputs": [],
   "source": []
  }
 ],
 "metadata": {
  "kernelspec": {
   "display_name": "Python 3 (ipykernel)",
   "language": "python",
   "name": "python3"
  },
  "language_info": {
   "codemirror_mode": {
    "name": "ipython",
    "version": 3
   },
   "file_extension": ".py",
   "mimetype": "text/x-python",
   "name": "python",
   "nbconvert_exporter": "python",
   "pygments_lexer": "ipython3",
   "version": "3.12.3"
  }
 },
 "nbformat": 4,
 "nbformat_minor": 5
}
