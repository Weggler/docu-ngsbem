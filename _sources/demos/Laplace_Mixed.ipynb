{
 "cells": [
  {
   "cell_type": "code",
   "execution_count": null,
   "id": "979ea90d-25a0-4090-afee-8c10b3036030",
   "metadata": {},
   "outputs": [],
   "source": [
    "from ngsolve import *\n",
    "from netgen.occ import *\n",
    "from ngsolve.krylovspace import CG, GMRes\n",
    "from ngsolve.webgui import Draw\n",
    "from ngsolve.bem import *"
   ]
  },
  {
   "cell_type": "markdown",
   "id": "c1566537-fd3e-4ee0-8feb-401f6247757d",
   "metadata": {},
   "source": [
    "**keys**: homogeneous Laplace bvp with mixed conditions, Calderon projector, Dirichlet data, Neumann data "
   ]
  },
  {
   "cell_type": "markdown",
   "id": "51bdeb80-02e0-4682-8062-976bdc02fd31",
   "metadata": {},
   "source": [
    "Laplace with Mixed Conditions\n",
    "=============================="
   ]
  },
  {
   "cell_type": "markdown",
   "id": "b564504d-968b-42d4-8ad1-0ecdfdea5072",
   "metadata": {
    "jp-MarkdownHeadingCollapsed": true
   },
   "source": [
    "We consider an interior boundary value problem with mixed boundary conditions like this:\n",
    "\n",
    "|  |  |  |\n",
    "| -|--|- |\n",
    "| $ \\begin{array}{r rcl r} & \\Delta u &=& 0  &\\mathrm{in}\\; \\Omega\\,,\\\\ \\textnormal{Dirichlet condition} & \\gamma_0 u &=& m & \\mathrm{on}\\; \\Gamma_0\\,,\\\\ \\textnormal{Neumann condition} & \\gamma_1 u &=&  j & \\mathrm{on}\\; \\Gamma_1\\,. \\end{array} $   | $\\quad\\quad\\quad$  | ![](resources/BEM_Mixed.png)  |\n"
   ]
  },
  {
   "cell_type": "markdown",
   "id": "431bc471-c56d-4c1e-b62f-8b9b7d41ae68",
   "metadata": {},
   "source": [
    "The following representation formula for the solution $u$ holds:\n",
    "\n",
    "$$ x \\in \\Omega: \\quad u(x) =  \\displaystyle{ \\int\\limits_\\Gamma} \\displaystyle{\\frac{1}{4\\,\\pi}\\, \\frac{1}{\\| x-y\\|} } \\, \\gamma_1 u (y)\\, \\mathrm{d} s_y - \\displaystyle{ \\int\\limits_\\Gamma} \\displaystyle{\\frac{1}{4\\,\\pi}\\, \\frac{\\langle n(y) , x-y\\rangle }{\\| x-y\\|^3} } \\, \\gamma_0 u (y)\\, \\mathrm{d} s_y\\,. $$ "
   ]
  },
  {
   "cell_type": "markdown",
   "id": "9b2969aa-4f83-4050-b9e8-fc1e485dc77f",
   "metadata": {},
   "source": [
    "**NGSolve solution**\n",
    "\n",
    "Define the geometry and the mesh:"
   ]
  },
  {
   "cell_type": "code",
   "execution_count": null,
   "id": "756e9f3c-f8e8-4f20-8760-55ec37b4ffbf",
   "metadata": {
    "scrolled": true
   },
   "outputs": [],
   "source": [
    "topsphere = Sphere((0,0,0), 1) * Box((-1,-1,0),(1,1,1))\n",
    "botsphere = Sphere((0,0,0), 1) - Box((-1,-1,0),(1,1,1))\n",
    "topsphere.faces.name = \"neumann\"\n",
    "botsphere.faces.name = \"dirichlet\"\n",
    "shape = Fuse( [topsphere,botsphere] )\n",
    "\n",
    "order = 3\n",
    "mesh = Mesh(OCCGeometry(shape).GenerateMesh(maxh=0.25)).Curve(order)\n",
    "Draw (mesh);"
   ]
  },
  {
   "cell_type": "markdown",
   "id": "013dba64-39ba-419c-81dd-4f4b13b2e440",
   "metadata": {},
   "source": [
    "Define the finite element product space $H^{\\frac12}(\\Gamma)\\times H^{-\\frac12}(\\Gamma)$ with $H^{\\frac12}(\\Gamma)$ conforming elements for the Dirichlet and $H^{-\\frac12}(\\Gamma)$ for the Neumann trace."
   ]
  },
  {
   "cell_type": "code",
   "execution_count": null,
   "id": "84f70bba-7467-492c-9b48-a551b380a1b0",
   "metadata": {},
   "outputs": [],
   "source": [
    "# use L2 conform elements for the Neumann trace, label all dofs where Neumann data is given:\n",
    "fesL2 = SurfaceL2(mesh, order=order-1, dirichlet=\"neumann\")\n",
    "# use H1 conform elements for the Dirichlet trace, label all dofs where Dirichlet data is given:\n",
    "fesH1 = H1(mesh, order=order, dirichlet=\"dirichlet\", definedon=mesh.Boundaries(\".*\"))\n",
    "\n",
    "fes = fesH1 * fesL2\n",
    "fes.ndof\n",
    "\n",
    "uH1,uL2 = fes.TrialFunction()\n",
    "vH1,vL2 = fes.TestFunction()\n",
    "\n",
    "print (\"ndofL2 = \", fesL2.ndof, \"ndofH1 = \", fesH1.ndof, \"ndof fes =\", fes.ndof)"
   ]
  },
  {
   "cell_type": "markdown",
   "id": "95210bf5-256a-4617-b795-1bac007a3cd1",
   "metadata": {},
   "source": [
    "Compute and set the Dirichlet and the Neumann data:"
   ]
  },
  {
   "cell_type": "code",
   "execution_count": null,
   "id": "019f82b5-6e6e-47dc-aba5-ee09f4394918",
   "metadata": {},
   "outputs": [],
   "source": [
    "uexa = CF(x)\n",
    "mj = GridFunction(fes)\n",
    "mjexa = GridFunction(fes)\n",
    "mjexa.components[0].Interpolate(uexa, definedon=mesh.Boundaries(\".*\"))\n",
    "mj.components[0].Set( mjexa.components[0], definedon=mesh.Boundaries(\"dirichlet\")) # given Dirichlet data m\n",
    "\n",
    "n = specialcf.normal(3)\n",
    "gradn_uexa = CF((uexa.Diff(x), uexa.Diff(y), uexa.Diff(z))) * n\n",
    "\n",
    "mjexa.components[1].Interpolate(gradn_uexa, definedon=mesh.Boundaries(\".*\"))\n",
    "mj.components[1].Set( mjexa.components[1], definedon=mesh.Boundaries(\"neumann\")) # given Neumann data j\n",
    "\n",
    "Draw(mj.components[0], mesh, draw_vol=False);"
   ]
  },
  {
   "cell_type": "markdown",
   "id": "fd43ffe6-6fb7-4b86-a758-4581dd17287f",
   "metadata": {},
   "source": [
    "**Boundary Integral Equation**\n",
    "\n",
    "The Calderon projector relates the Dirichlet and the Neumann traces of the solution $u$, i.e., \n",
    "\n",
    "  \n",
    "$$  \\left( \\begin{array}{c} \\gamma_0 u \\\\ \\gamma_1 u \\end{array}\\right) =  \\left( \\begin{array}{cc} V & \\frac12 - K \\\\ \\frac12 + K^\\intercal & D \\end{array} \\right)  \\left( \\begin{array}{c} \\gamma_1 u \\\\ \\gamma_0 u \\end{array}\\right)\\,, $$\n",
    "\n",
    "and we use it to solve for the Dirchlet trace on $\\Gamma_1$ and the Neumann trace on $\\Gamma_0$. "
   ]
  },
  {
   "cell_type": "markdown",
   "id": "a877e2cd-f350-4517-96bb-a263485a1e78",
   "metadata": {},
   "source": [
    "Compute boundary integral operators $\\mathrm{V}, \\mathrm{K}, \\mathrm{D}$ and the mass matrix $\\mathrm{M}$:"
   ]
  },
  {
   "cell_type": "code",
   "execution_count": null,
   "id": "3adf260a-ee03-42d0-85e6-7342ffbc4bde",
   "metadata": {},
   "outputs": [],
   "source": [
    "eps = 1e-6\n",
    "intorder = 2 * order + 6\n",
    "with TaskManager():\n",
    "    V = LaplaceSL( uL2*ds ) * vL2*ds\n",
    "    K = LaplaceDL( uH1*ds ) * vL2*ds\n",
    "    D = LaplaceSL( curl(uH1)*ds ) * curl(vH1)*ds\n",
    "    M = BilinearForm( uH1 * vL2 * ds(bonus_intorder=3)).Assemble()"
   ]
  },
  {
   "cell_type": "markdown",
   "id": "ebf4e638-5569-4514-8ebb-c37b04fa7cd0",
   "metadata": {},
   "source": [
    "Insert all given data in the Dirichlet-to-Neumann map and compute the right hand side vector: "
   ]
  },
  {
   "cell_type": "code",
   "execution_count": null,
   "id": "9f5a579e-a7b0-4fc6-a56e-fdbd109ac5b6",
   "metadata": {},
   "outputs": [],
   "source": [
    "with TaskManager():  \n",
    "    rhs  = ((0.5 * ( M.mat + M.mat.T) + ( K.mat - K.mat.T) - V.mat - D.mat) * mj.vec).Evaluate()\n",
    "    lhs = V.mat - K.mat + K.mat.T + D.mat \n"
   ]
  },
  {
   "cell_type": "markdown",
   "id": "405b496d-c79f-49f0-bd2d-2ceabc5fa876",
   "metadata": {},
   "source": [
    "Solve for the missing trace data:"
   ]
  },
  {
   "cell_type": "code",
   "execution_count": null,
   "id": "1cde9485-5a8c-4be5-b1d5-059e825a1457",
   "metadata": {},
   "outputs": [],
   "source": [
    "with TaskManager():\n",
    "    pre = BilinearForm( (uH1 * vH1 + uL2 * vL2) * ds(bonus_intorder=3) ).Assemble().mat.Inverse(freedofs=fes.FreeDofs())\n",
    "    sol = GMRes(A=lhs, b=rhs, pre=pre, tol=1e-8, maxsteps=500)"
   ]
  },
  {
   "cell_type": "markdown",
   "id": "d0be955b-8a80-45b9-8a93-4ae176f85cb6",
   "metadata": {},
   "source": [
    "Have a look at the Neumann data on $\\Gamma_0$ and compute the error:"
   ]
  },
  {
   "cell_type": "code",
   "execution_count": null,
   "id": "dc335873-1f14-451a-b3fd-d306e0831cd1",
   "metadata": {},
   "outputs": [],
   "source": [
    "gf = GridFunction(fes)\n",
    "gf.vec[:] = sol\n",
    "gfj = gf.components[1]\n",
    "print (\"Neumann error =\", sqrt(Integrate(Norm(gfj + mj.components[1] - mjexa.components[1])**2, mesh.Boundaries(\".*\"), BND)))\n",
    "Draw (gfj, mesh.Boundaries(\"dirichlet\"));"
   ]
  },
  {
   "cell_type": "markdown",
   "id": "e0dbb134-143a-4efc-bdbd-a30c476d7eda",
   "metadata": {},
   "source": [
    "Have a look at the Dirichlet data on $\\Gamma_1$ and compute the error:"
   ]
  },
  {
   "cell_type": "code",
   "execution_count": null,
   "id": "b69b51bb-8fc7-4ed8-993b-154e3b95bbe2",
   "metadata": {},
   "outputs": [],
   "source": [
    "gfm = gf.components[0]\n",
    "print (\"Dirichlet error =\", sqrt(Integrate(Norm(gfm + mj.components[0] - mjexa.components[0])**2, mesh.Boundaries(\".*\"), BND)))\n",
    "Draw (gfm, mesh.Boundaries(\"neumann\"));"
   ]
  },
  {
   "cell_type": "code",
   "execution_count": null,
   "id": "c35f73dc-3e40-482a-ba72-a7e03e16637a",
   "metadata": {},
   "outputs": [],
   "source": []
  },
  {
   "cell_type": "code",
   "execution_count": null,
   "id": "c3ee9250-d2ea-41c5-bec8-491946ded470",
   "metadata": {},
   "outputs": [],
   "source": []
  }
 ],
 "metadata": {
  "kernelspec": {
   "display_name": "Python 3 (ipykernel)",
   "language": "python",
   "name": "python3"
  },
  "language_info": {
   "codemirror_mode": {
    "name": "ipython",
    "version": 3
   },
   "file_extension": ".py",
   "mimetype": "text/x-python",
   "name": "python",
   "nbconvert_exporter": "python",
   "pygments_lexer": "ipython3",
   "version": "3.12.3"
  }
 },
 "nbformat": 4,
 "nbformat_minor": 5
}
