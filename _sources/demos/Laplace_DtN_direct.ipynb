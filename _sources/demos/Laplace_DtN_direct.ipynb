{
 "cells": [
  {
   "cell_type": "code",
   "execution_count": null,
   "id": "667a666a-3324-4cc0-a3f0-47ba7aa32d5c",
   "metadata": {},
   "outputs": [],
   "source": [
    "from netgen.occ import *\n",
    "from ngsolve import *\n",
    "from ngsolve.webgui import Draw\n",
    "from ngsolve.bem import *\n",
    "from ngsolve import Projector, Preconditioner\n",
    "from ngsolve.krylovspace import CG"
   ]
  },
  {
   "cell_type": "markdown",
   "id": "9b8b9dbb-49ce-4a92-aff3-4e8da108a663",
   "metadata": {},
   "source": [
    "**keys**: electrostatics, homogeneous Dirichlet bvp, double layer potential $K$ and single layer potential $V$"
   ]
  },
  {
   "cell_type": "markdown",
   "id": "7ba2b304-c597-408f-8873-5b6f90444a7a",
   "metadata": {},
   "source": [
    "Dirichlet Laplace Direct Method \n",
    "=========================="
   ]
  },
  {
   "cell_type": "markdown",
   "id": "41a46028-99d6-4272-beb6-393a396d7c71",
   "metadata": {},
   "source": [
    "Consider the Dirichlet boundary value problem \n",
    "\n",
    "$$ \\left\\{ \\begin{array}{rcl l} \\Delta u &=& 0, \\quad &\\Omega \\subset \\mathbb R^3\\,,\\\\ \\gamma_0 u&=& m, \\quad &\\Gamma = \\partial \\Omega\\,.\\end{array} \\right. $$ "
   ]
  },
  {
   "cell_type": "markdown",
   "id": "a1f3128c-f83c-4859-9fab-3ed5a951b794",
   "metadata": {},
   "source": [
    "Let us choose the following ansatz for the solution $u\\in H^1(\\Omega)$ (direct ansatz) \n",
    "\n",
    "$$ u(x) = \\underbrace{ \\int\\limits_\\Gamma \\displaystyle{\\frac{1}{4\\,\\pi}\\, \\frac{1}{\\| x-y\\|} } \\, j(y)\\, \\mathrm{d}s_y}_{\\displaystyle{ \\mathrm{ SL}(j) }} - \\underbrace{ \\int\\limits_\\Gamma \\displaystyle{\\frac{1}{4\\,\\pi}\\, \\frac{\\langle n(y) , x-y\\rangle }{\\| x-y\\|^3} } \\, m(y)\\, \\mathrm{d}s_y}_{\\displaystyle{ \\mathrm{DL}(m) }}$$ \n"
   ]
  },
  {
   "cell_type": "markdown",
   "id": "be5f96f2-32b2-4d48-883f-8bc994f9388d",
   "metadata": {},
   "source": [
    "Define the geometry $\\Omega \\subset \\mathbb R^3$ and create a mesh:"
   ]
  },
  {
   "cell_type": "code",
   "execution_count": null,
   "id": "c7abb299-0827-4f90-8d0f-6239f08249b2",
   "metadata": {},
   "outputs": [],
   "source": [
    "sp = Sphere( (0,0,0), 1)\n",
    "mesh = Mesh( OCCGeometry(sp).GenerateMesh(maxh=0.2)).Curve(4)"
   ]
  },
  {
   "cell_type": "markdown",
   "id": "8f6fd26c-9809-458b-82e4-958a1206fd5a",
   "metadata": {},
   "source": [
    "Create the finite element spaces for $H^{-\\frac12}(\\Gamma)$ and $H^{\\frac12}(\\Gamma)$ according to the given mesh:  "
   ]
  },
  {
   "cell_type": "code",
   "execution_count": null,
   "id": "d8c2c6d6-b3b3-4f91-8e2b-b63c146b6a09",
   "metadata": {},
   "outputs": [],
   "source": [
    "fesL2 = SurfaceL2(mesh, order=3, dual_mapping=True)\n",
    "u,v = fesL2.TnT()\n",
    "fesH1 = H1(mesh, order=4)\n",
    "uH1,vH1 = fesH1.TnT()\n",
    "print (\"ndofL2 = \", fesL2.ndof, \"ndof H1 = \", fesH1.ndof)"
   ]
  },
  {
   "cell_type": "markdown",
   "id": "1b0307f4-ad7f-4252-84ab-f4c8b14c896d",
   "metadata": {},
   "source": [
    "Compute the interpolation of exact Dirichlet data $u_0$ in finite element space:"
   ]
  },
  {
   "cell_type": "code",
   "execution_count": null,
   "id": "c5267b3c-7006-409c-a9fe-499acf23b57c",
   "metadata": {},
   "outputs": [],
   "source": [
    "uexa = 1/ sqrt( (x-1)**2 + (y-1)**2 + (z-1)**2 )\n",
    "m = GridFunction(fesH1)\n",
    "m.Interpolate (uexa)\n",
    "Draw (m, mesh, draw_vol=False, order=3)"
   ]
  },
  {
   "cell_type": "markdown",
   "id": "58edf3d8-4691-4848-9676-d8c947a8c088",
   "metadata": {},
   "source": [
    "**Boundary Integral Equation** \n",
    "\n",
    "We carefully apply the Dirichlet trace on the ansatz for $u$, we get a boundary integral equation for the Neumann data $j \\in H^{-\\frac12}(\\Gamma)$ which can be read as follows: determine $j$ such that \n",
    "\n",
    "$$\\begin{array}{r c ccccc} \\forall \\, v\\in H^{-\\frac12}(\\Gamma): && \\displaystyle \\int\\limits_\\Gamma \\gamma_0 \\left(\\mathrm{SL}(j)\\right) \\cdot v \\, \\mathrm d s &=& \\displaystyle \\int\\limits_\\Gamma m \\cdot v \\, \\mathrm d s &+& \\displaystyle \\int\\limits_\\Gamma \\gamma_0 \\left(\\mathrm{DL}(m)\\right)\\cdot v \\, \\mathrm d s \\\\[2ex] & \\Rightarrow & \\mathrm{V}\\,\\mathrm{j} &=& \\displaystyle \\frac12\\,\\mathrm{M} \\, \\mathrm m &+&  \\mathrm K\\, \\mathrm m \\,. \\end{array} $$ "
   ]
  },
  {
   "cell_type": "markdown",
   "id": "34b34f68-3395-40b2-a0ec-93955123c232",
   "metadata": {},
   "source": [
    "The discretisation of the above variational formulation is the boundary element method and it leads to a system of linear equations, ie \n",
    "\n",
    "$$ \\mathrm{V} \\, \\mathrm{j} = \\left( \\frac12 \\,\\mathrm{M} + \\mathrm{K} \\right) \\, \\mathrm{m}\\,, $$ \n",
    "where the linear operators are as follows\n",
    "- $\\mathrm{V}$ is the single layer operator. $\\mathrm V$ is regular and symmetric.\n",
    "- $\\mathrm{M}$ is a mass matrix.\n",
    "- $\\mathrm{K}$ is the double layer operator. "
   ]
  },
  {
   "cell_type": "markdown",
   "id": "fb9c361b-e6d3-4295-aa2b-b0a3d8d7679a",
   "metadata": {},
   "source": [
    "**Details**\n",
    "  \n",
    "For any $v_i, u_j\\in H^{-\\frac12}(\\Gamma)$ and $w_j \\in H^{\\frac12}(\\Gamma)$ the layer potential operators are implemented as follows \n",
    "\n",
    "$$ \\begin{array}{rcl cl} V_{ij} &=& \\langle v_i, \\gamma_0 \\mathrm{SL}(u_j) \\rangle_{-\\frac12} &=& \\displaystyle \\frac{1}{4\\pi}\\, \\displaystyle \\int\\limits_\\Gamma \\int\\limits_\\Gamma \\frac{1}{\\|x-y\\|} \\, u_j(x) \\, v_i(y) \\, \\mathrm{d} s_{y} \\, \\mathrm{d} s_x\\,, \\\\[2ex] K_{ij} &=& \\langle v_i, \\gamma_0 \\mathrm{DL}(w_j) \\rangle_{-\\frac12} &=& \\displaystyle \\frac{1}{4\\pi} \\int\\limits_\\Gamma\\int\\limits_\\Gamma n_y\\cdot \\nabla_y \\frac{1}{\\|x-y\\|} \\, w_j(x) \\, v_i(y) \\, \\mathrm{d} s_{y} \\, \\mathrm{d} s_x \\end{array}$$\n",
    "\n",
    "\n",
    "You may assemble $V$ and $K$ it by\n",
    "\n",
    "```\n",
    "V = LaplaceSL(u*ds)*v*ds\n",
    "K = LaplaceDL(w*ds)*v*ds\n",
    "```"
   ]
  },
  {
   "cell_type": "markdown",
   "id": "bd4292d0-1b19-4847-9f8f-d3660ba78c4a",
   "metadata": {},
   "source": [
    "We generate the linear operators and solve for the Neumann data $j$ using an iterative solver:"
   ]
  },
  {
   "cell_type": "code",
   "execution_count": null,
   "id": "2dafa1fc-8fd2-47b3-a7c7-87c6070c362e",
   "metadata": {},
   "outputs": [],
   "source": [
    "j = GridFunction(fesL2)\n",
    "pre = BilinearForm(u*v*ds, diagonal=True).Assemble().mat.Inverse()\n",
    "with TaskManager():\n",
    "    V = LaplaceSL(u*ds)*v*ds\n",
    "    K = LaplaceDL(uH1*ds)*v*ds\n",
    "    M = BilinearForm(uH1*v*ds(bonus_intorder=3)).Assemble()\n",
    "    \n",
    "    rhs = ( (0.5 * M.mat + K.mat)*m.vec).Evaluate()\n",
    "    CG(mat = V.mat, pre=pre, rhs = rhs, sol=j.vec, tol=1e-8, maxsteps=50, initialize=False, printrates=True)\n",
    "\n",
    "Draw (j, mesh, draw_vol=False, order=3);"
   ]
  },
  {
   "cell_type": "markdown",
   "id": "81767284-bfe5-4cdf-8d97-1f1b607f9588",
   "metadata": {},
   "source": [
    "Let's have a look at the exact Neumann data and compute the error of the numerical solution:"
   ]
  },
  {
   "cell_type": "code",
   "execution_count": null,
   "id": "3446124b-f8ed-4a0c-8965-44808171ad87",
   "metadata": {
    "scrolled": true
   },
   "outputs": [],
   "source": [
    "graduexa = CF( (uexa.Diff(x), uexa.Diff(y), uexa.Diff(z)) )\n",
    "n = specialcf.normal(3)\n",
    "jexa = graduexa*n\n",
    "Draw (jexa, mesh, draw_vol=False, order=3);\n",
    "print (\"L2-error =\", sqrt (Integrate ( (jexa-j)**2, mesh, BND)))"
   ]
  },
  {
   "cell_type": "markdown",
   "id": "07475e90-1551-4b36-ac44-0c5312aeaa2a",
   "metadata": {},
   "source": [
    "**Project repformula in H1**"
   ]
  },
  {
   "cell_type": "markdown",
   "id": "e4705bf1-90d3-4ea5-9efc-170667664ad3",
   "metadata": {},
   "source": [
    "Evaluate the solution on a screen inside $\\Omega$ "
   ]
  },
  {
   "cell_type": "code",
   "execution_count": null,
   "id": "20eca0c0-63d0-4d93-8070-864aef6452de",
   "metadata": {},
   "outputs": [],
   "source": [
    "screen = WorkPlane(Axes( (0,0,0), Z, X)).RectangleC(0.5,0.5).Face()\n",
    "screen.faces.name=\"screen\"\n",
    "vismesh = screen.GenerateMesh(maxh=0.05)"
   ]
  },
  {
   "cell_type": "code",
   "execution_count": null,
   "id": "fb9ec5da-b47d-46f3-a32d-36a181638c00",
   "metadata": {},
   "outputs": [],
   "source": [
    "LSPotential = LaplaceSL( u*ds )\n",
    "LDPotential = LaplaceDL( uH1*ds )"
   ]
  },
  {
   "cell_type": "code",
   "execution_count": null,
   "id": "39dfcf8a-e001-40df-a806-77a47b9694d6",
   "metadata": {},
   "outputs": [],
   "source": [
    "repformula = LSPotential(j) - LDPotential(m)\n",
    "fes_screen = H1(vismesh, order=5)\n",
    "gf_screen = GridFunction(fes_screen)\n",
    "with TaskManager():\n",
    "    gf_screen.Set(repformula, definedon=vismesh.Boundaries(\"screen\"))\n",
    "Draw(gf_screen)\n",
    "Draw(repformula - uexa, vismesh)"
   ]
  },
  {
   "cell_type": "code",
   "execution_count": null,
   "id": "7652a650-f3e7-4d90-9fed-99b4f96d399f",
   "metadata": {},
   "outputs": [],
   "source": [
    "type(LSPotential)"
   ]
  },
  {
   "cell_type": "code",
   "execution_count": null,
   "id": "3db028fb-61bd-484e-8fe6-5fe939394fd6",
   "metadata": {},
   "outputs": [],
   "source": []
  }
 ],
 "metadata": {
  "kernelspec": {
   "display_name": "Python 3 (ipykernel)",
   "language": "python",
   "name": "python3"
  },
  "language_info": {
   "codemirror_mode": {
    "name": "ipython",
    "version": 3
   },
   "file_extension": ".py",
   "mimetype": "text/x-python",
   "name": "python",
   "nbconvert_exporter": "python",
   "pygments_lexer": "ipython3",
   "version": "3.12.3"
  }
 },
 "nbformat": 4,
 "nbformat_minor": 5
}
