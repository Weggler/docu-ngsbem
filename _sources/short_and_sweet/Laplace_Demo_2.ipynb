{
 "cells": [
  {
   "cell_type": "markdown",
   "id": "2a52dea9-c14a-42b3-b2ce-b9531b60fa8c",
   "metadata": {},
   "source": [
    "Laplace Demo 2\n",
    "======================================================\n",
    "**keys**: homogeneous Neumann bvp, double layer potential ansatz, hypersingular operator, electrostatics"
   ]
  },
  {
   "cell_type": "code",
   "execution_count": null,
   "id": "813a7d56-14bb-412e-ad82-828c7954d860",
   "metadata": {},
   "outputs": [],
   "source": [
    "from netgen.occ import *\n",
    "from ngsolve import *\n",
    "from ngsolve.webgui import Draw\n",
    "from ngbem import *\n",
    "from ngsolve import Projector, Preconditioner\n",
    "from ngsolve.krylovspace import CG"
   ]
  },
  {
   "cell_type": "markdown",
   "id": "569d07a9-d847-4149-90a4-da2dcd3b843b",
   "metadata": {},
   "source": [
    "|Neumann Boundary Value Problem | | Double Layer Potential | | Variational Formulation | \n",
    "|:-:|-|:-:|-|:-:|\n",
    "| $ \\left\\{ \\begin{array}{rcl l} -\\Delta u &=& 0, \\quad &\\Omega  \\\\ \\gamma_1 u&=& u_1, \\quad &\\Gamma \\end{array} \\right. $ | $\\quad \\Rightarrow \\quad$ | $ u(x) = \\mathrm{DL}(m) $ | $\\quad \\Rightarrow \\quad$ |  $\\left\\langle v, \\gamma_1 \\left(\\mathrm{DL}(m)\\right) \\right\\rangle_{-\\frac12} = \\left\\langle u_1, v\\right\\rangle_{-\\frac12} $ |\n",
    "| | | | | |\n",
    "| ![](resources/BEM_interior.png) | | | |  $\\mathrm{D} \\, \\mathrm{m} =  \\mathrm{M} \\, \\mathrm{u}_1 $ |\n",
    "\n",
    "| NG-BEM Python interface | symbol |  FE trial space | FE test space |   \n",
    "|-|:-:|-|-|\n",
    "|`SingleLayerPotentialOperator` | $\\mathrm V $ |  `SurfaceL2` | `SurfaceL2`|\n",
    "|`DoubleLayerPotentialOperator` | $\\mathrm K $ | $\\gamma_0$ `H1` | `SurfaceL2` |\n",
    "|`HypersingularOperator       ` | $\\mathrm D$  | $\\gamma_0$ `H1` | $\\gamma_0$ `H1` |\n",
    "|`DoubleLayerPotentialOperator` | $\\mathrm K'$ | `SurfaceL2` | $\\gamma_0$ `H1` |    "
   ]
  },
  {
   "cell_type": "markdown",
   "id": "287efd33-3b03-43a0-b161-92dc6e8dc5e4",
   "metadata": {},
   "source": [
    "**Mesh**"
   ]
  },
  {
   "cell_type": "code",
   "execution_count": null,
   "id": "fdc2b350-833b-47d0-b37f-c2a2ce73f9c2",
   "metadata": {},
   "outputs": [],
   "source": [
    "sp = Sphere( (0,0,0), 1)\n",
    "mesh = Mesh( OCCGeometry(sp).GenerateMesh(maxh=0.3)).Curve(2)\n",
    "Draw(mesh);"
   ]
  },
  {
   "cell_type": "markdown",
   "id": "aa9c28c5-febb-4771-81b7-1ff023b019ae",
   "metadata": {},
   "source": [
    "**Trial and Test Spaces**"
   ]
  },
  {
   "cell_type": "code",
   "execution_count": null,
   "id": "9078bc2e-e3de-4564-a6f2-69553e6d1c39",
   "metadata": {},
   "outputs": [],
   "source": [
    "fesH1 = H1(mesh, order=1, definedon=mesh.Boundaries(\".*\"))\n",
    "uH1,vH1 = fesH1.TnT()"
   ]
  },
  {
   "cell_type": "markdown",
   "id": "97c56d60-ab54-4e23-afd4-1436868c35fd",
   "metadata": {},
   "source": [
    "**Right Hand Side $\\;\\mathrm{M}\\mathrm{1}_0$** "
   ]
  },
  {
   "cell_type": "code",
   "execution_count": null,
   "id": "da3065d0-817d-4268-a14a-c9494e084ab3",
   "metadata": {},
   "outputs": [],
   "source": [
    "uexa = 1/ sqrt( (x-1)**2 + (y-1)**2 + (z-1)**2 )\n",
    "graduexa = CF( (uexa.Diff(x), uexa.Diff(y), uexa.Diff(z)) )\n",
    "\n",
    "n = specialcf.normal(3)\n",
    "u1exa = graduexa*n\n",
    "Mu1 = LinearForm(u1exa*vH1.Trace()*ds(bonus_intorder=3)).Assemble()"
   ]
  },
  {
   "cell_type": "markdown",
   "id": "28919ee9-0164-4a9e-8ea7-5c22681609e9",
   "metadata": {},
   "source": [
    "**System Matrix $\\, \\mathrm{D}$** "
   ]
  },
  {
   "cell_type": "code",
   "execution_count": null,
   "id": "a5f93b0c-e8b1-4910-a0f1-2b3061bd3dfd",
   "metadata": {},
   "outputs": [],
   "source": [
    "D=HypersingularOperator(fesH1, intorder=12, leafsize=40, eta=3., eps=1e-11, method=\"aca\")"
   ]
  },
  {
   "cell_type": "markdown",
   "id": "ccbe5489-cc07-4410-9011-6484f0f9ad95",
   "metadata": {},
   "source": [
    "**Stabilization Matrix $\\, \\mathrm{S}$**"
   ]
  },
  {
   "cell_type": "code",
   "execution_count": null,
   "id": "08cd62aa-9014-4a70-ae17-290dfd2de5c5",
   "metadata": {},
   "outputs": [],
   "source": [
    "vH1m1 = LinearForm(vH1*1*ds(bonus_intorder=3)).Assemble()\n",
    "S = (BaseMatrix(Matrix(vH1m1.vec.Reshape(1))))@(BaseMatrix(Matrix(vH1m1.vec.Reshape(fesH1.ndof))))"
   ]
  },
  {
   "cell_type": "markdown",
   "id": "8522a43c-9dfe-4a71-a2d0-4b87388af972",
   "metadata": {},
   "source": [
    "**Solve $\\; \\left(\\mathrm{D} + \\mathrm{S}\\right) \\mathrm{m} = \\mathrm{M}\\mathrm{u}_1$**"
   ]
  },
  {
   "cell_type": "code",
   "execution_count": null,
   "id": "7e872d44-2db1-47c6-bb03-cff11a9fcba4",
   "metadata": {},
   "outputs": [],
   "source": [
    "m = GridFunction(fesH1)\n",
    "pre = BilinearForm(uH1*vH1*ds).Assemble().mat.Inverse(freedofs=fesH1.FreeDofs()) \n",
    "with TaskManager(): \n",
    "    CG(mat = D.mat+S, pre=pre, rhs = Mu1.vec, sol=m.vec, tol=1e-8, maxsteps=200, initialize=False, printrates=False)\n",
    "Draw (m, mesh, draw_vol=False, order=3);"
   ]
  },
  {
   "cell_type": "markdown",
   "id": "48ab0e23-5745-4c63-959c-ecc6c6ba9db2",
   "metadata": {},
   "source": [
    "Note: Details for instance in [Numerische Näherungsverfahren für elliptische Randwertprobleme](https://link.springer.com/book/10.1007/978-3-322-80054-1), p.127, p.259 (1st edition)."
   ]
  }
 ],
 "metadata": {
  "kernelspec": {
   "display_name": "Python 3 (ipykernel)",
   "language": "python",
   "name": "python3"
  },
  "language_info": {
   "codemirror_mode": {
    "name": "ipython",
    "version": 3
   },
   "file_extension": ".py",
   "mimetype": "text/x-python",
   "name": "python",
   "nbconvert_exporter": "python",
   "pygments_lexer": "ipython3",
   "version": "3.11.6"
  }
 },
 "nbformat": 4,
 "nbformat_minor": 5
}
