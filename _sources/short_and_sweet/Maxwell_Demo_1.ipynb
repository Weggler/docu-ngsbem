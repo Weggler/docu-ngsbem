{
 "cells": [
  {
   "cell_type": "markdown",
   "id": "27439a9a-bf23-4761-bb28-b73132b97f25",
   "metadata": {},
   "source": [
    "Maxwell Demo 1\n",
    "=============================\n",
    "**keys**: exterior Dirichlet bvp, Maxwell single layer potential, EFIE, PEC scattering"
   ]
  },
  {
   "cell_type": "code",
   "execution_count": null,
   "id": "4220f8af-1580-467a-801e-6ef49d43c70c",
   "metadata": {},
   "outputs": [],
   "source": [
    "from netgen.occ import *\n",
    "import netgen.meshing as meshing\n",
    "from ngsolve import *\n",
    "from ngsolve.webgui import Draw\n",
    "from ngbem import *\n",
    "from ngsolve import Projector, Preconditioner\n",
    "from ngsolve.krylovspace import CG"
   ]
  },
  {
   "cell_type": "markdown",
   "id": "60f033eb-7ce3-464f-a114-cbcd2b784c83",
   "metadata": {},
   "source": [
    "|Dirichlet Boundary Value Problem | | Maxwell Single Layer Potential | | Variational Formulation | \n",
    "|:-:|-|:-:|-|:-:|\n",
    "| $ \\left\\{ \\begin{array}{rcl l} \\mathbf{curl} \\, \\mathbf{curl}\\, \\boldsymbol E - \\kappa^2 \\, \\boldsymbol E &=& \\boldsymbol 0, \\quad &\\textnormal{in } \\Omega^c \\subset \\mathbb R^3\\,,\\\\ \\gamma_R \\,\\boldsymbol E &=& \\boldsymbol m, \\quad & \\textnormal{on }\\Gamma \\\\ \\left\\| \\mathbf{curl} \\, \\boldsymbol E( x) - i\\,\\omega\\,\\epsilon \\, \\boldsymbol E( x)\\right\\| &=& \\mathcal O\\left( \\displaystyle \\frac{1}{\\| x\\|^2}\\right), &\\textnormal{for} \\; \\|x\\| \\to \\infty\\,.\\end{array} \\right. $ | $\\quad \\Rightarrow \\quad$ | $ \\boldsymbol E(x) = \\mathrm{SL}(j) $ | $\\quad \\Rightarrow \\quad$ |  $\\left\\langle \\,\\mathrm{SL} (\\boldsymbol j),\\, \\boldsymbol v \\right\\rangle_{-\\frac12} = \\left\\langle \\boldsymbol m , \\boldsymbol v\\right\\rangle_{-\\frac12} $ |\n",
    "| | | | | |\n",
    "| ![](resources/BEM_exterior.png) | | | |  $\\mathrm{V} \\, \\mathrm{j} =  \\mathrm{M} \\, \\mathrm{m} $ |\n",
    "\n",
    "| NG-BEM Python interface  | symbol | FE trial space | FE test space | \n",
    "|-|:-:|-|-|\n",
    "| `MaxwellSingleLayerPotentialOperator` | $\\mathrm V$ | `HDivSurface` | `HDivSurface` | \n",
    "| `MaxwellDoubleLayerPotentialOperator` | $\\mathrm K$ | $\\gamma_R$ `HCurl`| `HDivSurface `|\n",
    "| `MaxwellSingleLayerPotentialOperatorCurl` | $\\mathrm D$ | $\\gamma_R$ `HCurl` | $\\gamma_R$  `HCurl `|\n",
    "| `MaxwellDoublelayerPotentialOperator` | $\\mathrm K'$ | `HDivSurface` | $\\gamma_R$  `HCurl` | "
   ]
  },
  {
   "cell_type": "markdown",
   "id": "c74e2639-0d66-49ca-84e1-62a4631f1652",
   "metadata": {},
   "source": [
    "**Mesh**"
   ]
  },
  {
   "cell_type": "code",
   "execution_count": null,
   "id": "b3bee3e9-b23a-43dd-b5d9-8f9265af827a",
   "metadata": {},
   "outputs": [],
   "source": [
    "sp = Sphere( (0,0,0), 1)\n",
    "mesh = Mesh( OCCGeometry(sp).GenerateMesh(maxh=1, perfstepsend=meshing.MeshingStep.MESHSURFACE)).Curve(4)"
   ]
  },
  {
   "cell_type": "markdown",
   "id": "e8c31fe0-9761-494b-9ab7-81a88a8c9bbb",
   "metadata": {},
   "source": [
    "**Trial and Test Functions**"
   ]
  },
  {
   "cell_type": "code",
   "execution_count": null,
   "id": "5a6ee11f-4bc6-4cc8-9408-c4d6d9c4727d",
   "metadata": {},
   "outputs": [],
   "source": [
    "fesHCurl = HCurl(mesh, order=3, complex=True)\n",
    "fesHDiv = HDivSurface(mesh, order=3, complex=True)\n",
    "uHCurl,vHCurl = fesHCurl.TnT() \n",
    "uHDiv,vHDiv = fesHDiv.TnT()"
   ]
  },
  {
   "cell_type": "markdown",
   "id": "072b149e-d83c-46f6-9d30-b0a432e7dcdd",
   "metadata": {},
   "source": [
    "**Dirichlet Data**"
   ]
  },
  {
   "cell_type": "code",
   "execution_count": null,
   "id": "2ea25412-738b-469b-a30c-990d32089e9c",
   "metadata": {},
   "outputs": [],
   "source": [
    "eps0 = 8.854e-12 \n",
    "mu0 = 4*pi*1e-7\n",
    "omega = 1.5e9\n",
    "kappa = omega*sqrt(eps0*mu0)\n",
    "E_inc = CF((0,1,0))*exp(1j * kappa * x )\n",
    "n = specialcf.normal(3)\n",
    "m = - Cross( Cross(n, E_inc), n)\n",
    "Draw(Norm(m), mesh, draw_vol=False, order=2) ;"
   ]
  },
  {
   "cell_type": "markdown",
   "id": "2d42750a-50ce-445a-b547-bb64f74aa98f",
   "metadata": {},
   "source": [
    "**Right Hand Side $\\, \\mathrm{rhs} = \\mathrm{M}\\,\\mathrm{m}$**"
   ]
  },
  {
   "cell_type": "code",
   "execution_count": null,
   "id": "5da7bba5-fe7a-4b35-814e-50f380c0c338",
   "metadata": {},
   "outputs": [],
   "source": [
    "rhs = LinearForm( m * vHDiv.Trace() *ds(bonus_intorder=3) ).Assemble()"
   ]
  },
  {
   "cell_type": "markdown",
   "id": "c9255ee1-9bb1-47a3-a3f1-12fc048bb19e",
   "metadata": {},
   "source": [
    "**System Matrix $ \\,\\mathrm{V}$**"
   ]
  },
  {
   "cell_type": "code",
   "execution_count": null,
   "id": "86468414-ef61-462e-a97d-6dbd0e1f5098",
   "metadata": {},
   "outputs": [],
   "source": [
    "V = MaxwellSingleLayerPotentialOperator(fesHDiv, kappa, intorder=10, leafsize=40, eta=3., eps=1e-4)"
   ]
  },
  {
   "cell_type": "markdown",
   "id": "db8770a7-148b-4bdf-b33f-a3efa9531a40",
   "metadata": {},
   "source": [
    "**Solve $ \\,\\mathrm{V} \\mathrm j = \\mathrm{rhs}$**"
   ]
  },
  {
   "cell_type": "code",
   "execution_count": null,
   "id": "e80a4da5-002a-4ef6-959b-8d70a2901e75",
   "metadata": {},
   "outputs": [],
   "source": [
    "j = GridFunction(fesHDiv)\n",
    "pre = BilinearForm( uHDiv.Trace() * vHDiv.Trace() *ds ).Assemble().mat.Inverse(freedofs=fesHDiv.FreeDofs()) \n",
    "with TaskManager(): \n",
    "    CG(mat = V.mat, pre=pre, rhs = rhs.vec, sol=j.vec, tol=1e-8, maxsteps=500, initialize=False, printrates=False)\n",
    "Draw( j, mesh, draw_vol=False, order=3, min=-2, max=2, animate_complex=True);"
   ]
  },
  {
   "cell_type": "markdown",
   "id": "ab4aa5bb-60c9-4fdd-90ec-c4d5e228d8b8",
   "metadata": {},
   "source": [
    "**Evaluate the Scattered Field on Screen**"
   ]
  },
  {
   "cell_type": "code",
   "execution_count": null,
   "id": "2616eeef-bdcd-4093-ba3c-fe4d147ac335",
   "metadata": {},
   "outputs": [],
   "source": [
    "screen = WorkPlane(Axes( (0,0,-3.5), Z, X)).RectangleC(20,20).Face()\n",
    "mesh_screen = Mesh( OCCGeometry(screen).GenerateMesh(maxh=1)).Curve(1)\n",
    "fes_screen = HCurl(mesh_screen, order=3, complex=True)\n",
    "E_screen = GridFunction(fes_screen)\n",
    "E_screen.Set (V.GetPotential(j)[0:3], definedon=mesh_screen.Boundaries(\".*\"))\n",
    "Draw( E_screen, mesh_screen, draw_vol=False, order=3, min=0, max=0.038, animate_complex=True);"
   ]
  },
  {
   "cell_type": "markdown",
   "id": "48161245-cbb2-4abe-8a07-b159a2e0928c",
   "metadata": {},
   "source": [
    "**Get the Far Field Pattern**"
   ]
  },
  {
   "cell_type": "code",
   "execution_count": null,
   "id": "68517fff-28d1-4019-a689-c9e7b7abc51f",
   "metadata": {},
   "outputs": [],
   "source": [
    "screen = Sphere( (0,0,0), 20)\n",
    "mesh_screen = Mesh( OCCGeometry(screen).GenerateMesh(maxh=1, perfstepsend=meshing.MeshingStep.MESHSURFACE)).Curve(4)\n",
    "fes_screen = HCurl(mesh_screen, order=3, complex=True)\n",
    "E_screen = GridFunction(fes_screen)\n",
    "E_screen.Set (V.GetPotential(j)[0:3], definedon=mesh_screen.Boundaries(\".*\"))\n",
    "Draw(kappa*300*Norm(E_screen)*n, mesh_screen, deformation=True);"
   ]
  },
  {
   "cell_type": "markdown",
   "id": "ea385457-1e87-40f9-819d-9203aa52c828",
   "metadata": {},
   "source": [
    "**Note:** For details on convergence rates and low frequency stabilisation of the EFIE look [here](https://publikationen.sulb.uni-saarland.de/bitstream/20.500.11880/26312/1/thesis_weggler_final_6.1.12.pdf)."
   ]
  },
  {
   "cell_type": "code",
   "execution_count": null,
   "id": "abb3181b-0d1a-4a7a-8ece-38eda6bb489f",
   "metadata": {},
   "outputs": [],
   "source": []
  }
 ],
 "metadata": {
  "kernelspec": {
   "display_name": "Python 3 (ipykernel)",
   "language": "python",
   "name": "python3"
  },
  "language_info": {
   "codemirror_mode": {
    "name": "ipython",
    "version": 3
   },
   "file_extension": ".py",
   "mimetype": "text/x-python",
   "name": "python",
   "nbconvert_exporter": "python",
   "pygments_lexer": "ipython3",
   "version": "3.11.6"
  }
 },
 "nbformat": 4,
 "nbformat_minor": 5
}
