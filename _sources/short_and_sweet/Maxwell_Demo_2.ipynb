{
 "cells": [
  {
   "cell_type": "markdown",
   "id": "27439a9a-bf23-4761-bb28-b73132b97f25",
   "metadata": {},
   "source": [
    "Maxwell Demo 2\n",
    "=============================\n",
    "**keys**: exterior Dirichlet bvp, Maxwell single layer potential, EFIE, PEC scattering"
   ]
  },
  {
   "cell_type": "code",
   "execution_count": null,
   "id": "4220f8af-1580-467a-801e-6ef49d43c70c",
   "metadata": {},
   "outputs": [],
   "source": [
    "from netgen.occ import *\n",
    "import netgen.meshing as meshing\n",
    "from ngsolve import *\n",
    "from ngsolve.webgui import Draw\n",
    "from ngbem import *\n",
    "from ngsolve import Projector, Preconditioner\n",
    "from ngsolve.krylovspace import CG, GMRes"
   ]
  },
  {
   "cell_type": "markdown",
   "id": "a505f0f8-ceb7-4e39-a9c7-9da9ea46d18a",
   "metadata": {},
   "source": [
    "|Dirichlet Boundary Value Problem | | Maxwell Single Layer Potential | | Variational Formulation | \n",
    "|:-:|-|:-:|-|:-:|\n",
    "| $ \\left\\{ \\begin{array}{rcl l} \\mathbf{curl} \\, \\mathbf{curl}\\, \\boldsymbol E - \\kappa^2 \\, \\boldsymbol E &=& \\boldsymbol 0, \\quad &\\textnormal{in } \\Omega^c \\subset \\mathbb R^3\\,,\\\\ \\gamma_R \\,\\boldsymbol E &=& \\boldsymbol m, \\quad & \\textnormal{on }\\Gamma \\\\ \\left\\| \\mathbf{curl} \\, \\boldsymbol E( x) - i\\,\\omega\\,\\epsilon \\, \\boldsymbol E( x)\\right\\| &=& \\mathcal O\\left( \\displaystyle \\frac{1}{\\| x\\|^2}\\right), &\\textnormal{for} \\; \\|x\\| \\to \\infty\\,.\\end{array} \\right. $ | $\\quad \\Rightarrow \\quad$ | $ \\boldsymbol E(x) = \\mathrm{SL}(j) $ | $\\quad \\Rightarrow \\quad$ |  $\\left\\langle \\,\\mathrm{SL} (\\boldsymbol j),\\, \\boldsymbol v \\right\\rangle_{-\\frac12} = \\left\\langle \\boldsymbol m , \\boldsymbol v\\right\\rangle_{-\\frac12} $ |\n",
    "| | | | | |\n",
    "| ![](resources/BEM_exterior_Ship.png) | | | |  $\\mathrm{V} \\, \\mathrm{j} =  \\mathrm{M} \\, \\mathrm{m} $ |\n",
    "\n",
    "| NG-BEM Python interface  | symbol | FE trial space | FE test space | \n",
    "|-|:-:|-|-|\n",
    "| `MaxwellSingleLayerPotentialOperator` | $\\mathrm V$ | `HDivSurface` | `HDivSurface` | \n",
    "| `MaxwellDoubleLayerPotentialOperator` | $\\mathrm K$ | $\\gamma_R$ `HCurl`| `HDivSurface `|\n",
    "| `MaxwellSingleLayerPotentialOperatorCurl` | $\\mathrm D$ | $\\gamma_R$ `HCurl` | $\\gamma_R$  `HCurl `|\n",
    "| `MaxwellDoublelayerPotentialOperator` | $\\mathrm K'$ | `HDivSurface` | $\\gamma_R$  `HCurl` | "
   ]
  },
  {
   "cell_type": "markdown",
   "id": "c74e2639-0d66-49ca-84e1-62a4631f1652",
   "metadata": {},
   "source": [
    "**Mesh**"
   ]
  },
  {
   "cell_type": "code",
   "execution_count": null,
   "id": "b3bee3e9-b23a-43dd-b5d9-8f9265af827a",
   "metadata": {},
   "outputs": [],
   "source": [
    "mesh = Mesh(\"resources/ship_1.stl\")\n",
    "mesh.Curve(1);"
   ]
  },
  {
   "cell_type": "markdown",
   "id": "93b05a6e-c64d-4994-bd93-f0ad053d8df1",
   "metadata": {},
   "source": [
    "**Trail and Test Functions**"
   ]
  },
  {
   "cell_type": "code",
   "execution_count": null,
   "id": "5a6ee11f-4bc6-4cc8-9408-c4d6d9c4727d",
   "metadata": {},
   "outputs": [],
   "source": [
    "order = 3\n",
    "fesHDiv = HDivSurface(mesh, order=order, complex=True)\n",
    "uHDiv,vHDiv = fesHDiv.TnT() \n",
    "fesHCurl = HCurl(mesh, order=order, complex=True)\n",
    "uHCurl, vHCurl = fesHCurl.TnT() "
   ]
  },
  {
   "cell_type": "markdown",
   "id": "b9e1170f-4f42-4076-9ff0-23e4ae931a82",
   "metadata": {},
   "source": [
    "**Dirichlet Data**"
   ]
  },
  {
   "cell_type": "code",
   "execution_count": null,
   "id": "2ea25412-738b-469b-a30c-990d32089e9c",
   "metadata": {},
   "outputs": [],
   "source": [
    "a = -0.758\n",
    "b = -0.453\n",
    "c = -0.524\n",
    "E_inc = CF( (-c, 0., a) ) * exp( -1j * (a * x + b * y + c * z))\n",
    "kappa = sqrt( a*a + b*b + c*c)\n",
    "n = specialcf.normal(3)\n",
    "m_exa = -Cross(Cross(n, E_inc), n)\n",
    "m = GridFunction(fesHCurl)\n",
    "m.Set(-E_inc, definedon=mesh.Boundaries(\".*\"), dual=True)\n",
    "Draw(m[0].real, mesh, draw_vol=False, order=3, min=-0.5, max=0.5);"
   ]
  },
  {
   "cell_type": "markdown",
   "id": "6520bd16-fa2d-457d-afc1-5a66ae2f20d8",
   "metadata": {},
   "source": [
    "**Right Hand Side**"
   ]
  },
  {
   "cell_type": "code",
   "execution_count": null,
   "id": "f9a4b928-6958-442e-83a3-964c806437db",
   "metadata": {},
   "outputs": [],
   "source": [
    "rhs = LinearForm( - E_inc* vHDiv.Trace() * ds(bonus_intorder=20)).Assemble()"
   ]
  },
  {
   "cell_type": "markdown",
   "id": "ec7a1891-6d64-4dc0-90a3-b4a8b5aafb85",
   "metadata": {},
   "source": [
    "**System Matrix $\\,\\mathrm{V}$**"
   ]
  },
  {
   "cell_type": "code",
   "execution_count": null,
   "id": "b41b00e8-e2a9-471f-ad66-a02347160822",
   "metadata": {},
   "outputs": [],
   "source": [
    "V = MaxwellSingleLayerPotentialOperator(fesHDiv, kappa, intorder=16, leafsize=100, eta=3, eps=1e-8)"
   ]
  },
  {
   "cell_type": "markdown",
   "id": "0a7fe004-e8e2-46fc-965b-15bcc45b03c0",
   "metadata": {},
   "source": [
    "**Solve $\\, \\mathrm{V} \\mathrm j = \\mathrm{rhs}$**"
   ]
  },
  {
   "cell_type": "code",
   "execution_count": null,
   "id": "154ac1e2-2a95-434a-bdb5-2b0e021125af",
   "metadata": {},
   "outputs": [],
   "source": [
    "j = GridFunction(fesHDiv)\n",
    "with TaskManager():\n",
    "    pre = BilinearForm(uHDiv.Trace() * vHDiv.Trace() * ds).Assemble().mat.Inverse(freedofs=fesHDiv.FreeDofs()) \n",
    "    GMRes(A=V.mat, pre=pre, b=rhs.vec, x=j.vec, tol=1e-8, maxsteps=5000, printrates=False)\n",
    "Draw (j[0].real, mesh, draw_vol=False, order=3, min=-0.15, max=0.15);"
   ]
  },
  {
   "cell_type": "markdown",
   "id": "12cd80e1-6e61-4082-a1f8-9df3d3e38f9e",
   "metadata": {},
   "source": [
    "Note: more demos are available [here](https://github.com/Weggler/ngbem)."
   ]
  },
  {
   "cell_type": "code",
   "execution_count": null,
   "id": "c71ee21c-bd7e-4135-820c-015a0aa3b2dd",
   "metadata": {},
   "outputs": [],
   "source": []
  }
 ],
 "metadata": {
  "kernelspec": {
   "display_name": "Python 3 (ipykernel)",
   "language": "python",
   "name": "python3"
  },
  "language_info": {
   "codemirror_mode": {
    "name": "ipython",
    "version": 3
   },
   "file_extension": ".py",
   "mimetype": "text/x-python",
   "name": "python",
   "nbconvert_exporter": "python",
   "pygments_lexer": "ipython3",
   "version": "3.11.6"
  }
 },
 "nbformat": 4,
 "nbformat_minor": 5
}
