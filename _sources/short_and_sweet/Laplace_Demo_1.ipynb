{
 "cells": [
  {
   "cell_type": "markdown",
   "id": "7ba2b304-c597-408f-8873-5b6f90444a7a",
   "metadata": {},
   "source": [
    "Laplace Demo 1\n",
    "=============================\n",
    "**keys**: homogeneous Dirichlet bvp, single layer potential ansatz, single layer potential operator, electrostatics"
   ]
  },
  {
   "cell_type": "code",
   "execution_count": null,
   "id": "667a666a-3324-4cc0-a3f0-47ba7aa32d5c",
   "metadata": {},
   "outputs": [],
   "source": [
    "from netgen.occ import *\n",
    "from ngsolve import *\n",
    "from ngsolve.webgui import Draw\n",
    "from ngbem import *\n",
    "from ngsolve import Projector, Preconditioner\n",
    "from ngsolve.krylovspace import CG"
   ]
  },
  {
   "cell_type": "markdown",
   "id": "50961f97-7070-470d-9e2f-37599b1645a7",
   "metadata": {},
   "source": [
    "|Dirichlet Boundary Value Problem | | Single Layer Potential | | Variational Formulation | \n",
    "|:-:|-|:-:|-|:-:|\n",
    "| $ \\left\\{ \\begin{array}{rcl l} -\\Delta u &=& 0, \\quad &\\Omega  \\\\ \\gamma_0 u&=& u_0, \\quad &\\Gamma \\end{array} \\right. $ | $\\quad \\Rightarrow \\quad$ | $ u(x) = \\mathrm{SL}(j) $ | $\\quad \\Rightarrow \\quad$ |  $\\left\\langle \\gamma_0 \\left(\\mathrm{SL}(j)\\right), v \\right\\rangle_{-\\frac12} = \\left\\langle u_0, v\\right\\rangle_{-\\frac12} $ |\n",
    "| | | | | |\n",
    "| ![](resources/BEM_interior.png) | | | |  $\\mathrm{V} \\, \\mathrm{j} =  \\mathrm{M} \\, \\mathrm{u}_0 $ |\n",
    "\n",
    "| NG-BEM Python interface | symbol |  FE trial space | FE test space |   \n",
    "|-|:-:|-|-|\n",
    "|`SingleLayerPotentialOperator` | $\\mathrm V $ |  `SurfaceL2` | `SurfaceL2`|\n",
    "|`DoubleLayerPotentialOperator` | $\\mathrm K $ | $\\gamma_0$ `H1` | `SurfaceL2` |\n",
    "|`HypersingularOperator       ` | $\\mathrm D$  | $\\gamma_0$ `H1` | $\\gamma_0$ `H1` |\n",
    "|`DoubleLayerPotentialOperator` | $\\mathrm K'$ | `SurfaceL2` | $\\gamma_0$ `H1` |               "
   ]
  },
  {
   "cell_type": "markdown",
   "id": "be5f96f2-32b2-4d48-883f-8bc994f9388d",
   "metadata": {},
   "source": [
    "**Mesh**"
   ]
  },
  {
   "cell_type": "code",
   "execution_count": 4,
   "id": "c7abb299-0827-4f90-8d0f-6239f08249b2",
   "metadata": {},
   "outputs": [
    {
     "data": {
      "application/vnd.jupyter.widget-view+json": {
       "model_id": "bd5ae772ee174157929d17bc0a4fd763",
       "version_major": 2,
       "version_minor": 0
      },
      "text/plain": [
       "WebGuiWidget(layout=Layout(height='50vh', width='100%'), value={'gui_settings': {}, 'ngsolve_version': '6.2.24…"
      ]
     },
     "metadata": {},
     "output_type": "display_data"
    }
   ],
   "source": [
    "sp = Sphere( (0,0,0), 1)\n",
    "mesh = Mesh( OCCGeometry(sp).GenerateMesh(maxh=0.3)).Curve(3)\n",
    "Draw(mesh);"
   ]
  },
  {
   "cell_type": "markdown",
   "id": "8f6fd26c-9809-458b-82e4-958a1206fd5a",
   "metadata": {},
   "source": [
    "**Trial and Test Functions**"
   ]
  },
  {
   "cell_type": "code",
   "execution_count": 5,
   "id": "d8c2c6d6-b3b3-4f91-8e2b-b63c146b6a09",
   "metadata": {},
   "outputs": [],
   "source": [
    "fesL2 = SurfaceL2(mesh, order=3, dual_mapping=True)\n",
    "u,v = fesL2.TnT()"
   ]
  },
  {
   "cell_type": "markdown",
   "id": "1b0307f4-ad7f-4252-84ab-f4c8b14c896d",
   "metadata": {},
   "source": [
    "**Right Hand Side $\\;\\mathrm{M}\\mathrm{u}_0$** "
   ]
  },
  {
   "cell_type": "code",
   "execution_count": 7,
   "id": "c3194f56-dc87-487a-9b08-1dcd99035665",
   "metadata": {},
   "outputs": [],
   "source": [
    "u0 = 1/ sqrt( (x-1)**2 + (y-1)**2 + (z-1)**2 )\n",
    "Mu0 = LinearForm (u0*v.Trace()*ds(bonus_intorder=3)).Assemble()"
   ]
  },
  {
   "cell_type": "markdown",
   "id": "bd4292d0-1b19-4847-9f8f-d3660ba78c4a",
   "metadata": {},
   "source": [
    "**System Matrix $ \\; \\mathrm{V}$**"
   ]
  },
  {
   "cell_type": "code",
   "execution_count": 9,
   "id": "113ccbaf-f73a-4843-ba94-f59cd8532493",
   "metadata": {},
   "outputs": [],
   "source": [
    "V = SingleLayerPotentialOperator(fesL2, intorder=10, method=\"aca\")    "
   ]
  },
  {
   "cell_type": "markdown",
   "id": "a733c4ea-8087-4610-9bc1-60b94457dce8",
   "metadata": {},
   "source": [
    "**Solve $\\; \\mathrm{V}\\mathrm{j} = \\mathrm{M}\\mathrm{u}_0$**"
   ]
  },
  {
   "cell_type": "code",
   "execution_count": 13,
   "id": "8acec479-eb95-4258-a200-2389cacdee45",
   "metadata": {},
   "outputs": [
    {
     "data": {
      "application/vnd.jupyter.widget-view+json": {
       "model_id": "1d507770fee444fb9f14b6861cab63b2",
       "version_major": 2,
       "version_minor": 0
      },
      "text/plain": [
       "WebGuiWidget(layout=Layout(height='50vh', width='100%'), value={'gui_settings': {}, 'ngsolve_version': '6.2.24…"
      ]
     },
     "metadata": {},
     "output_type": "display_data"
    }
   ],
   "source": [
    "j = GridFunction(fesL2)\n",
    "pre = BilinearForm(u*v*ds, diagonal=True).Assemble().mat.Inverse()\n",
    "with TaskManager(pajetrace=1000*1000*1000):  \n",
    "    CG(mat = V.mat, pre=pre, rhs = Mu0.vec, sol=j.vec, tol=1e-8, maxsteps=200, initialize=False, printrates=False)\n",
    "Draw (j);"
   ]
  },
  {
   "cell_type": "markdown",
   "id": "941acf67-d78e-469c-8b82-3f93ce6a2606",
   "metadata": {},
   "source": [
    "Notes:\n",
    "- For details on the analysis of boundary integral equations derived from elliptic partial differential equations, see for instance [Strongly Elliptic Systems and Boundary Integral Equations](https://www.cambridge.org/de/universitypress/subjects/mathematics/differential-and-integral-equations-dynamical-systems-and-co/strongly-elliptic-systems-and-boundary-integral-equations?format=HB&isbn=9780521663328).\n",
    "- In our implementation, the integration of singular pairings is done as proposed in [Randelementmethoden](https://link.springer.com/book/9783519003687)\n",
    "\n"
   ]
  },
  {
   "cell_type": "code",
   "execution_count": null,
   "id": "dd74e1db-a0fa-41eb-b198-e334ffa611d2",
   "metadata": {},
   "outputs": [],
   "source": []
  }
 ],
 "metadata": {
  "kernelspec": {
   "display_name": "Python 3 (ipykernel)",
   "language": "python",
   "name": "python3"
  },
  "language_info": {
   "codemirror_mode": {
    "name": "ipython",
    "version": 3
   },
   "file_extension": ".py",
   "mimetype": "text/x-python",
   "name": "python",
   "nbconvert_exporter": "python",
   "pygments_lexer": "ipython3",
   "version": "3.11.6"
  }
 },
 "nbformat": 4,
 "nbformat_minor": 5
}
