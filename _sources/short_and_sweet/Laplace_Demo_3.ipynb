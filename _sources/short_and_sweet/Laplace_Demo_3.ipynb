{
 "cells": [
  {
   "cell_type": "markdown",
   "id": "beea4d31-748e-4abc-86e7-df3a1a980917",
   "metadata": {},
   "source": [
    "Laplace Demo 3\n",
    "==============\n",
    "\n",
    "**keys**: exterior Dirichlet bvp, single and double layer potential, evaluate representation formula, plate capacitor"
   ]
  },
  {
   "cell_type": "code",
   "execution_count": null,
   "id": "979ea90d-25a0-4090-afee-8c10b3036030",
   "metadata": {},
   "outputs": [],
   "source": [
    "from ngsolve import *\n",
    "from netgen.occ import *\n",
    "import netgen.meshing as meshing\n",
    "from ngsolve.krylovspace import CG, GMRes\n",
    "from ngsolve.webgui import Draw\n",
    "from ngbem import *"
   ]
  },
  {
   "cell_type": "markdown",
   "id": "76dc73c2-be2c-4224-9939-65eaf6804bcf",
   "metadata": {},
   "source": [
    "|Dirichlet Boundary Value Problem | | Single and Double Layer | | Variational Formulation | \n",
    "|:-:|-|:-:|-|:-:|\n",
    "| $ \\left\\{ \\begin{array}{rcl l} -\\Delta u &=& 0, \\quad &\\Omega^c  \\\\ \\gamma_0 u&=& u_0, \\quad &\\Gamma  \\\\ \\lim\\limits_{\\|x\\| \\to \\infty} u(x) &=& \\mathcal O\\left( \\displaystyle{ \\frac{1}{\\|x\\|} }\\right)\\,, & \\|x\\|\\to \\infty \\end{array} \\right. $ | $\\quad \\Rightarrow \\quad$ | $ u(x) = \\mathrm{SL}(u_1) - \\mathrm{DL}(u_0) $ | $\\quad \\Rightarrow \\quad$ |  $\\left\\langle \\gamma_0 \\left(\\mathrm{SL}(u_1)\\right), v \\right\\rangle_{-\\frac12}= \\left\\langle u_0, v\\right\\rangle_{-\\frac12} + \\left\\langle \\gamma_0 \\left(\\mathrm{DL}(u_0)\\right), v\\right\\rangle_{-\\frac12}$ |\n",
    "| | | | | |\n",
    "| ![](resources/BEM_Capacitor.png) | | | |  $\\mathrm{V} \\, \\mathrm{u}_1 = \\left( -\\frac12 \\,\\mathrm{M} + \\mathrm{K} \\right) \\, \\mathrm{u}_0 $ |\n",
    "\n",
    "| NG-BEM Python interface | symbol |  FE trial space | FE test space |   \n",
    "|-|:-:|-|-|\n",
    "|`SingleLayerPotentialOperator` | $\\mathrm V $ |  `SurfaceL2` | `SurfaceL2`|\n",
    "|`DoubleLayerPotentialOperator` | $\\mathrm K $ | $\\gamma_0$ `H1` | `SurfaceL2` |\n",
    "|`HypersingularOperator       ` | $\\mathrm D$  | $\\gamma_0$ `H1` | $\\gamma_0$ `H1` |\n",
    "|`DoubleLayerPotentialOperator` | $\\mathrm K'$ | `SurfaceL2` | $\\gamma_0$ `H1` |     "
   ]
  },
  {
   "cell_type": "markdown",
   "id": "d56f0751-5cdd-48e5-a7ca-46bf28e296ce",
   "metadata": {},
   "source": [
    "**Mesh**"
   ]
  },
  {
   "cell_type": "code",
   "execution_count": null,
   "id": "756e9f3c-f8e8-4f20-8760-55ec37b4ffbf",
   "metadata": {
    "scrolled": true
   },
   "outputs": [],
   "source": [
    "largebox = Box ((-2,-2,-2), (2,2,2) )\n",
    "b1 = Box ( (-1,-1,0.5), (1,1,1) )\n",
    "b2 = Box ( (-1,-1,-1), (1,1,-0.5))\n",
    "largebox.faces.name = \"outer\" \n",
    "b1.faces.name = \"top\" # part of Gamma\n",
    "b2.faces.name = \"bot\" # part of Gamma\n",
    "shell = largebox-b1-b2 # Omega^c \n",
    "shape = Compound([b1,b2])\n",
    "mesh = Mesh(OCCGeometry(shape).GenerateMesh(maxh=1))"
   ]
  },
  {
   "cell_type": "markdown",
   "id": "991fd0da-9a5e-4b7e-893c-b0f08bff0c54",
   "metadata": {},
   "source": [
    "**Trial and Test Functions**"
   ]
  },
  {
   "cell_type": "code",
   "execution_count": null,
   "id": "84f70bba-7467-492c-9b48-a551b380a1b0",
   "metadata": {},
   "outputs": [],
   "source": [
    "order = 3\n",
    "fesH1 = H1(mesh, order=order, definedon=mesh.Boundaries(\".*\")) \n",
    "uH1,vH1 = fesH1.TnT()\n",
    "fesL2 = SurfaceL2(mesh, order=order-1, dual_mapping=True)\n",
    "u,v = fesL2.TnT()"
   ]
  },
  {
   "cell_type": "markdown",
   "id": "d6184510-4032-4cf5-a076-a12223a446fc",
   "metadata": {},
   "source": [
    "**Dirichlet Data**"
   ]
  },
  {
   "cell_type": "code",
   "execution_count": null,
   "id": "b628c19c-1991-468e-925c-eea1f7f9df51",
   "metadata": {},
   "outputs": [],
   "source": [
    "utop = GridFunction(fesH1)\n",
    "utop.Interpolate(1, definedon=mesh.Boundaries(\"top\"))\n",
    "ubot = GridFunction(fesH1)\n",
    "ubot.Interpolate(-1, definedon=mesh.Boundaries(\"bot\"))\n",
    "u0 = utop.vec + ubot.vec\n",
    "Draw (utop + ubot, mesh, draw_vol=False, order=3);"
   ]
  },
  {
   "cell_type": "markdown",
   "id": "bed1cf7a-a262-432c-9715-144a641c78a5",
   "metadata": {},
   "source": [
    "**Layer Potential Operators $\\, \\mathrm{V}, \\; \\mathrm{K}$ and Mass Matrix $\\,\\mathrm{M}$**"
   ]
  },
  {
   "cell_type": "code",
   "execution_count": null,
   "id": "40bdca16-0cf9-4464-8310-07718dd3d627",
   "metadata": {},
   "outputs": [],
   "source": [
    "with TaskManager():\n",
    "    V = SingleLayerPotentialOperator(fesL2, intorder=12, eps=1e-4)\n",
    "    K = DoubleLayerPotentialOperator(fesH1, fesL2, intorder=12, eps=1e-4)\n",
    "    M = BilinearForm( uH1.Trace() * v.Trace() * ds(bonus_intorder=3)).Assemble()"
   ]
  },
  {
   "cell_type": "markdown",
   "id": "c4433b6c-a53f-40d5-ab7a-d82498b221b8",
   "metadata": {},
   "source": [
    "**Right Hand Side $\\, \\mathrm{rhs} = \\left( -\\frac12\\mathrm{M}+\\mathrm{K} \\right) \\mathrm{u}_0$**"
   ]
  },
  {
   "cell_type": "code",
   "execution_count": null,
   "id": "3adf260a-ee03-42d0-85e6-7342ffbc4bde",
   "metadata": {},
   "outputs": [],
   "source": [
    "rhs = ((-0.5 * M.mat + K.mat) * u0).Evaluate()"
   ]
  },
  {
   "cell_type": "markdown",
   "id": "5e7f2b69-9bb5-4de3-b5b2-f2721fdb7e00",
   "metadata": {},
   "source": [
    "**Solve $\\, \\mathrm{V} \\mathrm{u}_1 = \\mathrm{rhs} $**"
   ]
  },
  {
   "cell_type": "code",
   "execution_count": null,
   "id": "3ebabcb4-d7d0-4a75-9462-a90a9bd7df4f",
   "metadata": {},
   "outputs": [],
   "source": [
    "u1 = GridFunction(fesL2)\n",
    "pre = BilinearForm(u.Trace()*v.Trace()*ds, diagonal=True).Assemble().mat.Inverse()\n",
    "with TaskManager():\n",
    "    CG(mat = V.mat, pre=pre, rhs = rhs, sol=u1.vec, tol=1e-8, maxsteps=200, initialize=False, printrates=False)\n",
    "Draw (u1, mesh, draw_vol=False, order=3);"
   ]
  },
  {
   "cell_type": "markdown",
   "id": "4e1be084-1c44-4daa-8d2d-6872a9cf879a",
   "metadata": {},
   "source": [
    "**Evaluate on Screen**"
   ]
  },
  {
   "cell_type": "code",
   "execution_count": null,
   "id": "28b52af1-a50b-4421-a628-fdeef5453f3f",
   "metadata": {},
   "outputs": [],
   "source": [
    "screen = WorkPlane(Axes((0,0,0), X, Z)).RectangleC(4, 4).Face() - Box((-1.1,-1.1,0.4), (1.1,1.1,1.1)) - Box((-1.1,-1.1,-1.1), (1.1,1.1,-0.4))\n",
    "mesh_screen = Mesh(OCCGeometry(screen).GenerateMesh(maxh=0.25)).Curve(1)\n",
    "fes_screen = H1(mesh_screen, order=3)\n",
    "gf_screen = GridFunction(fes_screen)\n",
    "with TaskManager():\n",
    "    gf_screen.Set(-V.GetPotential(u1)+K.GetPotential(utop)+K.GetPotential(ubot), definedon=mesh_screen.Boundaries(\".*\"), dual=False)\n",
    "Draw (gf_screen);"
   ]
  }
 ],
 "metadata": {
  "kernelspec": {
   "display_name": "Python 3 (ipykernel)",
   "language": "python",
   "name": "python3"
  },
  "language_info": {
   "codemirror_mode": {
    "name": "ipython",
    "version": 3
   },
   "file_extension": ".py",
   "mimetype": "text/x-python",
   "name": "python",
   "nbconvert_exporter": "python",
   "pygments_lexer": "ipython3",
   "version": "3.11.6"
  }
 },
 "nbformat": 4,
 "nbformat_minor": 5
}
