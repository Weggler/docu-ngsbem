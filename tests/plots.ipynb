{
 "cells": [
  {
   "cell_type": "code",
   "execution_count": null,
   "id": "a9abdad2-afe1-4630-9e5f-47f9557d4975",
   "metadata": {},
   "outputs": [],
   "source": [
    "import pandas as pd\n",
    "import matplotlib.pyplot as plt"
   ]
  },
  {
   "cell_type": "code",
   "execution_count": null,
   "id": "5d446c2f-00b5-43e7-82b9-94541bb2d341",
   "metadata": {},
   "outputs": [],
   "source": [
    "df = pd.read_csv(\"results.csv\")\n",
    "# df.tail()"
   ]
  },
  {
   "cell_type": "code",
   "execution_count": null,
   "id": "abc7afdf-6a20-4640-ad17-81c8d6ca6ee6",
   "metadata": {},
   "outputs": [],
   "source": [
    "save_fig = True"
   ]
  },
  {
   "cell_type": "code",
   "execution_count": null,
   "id": "788aa9b1-6e0a-4b79-b738-ae9c83b46559",
   "metadata": {},
   "outputs": [],
   "source": [
    "# Filter by type\n",
    "df_neu = df[df[\"type\"] == \"neumann\"]\n",
    "df_dirichlet = df[df[\"type\"] == \"dirichlet_semi\"]\n",
    "df_mie = df[df[\"type\"] == \"mie\"]\n",
    "colors = [\"red\", \"blue\", \"green\", \"orange\", \"red\"]\n",
    "markers = [\"x-\", \"v-\", \"*-\", \"*-\", \"x-\"]"
   ]
  },
  {
   "cell_type": "markdown",
   "id": "cc100d14-6cb9-42e3-a9c9-482ad68e5b66",
   "metadata": {},
   "source": [
    "### Neumann error"
   ]
  },
  {
   "cell_type": "code",
   "execution_count": null,
   "id": "c89a453b-62ec-4d9f-a640-9f65059e9110",
   "metadata": {},
   "outputs": [],
   "source": [
    "plt.figure(figsize=(8, 6))\n",
    "for order in range(len(df_neu[\"order\"].unique())+1):\n",
    "    df_plot = df_neu[df_neu[\"order\"] == order]\n",
    "    if df_plot.empty:\n",
    "        continue\n",
    "    plt.loglog(df_plot[\"ndof\"], df_plot[\"err\"], markers[order], label=f'Order {order}', color=colors[order])\n",
    "    plt.loglog(df_plot[\"ndof\"], 0.1*(df_plot[\"ndof\"]/df_plot[\"ndof\"].iloc[0])**-(order/2), '--', label=f'n^{-order}', alpha=0.5, color=colors[order])\n",
    "\n",
    "plt.xlabel(\"Degrees of freedom [n]\")\n",
    "plt.ylabel(r\"$L_2$ error $|| (u - u_{ref})||$\")\n",
    "plt.title(r\"Neumann error $|| (u - u_{ref})||$\")\n",
    "plt.legend()\n",
    "plt.grid(True, which=\"both\", ls=\"--\")\n",
    "if save_fig:\n",
    "    plt.savefig(\"neumann_error.png\", dpi=300)"
   ]
  },
  {
   "cell_type": "markdown",
   "id": "47b4b543-cbdd-4bd3-9b66-6db3316c4e56",
   "metadata": {},
   "source": [
    "### Neumann error timing"
   ]
  },
  {
   "cell_type": "code",
   "execution_count": null,
   "id": "e872833f-e6c2-4902-a56f-e0184f803afa",
   "metadata": {},
   "outputs": [],
   "source": [
    "plt.figure(figsize=(8, 6))\n",
    "for order in range(len(df_neu[\"order\"].unique())+1):\n",
    "    df_plot = df_neu[df_neu[\"order\"] == order]\n",
    "    if df_plot.empty:\n",
    "        continue\n",
    "    plt.loglog(df_plot[\"ndof\"], df_plot[\"time\"], markers[order], label=f'Order {order}', color=colors[order])\n",
    "# plt.loglog(df_plot[\"ndof\"], (df_plot[\"ndof\"]/df_plot[\"ndof\"].iloc[0]), '--', label=f'n^{1}', alpha=0.5, color=colors[order])\n",
    "\n",
    "plt.xlabel(\"Degrees of freedom [n]\")\n",
    "plt.ylabel(\"Time [s]\")\n",
    "plt.title(\"Neumann error timing\")\n",
    "plt.legend()\n",
    "plt.grid(True, which=\"both\", ls=\"--\")\n",
    "if save_fig:\n",
    "    plt.savefig(\"neumann_error_timing.png\", dpi=300)"
   ]
  },
  {
   "cell_type": "markdown",
   "id": "02931ae1-8dc0-4797-9c06-93cae7ee24a3",
   "metadata": {},
   "source": [
    "### Dirichelt seminorm error"
   ]
  },
  {
   "cell_type": "code",
   "execution_count": null,
   "id": "0d7a8d39-db06-4ace-ad58-5043608aa78d",
   "metadata": {},
   "outputs": [],
   "source": [
    "plt.figure(figsize=(8, 6))\n",
    "for order in range(len(df_dirichlet[\"order\"].unique())+1):\n",
    "    df_plot = df_dirichlet[df_dirichlet[\"order\"] == order]\n",
    "    if df_plot.empty:\n",
    "        continue\n",
    "    plt.loglog(df_plot[\"ndof\"], df_plot[\"err\"], markers[order], label=f'Order {order}', color=colors[order])\n",
    "    plt.loglog(df_plot[\"ndof\"], 0.1*(df_plot[\"ndof\"]/df_plot[\"ndof\"].iloc[0])**-(order/2), '--', label=f'n^{-order}', alpha=0.5, color=colors[order])\n",
    "\n",
    "plt.xlabel(\"Degrees of freedom [n]\")\n",
    "plt.ylabel(r\"$L_2$ error $|| \\nabla (u - u_{ref})||$\")\n",
    "plt.title(r\"Dirichelt error $|| \\nabla (u - u_{ref})||$\")\n",
    "plt.legend()\n",
    "plt.grid(True, which=\"both\", ls=\"--\")\n",
    "if save_fig:\n",
    "    plt.savefig(\"dirichlet_semi_error.png\", dpi=300)"
   ]
  },
  {
   "cell_type": "code",
   "execution_count": null,
   "id": "146f944d-6a45-4e7e-9916-b676ce3fc15f",
   "metadata": {},
   "outputs": [],
   "source": [
    "plt.figure(figsize=(8, 6))\n",
    "for order in range(len(df_dirichlet[\"order\"].unique())+1):\n",
    "    df_plot = df_dirichlet[df_dirichlet[\"order\"] == order]\n",
    "    if df_plot.empty:\n",
    "        continue\n",
    "    plt.loglog(df_plot[\"ndof\"], df_plot[\"time\"], markers[order], label=f'Order {order}', color=colors[order])\n",
    "# plt.loglog(df_plot[\"ndof\"], (df_plot[\"ndof\"]/df_plot[\"ndof\"].iloc[0]), '--', label=f'n^{1}', alpha=0.5, color=colors[order])\n",
    "\n",
    "plt.xlabel(\"Degrees of freedom [n]\")\n",
    "plt.ylabel(\"Time [s]\")\n",
    "plt.title(\"Dirichelt error timing\")\n",
    "plt.legend()\n",
    "plt.grid(True, which=\"both\", ls=\"--\")\n",
    "if save_fig:\n",
    "    plt.savefig(\"dirichlet_semi_error_timing.png\", dpi=300)"
   ]
  },
  {
   "cell_type": "markdown",
   "id": "947ba649-66b4-4992-be18-c6570808b38a",
   "metadata": {},
   "source": [
    "### Mie error"
   ]
  },
  {
   "cell_type": "code",
   "execution_count": null,
   "id": "bad375c4-36e5-4bcb-8ae2-12d53a2f5b2a",
   "metadata": {},
   "outputs": [],
   "source": [
    "plt.figure(figsize=(8, 6))\n",
    "for order in range(len(df_mie[\"order\"].unique())+1):\n",
    "    df_plot = df_mie[df_mie[\"order\"] == order]\n",
    "    if df_plot.empty:\n",
    "        continue\n",
    "    plt.loglog(df_plot[\"ndof\"], df_plot[\"err\"], markers[order], label=f'Order {order}', color=colors[order])\n",
    "    plt.loglog(df_plot[\"ndof\"], 0.1*(df_plot[\"ndof\"]/df_plot[\"ndof\"].iloc[0])**-((order+1)/2), '--', label=f'n^{-order-1}', alpha=0.5, color=colors[order])\n",
    "\n",
    "plt.xlabel(\"Degrees of freedom [n]\")\n",
    "plt.ylabel(r\"$L_2$ error $|| (u - u_{ref})||$\")\n",
    "plt.title(r\"Mie error $|| (u - u_{ref})||$\")\n",
    "plt.legend()\n",
    "plt.grid(True, which=\"both\", ls=\"--\")\n",
    "if save_fig:\n",
    "    plt.savefig(\"mie_error.png\", dpi=300)"
   ]
  },
  {
   "cell_type": "code",
   "execution_count": null,
   "id": "17b35b1e-139d-415a-a300-678644ca76d9",
   "metadata": {},
   "outputs": [],
   "source": [
    "plt.figure(figsize=(8, 6))\n",
    "for order in range(len(df_mie[\"order\"].unique())+1):\n",
    "    df_plot = df_mie[df_mie[\"order\"] == order]\n",
    "    if df_plot.empty:\n",
    "        continue\n",
    "    plt.loglog(df_plot[\"ndof\"], df_plot[\"time\"], markers[order], label=f'Order {order}', color=colors[order])\n",
    "# plt.loglog(df_plot[\"ndof\"], (df_plot[\"ndof\"]/df_plot[\"ndof\"].iloc[0]), '--', label=f'n^{1}', alpha=0.5, color=colors[order])\n",
    "\n",
    "plt.xlabel(\"Degrees of freedom [n]\")\n",
    "plt.ylabel(\"Time [s]\")\n",
    "plt.title(\"Mie error timing\")\n",
    "plt.legend()\n",
    "plt.grid(True, which=\"both\", ls=\"--\")\n",
    "if save_fig:\n",
    "    plt.savefig(\"mie_error_timing.png\", dpi=300)"
   ]
  },
  {
   "cell_type": "code",
   "execution_count": null,
   "id": "4844694b-9184-4a62-8581-66fea468d030",
   "metadata": {},
   "outputs": [],
   "source": []
  }
 ],
 "metadata": {
  "kernelspec": {
   "display_name": "Python 3 (ipykernel)",
   "language": "python",
   "name": "python3"
  },
  "language_info": {
   "codemirror_mode": {
    "name": "ipython",
    "version": 3
   },
   "file_extension": ".py",
   "mimetype": "text/x-python",
   "name": "python",
   "nbconvert_exporter": "python",
   "pygments_lexer": "ipython3",
   "version": "3.11.4"
  }
 },
 "nbformat": 4,
 "nbformat_minor": 5
}
