{
 "cells": [
  {
   "cell_type": "code",
   "execution_count": null,
   "id": "979ea90d-25a0-4090-afee-8c10b3036030",
   "metadata": {},
   "outputs": [],
   "source": [
    "from ngsolve import *\n",
    "from netgen.occ import *\n",
    "import netgen.meshing as meshing\n",
    "from ngsolve.krylovspace import CG, GMRes\n",
    "from ngsolve.webgui import Draw\n",
    "from ngsolve.bem import *"
   ]
  },
  {
   "cell_type": "markdown",
   "id": "beea4d31-748e-4abc-86e7-df3a1a980917",
   "metadata": {},
   "source": [
    "BEM Laplace Capacitor\n",
    "=============="
   ]
  },
  {
   "cell_type": "markdown",
   "id": "76dc73c2-be2c-4224-9939-65eaf6804bcf",
   "metadata": {},
   "source": [
    "We consider a plate capacitor problem and solve it with a BEM. The setting and notation looks like this:\n",
    "\n",
    "\n",
    "|  |  |  |\n",
    "| -|--|- |\n",
    "| $$\\begin{array}{rcl l} - \\Delta u &=& 0, \\quad &\\mathrm{in} \\; \\Omega^c \\,, \\\\[1ex]  \\gamma_0 u  &=&  m\\,, & \\mathrm{on}\\;\\Gamma\\,,  \\\\[1ex] \\lim\\limits_{\\|x\\| \\to \\infty} u(x) &=& \\mathcal O\\left( \\displaystyle{ \\frac{1}{\\|x\\|} }\\right)\\,, & \\|x\\|\\to \\infty \\,. \\end{array} $$  | $\\quad\\quad\\quad$  | ![](resources/BEM_Capacitor.png)  |"
   ]
  },
  {
   "cell_type": "code",
   "execution_count": null,
   "id": "756e9f3c-f8e8-4f20-8760-55ec37b4ffbf",
   "metadata": {
    "scrolled": true
   },
   "outputs": [],
   "source": [
    "largebox = Box ((-2,-2,-2), (2,2,2) )\n",
    "b1 = Box ( (-1,-1,0.5), (1,1,1) )\n",
    "b2 = Box ( (-1,-1,-1), (1,1,-0.5))\n",
    "\n",
    "largebox.faces.name = \"outer\" \n",
    "b1.faces.name = \"top\" # part of Gamma\n",
    "b2.faces.name = \"bot\" # part of Gamma\n",
    "shell = largebox-b1-b2 # Omega^c \n",
    "shape = Compound([b1,b2])\n",
    "mesh = Mesh(OCCGeometry(shape).GenerateMesh(maxh=1))\n",
    "Draw (mesh);"
   ]
  },
  {
   "cell_type": "code",
   "execution_count": null,
   "id": "84f70bba-7467-492c-9b48-a551b380a1b0",
   "metadata": {},
   "outputs": [],
   "source": [
    "order = 3\n",
    "fesH1 = H1(mesh, order=order, definedon=mesh.Boundaries(\".*\")) # trace space, i.e. H^(1/2)(Gamma) conforming elements \n",
    "uH1,vH1 = fesH1.TnT()\n",
    "fesL2 = SurfaceL2(mesh, order=order-1, dual_mapping=True) # trace space, i.e. H^(-1/2)(Gamma) conforming elements \n",
    "u,v = fesL2.TnT()\n",
    "print (\"L2-ndof = \", fesL2.ndof, \"LH1-ndof = \", fesH1.ndof)"
   ]
  },
  {
   "cell_type": "code",
   "execution_count": null,
   "id": "b628c19c-1991-468e-925c-eea1f7f9df51",
   "metadata": {},
   "outputs": [],
   "source": [
    "utop = GridFunction(fesH1)\n",
    "utop.Interpolate(1, definedon=mesh.Boundaries(\"top\"))\n",
    "ubot = GridFunction(fesH1)\n",
    "ubot.Interpolate(-1, definedon=mesh.Boundaries(\"bot\"))\n",
    "m = utop.vec + ubot.vec\n",
    "Draw (utop + ubot, mesh, draw_vol=False, order=3)"
   ]
  },
  {
   "cell_type": "markdown",
   "id": "bed1cf7a-a262-432c-9715-144a641c78a5",
   "metadata": {},
   "source": [
    "Compute boundary integral operators and the mass matrix for right hand side. Solve the linear system of equations: "
   ]
  },
  {
   "cell_type": "code",
   "execution_count": null,
   "id": "3adf260a-ee03-42d0-85e6-7342ffbc4bde",
   "metadata": {},
   "outputs": [],
   "source": [
    "j = GridFunction(fesL2)\n",
    "with TaskManager():\n",
    "    SLPotential = LaplaceSL(u*ds(bonus_intorder=3))\n",
    "    DLPotential = LaplaceDL(uH1*ds(bonus_intorder=3))\n",
    "    V = SLPotential*v*ds(bonus_intorder=3)\n",
    "    K = DLPotential*v*ds(bonus_intorder=3)\n",
    "    M = BilinearForm(uH1*v*ds(bonus_intorder=3)).Assemble()"
   ]
  },
  {
   "cell_type": "code",
   "execution_count": null,
   "id": "3f74a967-551b-44b9-9a6e-13d4943109b2",
   "metadata": {},
   "outputs": [],
   "source": [
    "with TaskManager():\n",
    "    pre = BilinearForm(u.Trace()*v.Trace()*ds, diagonal=True).Assemble().mat.Inverse()\n",
    "    rhs = ((-0.5 * M.mat + K.mat) * m).Evaluate()\n",
    "    CG(mat = V.mat, pre=pre, rhs = rhs, sol=j.vec, tol=1e-8, maxsteps=200, initialize=False, printrates=False)"
   ]
  },
  {
   "cell_type": "code",
   "execution_count": null,
   "id": "4ae320c9-e686-46d1-88f2-b0a928c41719",
   "metadata": {},
   "outputs": [],
   "source": [
    "Draw (j, mesh, draw_vol=False, order=3);"
   ]
  },
  {
   "cell_type": "markdown",
   "id": "e1b028a2-773d-45f4-aa54-dacdbf7848a1",
   "metadata": {},
   "source": [
    "Evaluate the solution on a vertical screen"
   ]
  },
  {
   "cell_type": "code",
   "execution_count": null,
   "id": "28b52af1-a50b-4421-a628-fdeef5453f3f",
   "metadata": {},
   "outputs": [],
   "source": [
    "screen = WorkPlane(Axes((0,0,0), X, Z)).RectangleC(4, 4).Face() - Box((-1.1,-1.1,0.4), (1.1,1.1,1.1)) - Box((-1.1,-1.1,-1.1), (1.1,1.1,-0.4))\n",
    "mesh_screen = Mesh(OCCGeometry(screen).GenerateMesh(maxh=0.25)).Curve(1)\n",
    "fes_screen = H1(mesh_screen, order=3)\n",
    "gf_screen = GridFunction(fes_screen)\n",
    "print (\"ndofscreen=\", fes_screen.ndof)\n",
    "with TaskManager():\n",
    "    gf_screen.Set(-SLPotential(j)+DLPotential(utop)+DLPotential(ubot), definedon=mesh_screen.Boundaries(\".*\"), dual=False)\n",
    "Draw (gf_screen)"
   ]
  },
  {
   "cell_type": "markdown",
   "id": "e54011e8-6e53-4196-825c-919c9f903b0a",
   "metadata": {},
   "source": [
    "**Testing the BEM solution with FEM**"
   ]
  },
  {
   "cell_type": "markdown",
   "id": "fd71df29-efaa-49f6-9e2d-4f983ee90d8e",
   "metadata": {},
   "source": [
    "Evaluate the solution $u$ on a box that wraps the place capacitor. We use this data as boundary data for the FEM computation:"
   ]
  },
  {
   "cell_type": "code",
   "execution_count": null,
   "id": "a581e42c-880e-428c-9f3e-bdafdf37e7dc",
   "metadata": {},
   "outputs": [],
   "source": [
    "mesh_shell = Mesh(OCCGeometry(shell).GenerateMesh(maxh=0.5)).Curve(1)\n",
    "fes_shell = H1(mesh_shell, order=3)\n",
    "gf_shell = GridFunction(fes_shell)\n",
    "with TaskManager():\n",
    "    gf_shell.Set(-SLPotential(j)+DLPotential(utop)+DLPotential(ubot), definedon=mesh_shell.Boundaries(\"outer\"), dual=False)\n",
    "Draw(gf_shell)"
   ]
  },
  {
   "cell_type": "markdown",
   "id": "e8233ec2-5791-4942-87bb-b562a2ff06c2",
   "metadata": {},
   "source": [
    "Solve the FEM variational formulation with given Dirichlet conditions on the plates **and** on the ficticious box:"
   ]
  },
  {
   "cell_type": "code",
   "execution_count": null,
   "id": "2fd979c1-4bfd-440e-a3fe-9f46447ad71b",
   "metadata": {},
   "outputs": [],
   "source": [
    "fesH1d = H1(mesh_shell, order=order, dirichlet=\"outer|top|bot\")\n",
    "ud,vd = fesH1d.TnT()\n",
    "ad = BilinearForm(grad(ud)*grad(vd)*dx).Assemble()\n",
    "fd = LinearForm(fesH1d).Assemble()\n",
    "gfud = GridFunction(fesH1d)"
   ]
  },
  {
   "cell_type": "code",
   "execution_count": null,
   "id": "f254937a-9df7-4dc0-ab15-1273b53adc27",
   "metadata": {},
   "outputs": [],
   "source": [
    "utop = GridFunction(fesH1d)\n",
    "utop.Interpolate(1, definedon=mesh_shell.Boundaries(\"top\"))\n",
    "ubot = GridFunction(fesH1d)\n",
    "ubot.Interpolate(-1, definedon=mesh_shell.Boundaries(\"bot\"))"
   ]
  },
  {
   "cell_type": "markdown",
   "id": "2bb6742a-5c71-4217-a681-548eb9bb629f",
   "metadata": {},
   "source": [
    "Have a look at the FEM solution on a clipping plane through the box:"
   ]
  },
  {
   "cell_type": "code",
   "execution_count": null,
   "id": "c36cb7a7-1f0a-49d7-8ccb-9de809136329",
   "metadata": {},
   "outputs": [],
   "source": [
    "r = fd.vec - ad.mat * (gf_shell.vec + utop.vec + ubot.vec)\n",
    "gfud.vec.data = gf_shell.vec + utop.vec + ubot.vec\n",
    "gfud.vec.data += ad.mat.Inverse(freedofs=fesH1d.FreeDofs()) * r\n",
    "Draw(gfud, clipping={\"y\":1, \"z\":0, \"dist\":0.0, \"function\" : True }); # turn the clippling plane on in the control panel"
   ]
  },
  {
   "cell_type": "code",
   "execution_count": null,
   "id": "6c4eb6b0-14e4-49dc-b627-3bc0ce3d47a7",
   "metadata": {},
   "outputs": [],
   "source": []
  }
 ],
 "metadata": {
  "kernelspec": {
   "display_name": "Python 3 (ipykernel)",
   "language": "python",
   "name": "python3"
  },
  "language_info": {
   "codemirror_mode": {
    "name": "ipython",
    "version": 3
   },
   "file_extension": ".py",
   "mimetype": "text/x-python",
   "name": "python",
   "nbconvert_exporter": "python",
   "pygments_lexer": "ipython3",
   "version": "3.11.4"
  }
 },
 "nbformat": 4,
 "nbformat_minor": 5
}
