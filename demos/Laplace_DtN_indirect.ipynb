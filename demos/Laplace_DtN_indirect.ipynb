{
 "cells": [
  {
   "cell_type": "code",
   "execution_count": 1,
   "id": "667a666a-3324-4cc0-a3f0-47ba7aa32d5c",
   "metadata": {},
   "outputs": [],
   "source": [
    "from netgen.occ import *\n",
    "from ngsolve import *\n",
    "from ngsolve.webgui import Draw\n",
    "from ngsolve.bem import *\n",
    "from ngsolve import Projector, Preconditioner\n",
    "from ngsolve.krylovspace import CG"
   ]
  },
  {
   "cell_type": "markdown",
   "id": "3850cbe4-ad55-472a-aafd-b096f859d9b9",
   "metadata": {},
   "source": [
    "**keys**: electrostatics, homogeneous Dirichlet bvp, single layer potential $V$"
   ]
  },
  {
   "cell_type": "markdown",
   "id": "7ba2b304-c597-408f-8873-5b6f90444a7a",
   "metadata": {},
   "source": [
    "Dirichlet Laplace Indirect Method\n",
    "============================="
   ]
  },
  {
   "cell_type": "markdown",
   "id": "570d89f6-e01f-41e4-b2e0-75a26c67feac",
   "metadata": {},
   "source": [
    "We consider the Dirichlet boundary value problem \n",
    "\n",
    "$$ \\left\\{ \\begin{array}{rcl l} \\Delta u &=& 0, \\quad &\\Omega \\subset \\mathbb R^3\\,,\\\\ \\gamma_0 u&=& m, \\quad &\\Gamma = \\partial \\Omega\\,.\\end{array} \\right. $$ \n",
    "\n",
    "Let us choose the following ansatz for the solution $u\\in H^1(\\Omega)$ (indirect ansatz) \n",
    "\n",
    "$$ u(x) = \\underbrace{ \\int\\limits_\\Gamma \\displaystyle{\\frac{1}{4\\,\\pi}\\, \\frac{1}{\\| x-y\\|} } \\, j(y)\\, \\mathrm{d}s_y }_{\\displaystyle{ \\mathrm{SL}(j) } }$$ "
   ]
  },
  {
   "cell_type": "markdown",
   "id": "be5f96f2-32b2-4d48-883f-8bc994f9388d",
   "metadata": {},
   "source": [
    "Define the geometry $\\Omega \\subset \\mathbb R^3$ and create a mesh:"
   ]
  },
  {
   "cell_type": "code",
   "execution_count": 2,
   "id": "c7abb299-0827-4f90-8d0f-6239f08249b2",
   "metadata": {},
   "outputs": [],
   "source": [
    "sp = Sphere( (0,0,0), 1)\n",
    "mesh = Mesh( OCCGeometry(sp).GenerateMesh(maxh=0.3)).Curve(3)"
   ]
  },
  {
   "cell_type": "markdown",
   "id": "8f6fd26c-9809-458b-82e4-958a1206fd5a",
   "metadata": {},
   "source": [
    "Create test and trial function finite element spaces for $H^{-\\frac12}(\\Gamma)$ according to the given mesh:  "
   ]
  },
  {
   "cell_type": "code",
   "execution_count": 3,
   "id": "d8c2c6d6-b3b3-4f91-8e2b-b63c146b6a09",
   "metadata": {},
   "outputs": [],
   "source": [
    "fesL2 = SurfaceL2(mesh, order=3, dual_mapping=True)\n",
    "u,v = fesL2.TnT()"
   ]
  },
  {
   "cell_type": "markdown",
   "id": "50961f97-7070-470d-9e2f-37599b1645a7",
   "metadata": {},
   "source": [
    "**Boundary Integral Equation**\n",
    "\n",
    "We carefully apply the Dirichlet trace on the ansatz for $u$ and get an integral equation for the unknown density $j\\in H^{-\\frac12}(\\Gamma)$. The integral equation may be read as follows: determine $j$ such that \n",
    "\n",
    "$$\\begin{array}{r c ccc} \\forall \\, v\\in H^{-\\frac12}(\\Gamma): && \\displaystyle \\int\\limits_\\Gamma \\gamma_0 \\left(\\mathrm{SL}(j)\\right) \\cdot v \\, \\mathrm d s &=& \\displaystyle \\int\\limits_\\Gamma m \\cdot v \\, \\mathrm d s \\\\[2ex] & \\Rightarrow & \\mathrm{V}\\,\\mathrm{j} &=& \\mathrm{M} \\, \\mathrm m \\,. \\end{array} $$ \n",
    " "
   ]
  },
  {
   "cell_type": "markdown",
   "id": "1b0307f4-ad7f-4252-84ab-f4c8b14c896d",
   "metadata": {},
   "source": [
    "Compute the given Dirichlet data $m$, the right hand side and the matrix $\\mathrm V$ (single layer potential operator)."
   ]
  },
  {
   "cell_type": "code",
   "execution_count": 4,
   "id": "c3194f56-dc87-487a-9b08-1dcd99035665",
   "metadata": {},
   "outputs": [],
   "source": [
    "m = 1/ sqrt( (x-1)**2 + (y-1)**2 + (z-1)**2 )\n",
    "rhs = LinearForm (m*v.Trace()*ds(bonus_intorder=3)).Assemble()\n",
    "with TaskManager(pajetrace=1000*1000*1000):\n",
    "    V = LaplaceSL(u*ds)*v*ds   "
   ]
  },
  {
   "cell_type": "markdown",
   "id": "f54a0a4a-9f22-49b4-adef-d3debd1f2997",
   "metadata": {},
   "source": [
    "Solve the linear system:"
   ]
  },
  {
   "cell_type": "code",
   "execution_count": 5,
   "id": "8acec479-eb95-4258-a200-2389cacdee45",
   "metadata": {},
   "outputs": [
    {
     "name": "stdout",
     "output_type": "stream",
     "text": [
      "\u001b[2KCG iteration 1, residual = 2.185632470081333     \n",
      "\u001b[2KCG iteration 2, residual = 0.5511118070234002     \n",
      "\u001b[2KCG iteration 3, residual = 0.1311310259046071     \n",
      "\u001b[2KCG iteration 4, residual = 0.031078990634675407     \n",
      "\u001b[2KCG iteration 5, residual = 0.007370161304676196     \n",
      "\u001b[2KCG iteration 6, residual = 0.0017872719313664837     \n",
      "\u001b[2KCG iteration 7, residual = 0.0005164640897887448     \n",
      "\u001b[2KCG iteration 8, residual = 0.0002492780567432234     \n",
      "\u001b[2KCG iteration 9, residual = 0.0002750528160501377     \n",
      "\u001b[2KCG iteration 10, residual = 0.00018042982377223352     \n",
      "\u001b[2KCG iteration 11, residual = 0.00013054626619579224     \n",
      "\u001b[2KCG iteration 12, residual = 3.722731240425114e-05     \n",
      "\u001b[2KCG iteration 13, residual = 3.312346253562036e-05     \n",
      "\u001b[2KCG iteration 14, residual = 1.6103648110636815e-05     \n",
      "\u001b[2KCG iteration 15, residual = 9.915860637644881e-06     \n",
      "\u001b[2KCG iteration 16, residual = 1.0658417163271707e-05     \n",
      "\u001b[2KCG iteration 17, residual = 7.46678957674621e-06     \n",
      "\u001b[2KCG iteration 18, residual = 7.402419529671319e-06     \n",
      "\u001b[2KCG iteration 19, residual = 5.472646553019771e-06     \n",
      "\u001b[2KCG iteration 20, residual = 2.356922125726932e-06     \n",
      "\u001b[2KCG iteration 21, residual = 1.6475718839994998e-06     \n",
      "\u001b[2KCG iteration 22, residual = 1.7135506527704204e-06     \n",
      "\u001b[2KCG iteration 23, residual = 1.312043478674566e-06     \n",
      "\u001b[2KCG iteration 24, residual = 6.358200326508156e-07     \n",
      "\u001b[2KCG iteration 25, residual = 1.108025262788844e-06     \n",
      "\u001b[2KCG iteration 26, residual = 2.622837540696681e-07     \n",
      "\u001b[2KCG iteration 27, residual = 2.383934356822109e-07     \n",
      "\u001b[2KCG iteration 28, residual = 2.521414432713882e-07     \n",
      "\u001b[2KCG iteration 29, residual = 1.3798656196618835e-07     \n",
      "\u001b[2KCG iteration 30, residual = 1.3285753302787534e-07     \n",
      "\u001b[2KCG iteration 31, residual = 7.050799951091061e-08     \n",
      "\u001b[2KCG iteration 32, residual = 1.8106019203450803e-07     \n",
      "\u001b[2KCG iteration 33, residual = 5.2934896081372236e-08     \n",
      "\u001b[2KCG iteration 34, residual = 3.767213805541917e-08     \n",
      "\u001b[2KCG iteration 35, residual = 3.1220430901107606e-08     \n",
      "\u001b[2KCG iteration 36, residual = 2.9167854673403806e-08     \n",
      "\u001b[2KCG iteration 37, residual = 1.3858160147946011e-08     \n"
     ]
    },
    {
     "data": {
      "application/vnd.jupyter.widget-view+json": {
       "model_id": "4b71774bc3fd40a7bc5e6ec3f89ac2c3",
       "version_major": 2,
       "version_minor": 0
      },
      "text/plain": [
       "WebGuiWidget(layout=Layout(height='50vh', width='100%'), value={'gui_settings': {}, 'ngsolve_version': '6.2.25…"
      ]
     },
     "metadata": {},
     "output_type": "display_data"
    }
   ],
   "source": [
    "j = GridFunction(fesL2)\n",
    "pre = BilinearForm(u*v*ds, diagonal=True).Assemble().mat.Inverse()\n",
    "with TaskManager(pajetrace=1000*1000*1000):  \n",
    "    CG(mat = V.mat, pre=pre, rhs = rhs.vec, sol=j.vec, tol=1e-8, maxsteps=200, initialize=False, printrates=True)\n",
    "Draw (j);"
   ]
  },
  {
   "cell_type": "code",
   "execution_count": 6,
   "id": "2ede1e97-2b3b-4949-98d9-acb703b98fcf",
   "metadata": {},
   "outputs": [
    {
     "data": {
      "text/plain": [
       "ngsolve.bem.IntegralOperator"
      ]
     },
     "execution_count": 6,
     "metadata": {},
     "output_type": "execute_result"
    }
   ],
   "source": [
    "type(V)\n",
    "#for t in Timers():\n",
    "#    if \"ngbem\" in t[\"name\"]:\n",
    "#        print (t)"
   ]
  },
  {
   "cell_type": "code",
   "execution_count": 7,
   "id": "718847e7-00e6-476a-a777-6c007903090a",
   "metadata": {},
   "outputs": [
    {
     "data": {
      "application/vnd.jupyter.widget-view+json": {
       "model_id": "4dbf04409068448cb2c49d924b1f4abf",
       "version_major": 2,
       "version_minor": 0
      },
      "text/plain": [
       "WebGuiWidget(layout=Layout(height='50vh', width='100%'), value={'gui_settings': {}, 'ngsolve_version': '6.2.25…"
      ]
     },
     "metadata": {},
     "output_type": "display_data"
    },
    {
     "data": {
      "text/plain": [
       "BaseWebGuiScene"
      ]
     },
     "execution_count": 7,
     "metadata": {},
     "output_type": "execute_result"
    }
   ],
   "source": [
    "screen = WorkPlane(Axes( (0,0,0), Z, X)).RectangleC(0.5,0.5).Face()\n",
    "vismesh = screen.GenerateMesh(maxh=0.05)\n",
    "#Draw (vismesh);\n",
    "LSL = LaplaceSL( u*ds)\n",
    "u_num = LSL(j)\n",
    "u_num.BuildLocalExpansion(vismesh.Boundaries(\".*\")) #MLFMM evaluation\n",
    "Draw(u_num,vismesh)"
   ]
  },
  {
   "cell_type": "markdown",
   "id": "49503a8f-a847-4dd5-8b3e-2289044dd1e1",
   "metadata": {},
   "source": [
    "**Details**\n",
    "  \n",
    "For any $u_j, v_i \\in H^{-\\frac12}(\\Gamma)$, the single layer potential operator is implemented as follows \n",
    "\n",
    "$$ V_{ij} = \\langle v_i, \\gamma_0 \\mathrm{SL}(u_j) \\rangle_{-\\frac12} = \\frac{1}{4\\pi} \\int\\limits_\\Gamma\\int\\limits_\\Gamma \\frac{1}{\\|x-y\\|} \\, u_j(x) \\, v_i(y) \\, \\mathrm{d} s_{y} \\, \\mathrm{d} s_x $$ \n",
    "\n",
    "You may assemble $V$ it by\n",
    "\n",
    "```\n",
    "V = LaplaceSL(u*ds)*v*ds\n",
    "```"
   ]
  },
  {
   "cell_type": "markdown",
   "id": "941acf67-d78e-469c-8b82-3f93ce6a2606",
   "metadata": {},
   "source": [
    "**References**\n",
    "- For details on the analysis of boundary integral equations derived from elliptic partial differential equations, see for instance [Strongly Elliptic Systems and Boundary Integral Equations](https://www.cambridge.org/de/universitypress/subjects/mathematics/differential-and-integral-equations-dynamical-systems-and-co/strongly-elliptic-systems-and-boundary-integral-equations?format=HB&isbn=9780521663328).\n",
    "- The integration of singular pairings is done as proposed in [Randelementmethoden](https://link.springer.com/book/9783519003687)\n",
    "- The adaptive cross approximation is done as proposed in [Hierarchical Matrices](https://link.springer.com/book/10.1007/978-3-540-77147-0).\n",
    "\n"
   ]
  },
  {
   "cell_type": "code",
   "execution_count": null,
   "id": "dd74e1db-a0fa-41eb-b198-e334ffa611d2",
   "metadata": {},
   "outputs": [],
   "source": []
  }
 ],
 "metadata": {
  "kernelspec": {
   "display_name": "Python 3 (ipykernel)",
   "language": "python",
   "name": "python3"
  },
  "language_info": {
   "codemirror_mode": {
    "name": "ipython",
    "version": 3
   },
   "file_extension": ".py",
   "mimetype": "text/x-python",
   "name": "python",
   "nbconvert_exporter": "python",
   "pygments_lexer": "ipython3",
   "version": "3.12.3"
  }
 },
 "nbformat": 4,
 "nbformat_minor": 5
}
