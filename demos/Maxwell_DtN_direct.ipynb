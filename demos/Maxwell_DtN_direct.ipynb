{
 "cells": [
  {
   "cell_type": "code",
   "execution_count": null,
   "id": "4220f8af-1580-467a-801e-6ef49d43c70c",
   "metadata": {},
   "outputs": [],
   "source": [
    "from netgen.occ import *\n",
    "import netgen.meshing as meshing\n",
    "from ngsolve import *\n",
    "from ngsolve.webgui import Draw\n",
    "from ngsolve.bem import *\n",
    "from ngsolve import Projector, Preconditioner\n",
    "from ngsolve.krylovspace import CG, GMRes"
   ]
  },
  {
   "cell_type": "markdown",
   "id": "d3f37057-7dd2-4b61-be87-47f821ef4cd8",
   "metadata": {},
   "source": [
    "**keys**: PEC scattering, single and double layer potential, MoM, unknown Neumann trace (surface current density)"
   ]
  },
  {
   "cell_type": "markdown",
   "id": "27439a9a-bf23-4761-bb28-b73132b97f25",
   "metadata": {},
   "source": [
    "Maxwell PEC Direct method\n",
    "============================="
   ]
  },
  {
   "cell_type": "markdown",
   "id": "82ca8ea2-1feb-46f7-b416-b95db24a9090",
   "metadata": {},
   "source": [
    "We consider a perfect conductor $\\Omega \\subset \\mathbb R^3$ and an electromagnetic signal that induces a scattered electric field which propagates into $\\Omega^c$. The scattered electric field $\\boldsymbol E$ solves the following Dirichlet boundary value problem: \n",
    "\n",
    "$$ \\left\\{ \\begin{array}{rcl l} \\mathbf{curl} \\, \\mathbf{curl}\\, \\boldsymbol E - \\kappa^2 \\, \\boldsymbol E &=& \\boldsymbol 0, \\quad &\\textnormal{in } \\Omega^c \\subset \\mathbb R^3\\,,\\\\ \\gamma_R \\,\\boldsymbol E &=& \\boldsymbol m, \\quad & \\textnormal{on }\\Gamma \\\\ \\left\\| \\mathbf{curl} \\, \\boldsymbol E( x) - i\\,\\omega\\,\\epsilon \\, \\boldsymbol E( x)\\right\\| &=& \\mathcal O\\left( \\displaystyle \\frac{1}{\\| x\\|^2}\\right), &\\textnormal{for} \\; \\|x\\| \\to \\infty\\,.\\end{array} \\right. $$ \n"
   ]
  },
  {
   "cell_type": "markdown",
   "id": "d0b75926-7795-4f15-bb60-8eada2a9b552",
   "metadata": {},
   "source": [
    "A possible representation for $\\boldsymbol E$ reads\n",
    "\n",
    "$$ \\boldsymbol E(x) = \\underbrace{ \\kappa \\, \\int\\limits_\\Gamma \\displaystyle{ \\frac{1}{4\\,\\pi} \\, \\frac{e^{i\\,\\kappa\\,\\|x-y\\|}}{\\| x-y\\|} } \\, \\boldsymbol j(y)\\, \\mathrm{d}s_y  +  \\frac{1}{\\kappa} \\, \\nabla \\int\\limits_\\Gamma \\displaystyle{ \\frac{1}{4\\,\\pi}\\, \\frac{e^{i\\,\\kappa\\,\\|x-y\\|}}{\\| x-y\\|} } \\, \\mathrm{div}_\\Gamma \\boldsymbol j(y)\\, \\mathrm{d}s_y}_{\\displaystyle{ \\mathrm{SL}(\\boldsymbol j)}}+ \\underbrace{ \\nabla \\times  \\int\\limits_\\Gamma \\displaystyle{ \\frac{1}{4\\,\\pi} \\, \\frac{e^{i\\,\\kappa\\,\\|x-y\\|}}{\\| x-y\\|} } \\, \\boldsymbol n \\times \\boldsymbol{m}(y)\\, \\mathrm{d}s_y }_{\\displaystyle \\mathrm{DL}(\\boldsymbol n\\times\\boldsymbol m) } \\,.$$"
   ]
  },
  {
   "cell_type": "markdown",
   "id": "5a194f98-1a0f-41ba-9b5f-d5cab264cef8",
   "metadata": {},
   "source": [
    "**NGSolve Solution**  \n",
    "Define the geometry of the perfect conductor $\\Omega$ and create a mesh:"
   ]
  },
  {
   "cell_type": "code",
   "execution_count": null,
   "id": "b3bee3e9-b23a-43dd-b5d9-8f9265af827a",
   "metadata": {},
   "outputs": [],
   "source": [
    "sp = Sphere( (0,0,0), 1)\n",
    "mesh = Mesh( OCCGeometry(sp).GenerateMesh(maxh=1, perfstepsend=meshing.MeshingStep.MESHSURFACE)).Curve(3)"
   ]
  },
  {
   "cell_type": "markdown",
   "id": "65e5bb28-d6bd-414e-b46c-8b794a8485d0",
   "metadata": {},
   "source": [
    "Next, we create finite element spaces for $\\boldsymbol H^{-\\frac12}(\\mathrm{curl}_\\Gamma, \\Gamma)$ (test functions) and $\\boldsymbol H^{-\\frac12}(\\mathrm{div}_\\Gamma, \\Gamma)$ (trial functions): "
   ]
  },
  {
   "cell_type": "code",
   "execution_count": null,
   "id": "5a6ee11f-4bc6-4cc8-9408-c4d6d9c4727d",
   "metadata": {},
   "outputs": [],
   "source": [
    "order = 3\n",
    "fesHCurl = HCurl(mesh, order=order, complex=True)\n",
    "fesHDiv = HDivSurface(mesh, order=order, complex=True)\n",
    "uHCurl,vHCurl = fesHCurl.TnT() # H(curl_Gamma) trial for Dirichlet data ( (nxE)xn )\n",
    "uHDiv,vHDiv = fesHDiv.TnT() # H(div_Gamma) trial space for Neumann data ( nx curlE ) and test space for BIE\n",
    "\n",
    "print (\"ndof HCurl = \", fesHCurl.ndof)\n",
    "print (\"ndof HDiv = \", fesHDiv.ndof)"
   ]
  },
  {
   "cell_type": "markdown",
   "id": "a56ea32e-7668-48b0-97f3-8fc06926cb06",
   "metadata": {},
   "source": [
    "**Boundary Integral Equation**\n",
    "\n",
    "We carefully apply the tangential trace $\\gamma_R$ on $\\boldsymbol E$ and obtain a boundary integral equation for the unknown trace $\\boldsymbol j$. The boundary integral equation is solved by the boundary element method, i.e. the numerical solution of the variational formulation \n",
    "\n",
    "$$ \\begin{array}{l c c c c c c} \\forall \\, \\boldsymbol v\\in H^{-\\frac12}(\\mathrm{div}_\\Gamma, \\Gamma): &  & \\displaystyle \\int\\limits_\\Gamma \\mathrm{SL}(\\boldsymbol j) \\cdot \\boldsymbol v \\, \\mathrm d s &=&  \\displaystyle \\int\\limits_\\Gamma \\boldsymbol m \\cdot  \\boldsymbol v \\, \\mathrm d s &+&  \\displaystyle \\int\\limits_\\Gamma \\mathrm{DL}(\\boldsymbol n \\times \\boldsymbol{m}) \\cdot \\boldsymbol v \\, \\mathrm d s \\\\[2ex] & \\Rightarrow & \\mathrm{V}\\,\\mathrm j &=& \\displaystyle \\frac12\\,\\mathrm{M} \\, \\mathrm m &-&  \\mathrm K\\, \\mathrm m \\,. \\end{array} $$ \n",
    "\n",
    "In the enineering community, the approximation scheme is also known as **method of moments** (MoM). "
   ]
  },
  {
   "cell_type": "markdown",
   "id": "eca4c4e3-48a7-4c9a-8884-20bae03ef373",
   "metadata": {},
   "source": [
    "Define the incoming plane wave and compute the given boundary data $\\boldsymbol m = -\\gamma_R \\boldsymbol E_{\\mathrm{inc}}$ : "
   ]
  },
  {
   "cell_type": "code",
   "execution_count": null,
   "id": "2ea25412-738b-469b-a30c-990d32089e9c",
   "metadata": {},
   "outputs": [],
   "source": [
    "eps0 = 8.854e-12 \n",
    "mu0 = 4*pi*1e-7\n",
    "omega = 1.5e9\n",
    "kappa = omega*sqrt(eps0*mu0)\n",
    "print(\"kappa = \", kappa)\n",
    "\n",
    "E_inc = CF((1,0,0))*exp( -1j * kappa * z )\n",
    "\n",
    "n = specialcf.normal(3)\n",
    "m = GridFunction(fesHCurl) \n",
    "m.Set( -E_inc, definedon=mesh.Boundaries(\".*\"), dual=True) # Hcurl"
   ]
  },
  {
   "cell_type": "markdown",
   "id": "7d01290a-0d5b-41e9-87d3-a3cb02802867",
   "metadata": {},
   "source": [
    "The discretisation of the above variational formulation leads to a system of linear equations, ie\n",
    "$$ \\mathrm{V} \\, \\mathrm j = \\left( \\frac12 \\,\\mathrm{M} - \\mathrm{K} \\right)\\, \\mathrm{m}\\,,$$\n",
    "where  \n",
    "* $\\mathrm V$ is the Maxwell single layer operator. $V$ is a regular, symmetric matrix.\n",
    "* $\\mathrm{M}$ is the mass matrix.\n",
    "* $\\mathrm K$ is the Maxwell double layer operator. $K$ is quadratic:\n",
    "\n",
    "The assembly of the potential operators is declarative and close to their actual implementations. All contributions to the Maxwell layer potentials are derivates of the Helmholtz layer potentials and thus, we use the Helmholtz operators as building blocks (explicite formulas are given at the end of the notebook)."
   ]
  },
  {
   "cell_type": "code",
   "execution_count": null,
   "id": "959ddac0-c19b-478b-b253-023bda4bc70d",
   "metadata": {},
   "outputs": [],
   "source": [
    "intorder = 2 * order + 6\n",
    "with TaskManager(): \n",
    "    M = BilinearForm( uHCurl.Trace()*vHDiv.Trace()*ds(bonus_intorder=3)).Assemble() # <Hcurl, Hdiv> "
   ]
  },
  {
   "cell_type": "code",
   "execution_count": null,
   "id": "9424ea87-8b70-4aa2-b132-07a6d316341f",
   "metadata": {},
   "outputs": [],
   "source": [
    "with TaskManager(): \n",
    "    V1 = HelmholtzSL( uHDiv.Trace()*ds , kappa) * vHDiv.Trace() * ds\n",
    "    V2 = HelmholtzSL( div(uHDiv.Trace()) * ds, kappa) * div(vHDiv.Trace()) * ds\n",
    "    V = kappa * V1.mat - 1/kappa * V2.mat\n",
    "    K = HelmholtzDL(uHCurl.Operator(\"rotated_trace\") * ds, kappa) * vHDiv.Trace() * ds"
   ]
  },
  {
   "cell_type": "code",
   "execution_count": null,
   "id": "826c6485-fa0f-4643-a245-70fd662c99d9",
   "metadata": {},
   "outputs": [],
   "source": [
    "# solve direct formulation for j, i.e., Neumann data of scattered electric field E\n",
    "j = GridFunction(fesHDiv) \n",
    "pre = BilinearForm( uHDiv.Trace() * vHDiv.Trace() *ds).Assemble().mat.Inverse(freedofs=fesHDiv.FreeDofs()) \n",
    "with TaskManager(): \n",
    "    rhs = ( (0.5 * M.mat - K.mat ) * m.vec).Evaluate() \n",
    "    GMRes(A = V, pre=pre, b = rhs, x=j.vec, tol=1e-8, maxsteps=5000, printrates=True)"
   ]
  },
  {
   "cell_type": "code",
   "execution_count": null,
   "id": "76225ee2-ada5-4273-bae3-653363d5ee92",
   "metadata": {},
   "outputs": [],
   "source": [
    "Draw(j[1].real, mesh, draw_vol=False, order=3);"
   ]
  },
  {
   "cell_type": "markdown",
   "id": "50cb62f4-98d2-4c38-ae7e-4f116f40bd5a",
   "metadata": {},
   "source": [
    "**TODO Evaluate the Solution**\n",
    "\n",
    "To evaluate the solution inside $\\Omega$ we have to evaluate the representation formula, i.e., \n",
    "\n",
    "$$ \\boldsymbol E(x) = \\kappa \\, \\underbrace{\\int\\limits_\\Gamma \\displaystyle{ \\frac{1}{4\\,\\pi} \\, \\frac{e^{i\\,\\kappa\\,\\|x-y\\|}}{\\| x-y\\|} } \\, \\boldsymbol j(y)\\, \\mathrm{d}s_y}_{\\displaystyle{ \\mathrm{L}_1(\\boldsymbol j) } }  +  \\frac{1}{\\kappa} \\nabla \\underbrace{ \\int\\limits_\\Gamma \\displaystyle{ \\frac{1}{4\\,\\pi}\\, \\frac{e^{i\\,\\kappa\\,\\|x-y\\|}}{\\| x-y\\|} } \\, \\mathrm{div}_\\Gamma \\boldsymbol j(y)\\, \\mathrm{d}s_y }_{\\displaystyle{\\mathrm{L}_2(\\boldsymbol j)} } + \\nabla \\times \\underbrace{\\int\\limits_\\Gamma \\displaystyle{ \\frac{1}{4\\,\\pi} \\, \\frac{e^{i\\,\\kappa\\,\\|x-y\\|}}{\\| x-y\\|} } \\, \\boldsymbol n \\times \\boldsymbol{m}(y)\\, \\mathrm{d}s_y }_{\\displaystyle{ \\mathrm{L}_3 (\\boldsymbol{m}) } } \\,.$$\n",
    "\n",
    "The kernel function that appears in the Maxwell layer potentials is the same as for Helmholtz. Indead, it turns out that the Maxwell layer potentials are derivates of Helmholtz layer potentials. We make this relation clear by using the Helmholtz layer potentials and layer potential operators as building blocks for Maxwell operators. Note that there are formulations such as the low frequency stabilization that even require an explicit split of the summands of the Maxwell single layer potential (References below).\n",
    "\n",
    "$$ \\begin{array}{rcl} \\mathrm{L}_1(\\boldsymbol u ) &=& \\verb-HelmholtzSL(u * ds, kappa)- \\\\\n",
    "\\mathrm{L}_2(\\boldsymbol u) &=& \\verb-HelmholtzSL(div(u)*ds, kappa)- \\\\\n",
    "\\mathrm{L}_3(\\boldsymbol u) &=& \\verb-HelmholtzSL(u.Operator(\"rotated_trace\") *ds, kappa)-\\,. \\end{array}$$"
   ]
  },
  {
   "cell_type": "code",
   "execution_count": null,
   "id": "265cbfe3-1dd8-48a7-86a5-ed3e46b98b52",
   "metadata": {},
   "outputs": [],
   "source": []
  },
  {
   "cell_type": "markdown",
   "id": "ede08b98-8609-433f-872f-9bc19c52fd95",
   "metadata": {},
   "source": [
    "**Details on Layer Potential Operators**\n",
    "\n",
    "For a trial function $\\boldsymbol u_j \\in H^{-\\frac12}(\\mathrm{div}_\\Gamma,\\Gamma)$ and a test function $\\boldsymbol v_i \\in H^{-\\frac12}(\\mathrm{div}_\\Gamma,\\Gamma)$ the Maxwell single layer potential operator entry $V_{ij}$ can formally written as\n",
    "\n",
    "$$ V_{ij} = \\kappa \\, \\int\\limits_\\Gamma \\int\\limits_\\Gamma \\displaystyle{ \\frac{1}{4\\,\\pi} \\, \\frac{e^{i\\,\\kappa\\,\\|x-y\\|}}{\\| x-y\\|} } \\, \\boldsymbol u_j(y) \\cdot \\boldsymbol v_i(x) \\, \\mathrm{d}s_x \\mathrm{d} s_x - \\frac{1}{\\kappa} \\int\\limits_\\Gamma \\int\\limits_\\Gamma \\displaystyle{ \\frac{1}{4\\,\\pi}\\, \\frac{e^{i\\,\\kappa\\,\\|x-y\\|}}{\\| x-y\\|} } \\, \\mathrm{div}_\\Gamma \\boldsymbol u_j(y)\\,  \\mathrm{div}_\\Gamma \\boldsymbol v_i(x)\\, \\mathrm{d}\\sigma_y\\,\\mathrm d s_x\\,. $$ \n",
    "\n",
    "The two contributions are derivates of the Helmholtz single layer potential operator and may be implemented as such:   \n",
    "\n",
    "```\n",
    "V = kappa * (HelmholtzSL(u*ds, kappa)*v*ds - 1/kappa * HelmholtzSL(div(u)*ds, kappa)*div(v)*ds\n",
    "```\n",
    "\n",
    "For a trial function $\\boldsymbol u_j \\in H^{-\\frac12}(\\mathrm{curl}_\\Gamma,\\Gamma)$ and a test function $\\boldsymbol v_i \\in H^{-\\frac12}(\\mathrm{div}_\\Gamma,\\Gamma)$ the Maxwell double layer potential operator entry $K_{ij}$ can formally written as\n",
    "\n",
    "$$ K_{ij} = \\int\\limits_\\Gamma \\displaystyle\\int\\limits_\\Gamma \\displaystyle{ \\frac{1}{4\\,\\pi} \\, \\nabla_x \\frac{e^{i\\,\\kappa\\,\\|x-y\\|}}{\\| x-y\\|} }  \\times  ( \\boldsymbol n \\times \\boldsymbol{u}_j(y) ) \\, \\mathrm{d} s_y \\cdot \\boldsymbol v_i(x) \\mathrm d s_x\\,.$$\n",
    "\n",
    "Giving transparency to its relation to the Helmholtz double layer potential operator, you may assemble it as follows:\n",
    "\n",
    "\n",
    "```\n",
    "K = HelmholtzDL( u.Operator(\"rotated_trace\") * ds, kappa) * v * ds\n",
    "```\n",
    "\n"
   ]
  },
  {
   "cell_type": "markdown",
   "id": "d8608345-92c1-4210-98df-53ecca149bea",
   "metadata": {},
   "source": [
    "**References (theoretical and numerical results):**\n",
    "\n",
    "- [High order Boundary Element Methods](https://publikationen.sulb.uni-saarland.de/bitstream/20.500.11880/26312/1/thesis_weggler_final_6.1.12.pdf)\n",
    "- [Stabilized boundary element methods for low-frequency electromagnetic scattering](https://onlinelibrary.wiley.com/doi/10.1002/mma.1597)\n"
   ]
  },
  {
   "cell_type": "code",
   "execution_count": null,
   "id": "c8fecd82-ea37-4fc8-a789-7703d03141e3",
   "metadata": {},
   "outputs": [],
   "source": []
  }
 ],
 "metadata": {
  "kernelspec": {
   "display_name": "Python 3 (ipykernel)",
   "language": "python",
   "name": "python3"
  },
  "language_info": {
   "codemirror_mode": {
    "name": "ipython",
    "version": 3
   },
   "file_extension": ".py",
   "mimetype": "text/x-python",
   "name": "python",
   "nbconvert_exporter": "python",
   "pygments_lexer": "ipython3",
   "version": "3.12.3"
  }
 },
 "nbformat": 4,
 "nbformat_minor": 5
}
