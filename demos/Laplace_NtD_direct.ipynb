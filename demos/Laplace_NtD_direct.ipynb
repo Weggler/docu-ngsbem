{
 "cells": [
  {
   "cell_type": "code",
   "execution_count": null,
   "id": "857bd30d-7ae3-4e58-affc-e1699eb8e6a2",
   "metadata": {},
   "outputs": [],
   "source": [
    "from netgen.occ import *\n",
    "from ngsolve import *\n",
    "from ngsolve.webgui import Draw\n",
    "from ngsolve.bem import *\n",
    "from ngsolve import Projector, Preconditioner\n",
    "from ngsolve.krylovspace import CG"
   ]
  },
  {
   "cell_type": "markdown",
   "id": "6fef11cb-3656-4c1c-8d40-b4d92f93229e",
   "metadata": {},
   "source": [
    "**keys**: homogeneous Neumann bvp, hypersingular operator, unknown Dirichlet data"
   ]
  },
  {
   "cell_type": "markdown",
   "id": "0ee6af1e-0f25-4fc6-b43c-8f97f389c851",
   "metadata": {},
   "source": [
    "Neumann Laplace Direct Method \n",
    "======================================================"
   ]
  },
  {
   "cell_type": "markdown",
   "id": "41256535-21b1-4da5-bb2b-ded9eb19fe64",
   "metadata": {},
   "source": [
    "Consider the Neumann boundary value problem \n",
    "\n",
    "$$ \\left\\{ \\begin{array}{rlc l} \\Delta u &=& 0, \\quad &\\Omega \\subset \\mathbb R^3\\,,\\\\ \\gamma_1 u&=& j, \\quad &\\Gamma = \\partial \\Omega\\,.\\end{array} \\right. $$ \n",
    "\n",
    "The unique solution $u\\in H^1(\\Omega)$ can be written in the following form (representation forumula) \n",
    "\n",
    "$$ u(x) = \\underbrace{ \\int\\limits_\\Gamma \\displaystyle{\\frac{1}{4\\,\\pi}\\, \\frac{1}{\\| x-y\\|} } \\, j(y)\\, \\mathrm{d}s_y}_{\\displaystyle{ \\mathrm{SL}(j) }} + \\underbrace{ \\int\\limits_\\Gamma \\displaystyle{\\frac{1}{4\\,\\pi}\\, \\frac{\\langle n(y), x-y \\rangle}{\\| x-y\\|^3} } \\, m( y)\\, \\mathrm{d}s_y}_{\\displaystyle{ \\mathrm{DL}(m) }}\\,.$$ \n"
   ]
  },
  {
   "cell_type": "markdown",
   "id": "8849820a-3553-4222-9027-52cebe7eac8d",
   "metadata": {},
   "source": [
    "**NGSolve Solution**\n",
    "\n",
    "Define the geometry $\\Omega \\subset \\mathbb R^3$ and create a mesh:"
   ]
  },
  {
   "cell_type": "code",
   "execution_count": null,
   "id": "3383f599-d40d-472f-8a7b-72f9da348420",
   "metadata": {},
   "outputs": [],
   "source": [
    "sp = Sphere( (0,0,0), 1)\n",
    "mesh = Mesh( OCCGeometry(sp).GenerateMesh(maxh=0.2)).Curve(2)"
   ]
  },
  {
   "cell_type": "markdown",
   "id": "4aecdc7b-5270-4b06-8f3d-59509e75e44d",
   "metadata": {},
   "source": [
    "Define conforming finite element spaces for $H^{\\frac12}(\\Gamma)$ and $H^{-\\frac12}(\\Gamma)$ respectively:  "
   ]
  },
  {
   "cell_type": "code",
   "execution_count": null,
   "id": "a64ca21d-9a4a-40aa-9ba1-d9a0bf67b6ec",
   "metadata": {},
   "outputs": [],
   "source": [
    "fesL2 = SurfaceL2(mesh, order=2, dual_mapping=False) # TODO: check interpolation with option dual_mapping=True  \n",
    "u,v = fesL2.TnT()\n",
    "fesH1 = H1(mesh, order=2, definedon=mesh.Boundaries(\".*\"))\n",
    "uH1,vH1 = fesH1.TnT()\n",
    "print (\"ndofL2 = \", fesL2.ndof, \"ndof H1 = \", fesH1.ndof)"
   ]
  },
  {
   "cell_type": "markdown",
   "id": "6173bec6-13d4-45cf-bd84-5c95952f5c03",
   "metadata": {},
   "source": [
    "Project the given Neumann data $u_1$ in finite element space and have a look at the boundary data:"
   ]
  },
  {
   "cell_type": "code",
   "execution_count": null,
   "id": "4755561a-b979-4451-aae4-9b34e39577aa",
   "metadata": {},
   "outputs": [],
   "source": [
    "uexa = 1/ sqrt( (x-1)**2 + (y-1)**2 + (z-1)**2 )\n",
    "\n",
    "graduexa = CF( (uexa.Diff(x), uexa.Diff(y), uexa.Diff(z)) )\n",
    "n = specialcf.normal(3)\n",
    "j = GridFunction(fesL2)\n",
    "j.Interpolate(graduexa*n, definedon=mesh.Boundaries(\".*\"))\n",
    "\n",
    "Draw (j, mesh, draw_vol=False, order=3);"
   ]
  },
  {
   "cell_type": "markdown",
   "id": "28793459-bab0-47a9-8bcb-77177bd443d0",
   "metadata": {},
   "source": [
    "**Boundary Integral Equation**\n",
    "\n",
    "Let's carefully apply the Neumann trace $\\gamma_1$ to the representation formula and solve the resulting boundary integral equation for the Dirichlet trace $u_0$ of $u$ by discretisation of the following variational formulation: \n",
    "\n",
    "$$\\begin{array}{r c ccc} \\forall \\, v\\in H^{\\frac12}(\\Gamma): && \\displaystyle \\int\\limits_\\Gamma v \\cdot \\gamma_1 \\left(\\mathrm{DL}(m) \\right) \\, \\mathrm d s  &=&  \\displaystyle \\int\\limits_\\Gamma j \\cdot  v \\,\\mathrm d s &-& \\displaystyle \\int\\limits_\\Gamma v \\cdot \\gamma_1 \\left(\\mathrm{SL}(j)\\right) \\, \\mathrm d s \\\\[2ex] & \\Rightarrow & \\mathrm{D}\\,\\mathrm{m} &=& \\dfrac12 \\, \\mathrm{M} \\, \\mathrm j &-& \\mathrm{K}' \\, \\mathrm j\\,. \\end{array} $$ \n"
   ]
  },
  {
   "cell_type": "markdown",
   "id": "57d4d251-70dd-497f-8439-307bd0a3c36e",
   "metadata": {},
   "source": [
    "The discretisation of the variational formulation leads to a system of linear equations, ie \n",
    "\n",
    "$$ \\left( \\mathrm{D} + \\mathrm{S}\\right) \\, \\mathrm{m} = \\left( \\frac12 \\,\\mathrm{M} - \\mathrm{K}' \\right) \\, \\mathrm{j} \\,, $$\n",
    "\n",
    "where the linear operators are as follows\n",
    "- $\\mathrm{S}$ is a stabilisation matrix that removes the one dimensional kernel from hypersinbular operator.\n",
    "-  $\\mathrm{D}$ is the hypersingular operator and the stabilisation $(\\mathrm D + \\mathrm{S})$ is regular and symmetric.\n",
    "- $\\mathrm{M}$ is a mass matrix.\n",
    "- $\\mathrm{K}'$ is the adjoint double layer operator. "
   ]
  },
  {
   "cell_type": "markdown",
   "id": "9abc02ba-3c53-499c-bd3e-87357f76004c",
   "metadata": {},
   "source": [
    "The stabilisation matrix $S$ is needed to cope with the kernel of the hypersingular operator. The following stabilisation matrix is used here: \n",
    "\n",
    "$$ S \\in \\mathbb R^{n\\times n}, \\quad S_{ij} = \\int\\limits_{\\Gamma} v_i(x) \\,\\mathrm{d} s \\cdot \\int\\limits_{\\Gamma} v_j(x) \\,\\mathrm{d} s\\,,$$ \n",
    "\n",
    "where $v_i, v_j$ being $H^{\\frac12}(\\Gamma)$-conforming shape functions. "
   ]
  },
  {
   "cell_type": "code",
   "execution_count": null,
   "id": "b7989879-6512-49c2-882f-84c1d53551fe",
   "metadata": {},
   "outputs": [],
   "source": [
    "vH1m1 = LinearForm(vH1*1*ds(bonus_intorder=3)).Assemble()\n",
    "S = (BaseMatrix(Matrix(vH1m1.vec.Reshape(1))))@(BaseMatrix(Matrix(vH1m1.vec.Reshape(fesH1.ndof))))"
   ]
  },
  {
   "cell_type": "markdown",
   "id": "4d0000e3-b94e-4fef-ab3f-dcbbbb0732e5",
   "metadata": {},
   "source": [
    "The assembly of the hypersingular operator is declarative and close to their actual implementations (explicit formula are given below)."
   ]
  },
  {
   "cell_type": "code",
   "execution_count": null,
   "id": "7b1212d1-acfb-4b31-b301-2dc84a83c3f3",
   "metadata": {},
   "outputs": [],
   "source": [
    "with TaskManager(): \n",
    "    D = LaplaceSL(curl(uH1)*ds)*curl(vH1)*ds\n",
    "    K = LaplaceDL(uH1*ds)*v*ds\n",
    "    M = BilinearForm( uH1 * v * ds(bonus_intorder=3)).Assemble()"
   ]
  },
  {
   "cell_type": "markdown",
   "id": "79575ead-30c5-4982-b459-af38346ac15b",
   "metadata": {},
   "source": [
    "Left and right hand side of linear system are computed and the solution is the Dirichlet data $u_0$:"
   ]
  },
  {
   "cell_type": "code",
   "execution_count": null,
   "id": "4378ef82-b227-4353-8e6d-3fbac516b434",
   "metadata": {},
   "outputs": [],
   "source": [
    "m = GridFunction(fesH1)\n",
    "pre = BilinearForm(uH1*vH1*ds).Assemble().mat.Inverse(freedofs=fesH1.FreeDofs())\n",
    "with TaskManager(): \n",
    "    lhs = D.mat + S\n",
    "    rhs = ( (0.5 * M.mat.T - K.mat.T) * j.vec ).Evaluate()\n",
    "    CG(mat=lhs, pre=pre, rhs=rhs, sol=m.vec, tol=1e-8, maxsteps=200, initialize=False, printrates=True)"
   ]
  },
  {
   "cell_type": "markdown",
   "id": "236cbd77-3417-4682-99bb-99b1f66fb979",
   "metadata": {},
   "source": [
    "Let's have a look at the numerical and exact Dirichlet data and compare them quantitatively:"
   ]
  },
  {
   "cell_type": "code",
   "execution_count": null,
   "id": "13b84c82-f006-4b73-a9e8-b0da676415c5",
   "metadata": {},
   "outputs": [],
   "source": [
    "Draw (m, mesh, draw_vol=False, order=3);\n",
    "mexa = GridFunction(fesH1)\n",
    "mexa.Interpolate (uexa, definedon=mesh.Boundaries(\".*\"))\n",
    "Draw (mexa, mesh, draw_vol=False, order=3);"
   ]
  },
  {
   "cell_type": "code",
   "execution_count": null,
   "id": "1f225b73-6ce2-47ff-9957-27f326de6ca8",
   "metadata": {},
   "outputs": [],
   "source": [
    "print (\"L2 error of surface gradients =\", sqrt (Integrate ( (grad(mexa)-grad(m))**2, mesh, BND)))"
   ]
  },
  {
   "cell_type": "markdown",
   "id": "e374149d-545d-4ca2-bc6e-f03ebfdfc314",
   "metadata": {},
   "source": [
    "**TODO Evaluation Solution**"
   ]
  },
  {
   "cell_type": "code",
   "execution_count": null,
   "id": "5b622504-e156-414c-a516-ed280b40914e",
   "metadata": {},
   "outputs": [],
   "source": []
  },
  {
   "cell_type": "markdown",
   "id": "9e89a50d-36e8-4b0e-83d2-46fe9e29e9e4",
   "metadata": {},
   "source": [
    "**Details**\n",
    "  \n",
    "The hypersingular operator is implemented as follows (reference below)\n",
    "\n",
    "$$ D_{ij} = \\langle v_j, \\gamma_1 \\mathrm{DL}(u_i) \\rangle_{-\\frac12} = \\frac{1}{4\\pi} \\int\\limits_\\Gamma\\int\\limits_\\Gamma \\frac{ \\langle \\mathrm{\\boldsymbol {curl}}_\\Gamma  \\,u_i(x), \\mathrm{\\boldsymbol{curl}}_\\Gamma\\, v_j(y) \\rangle}{\\|x-y\\|} \\, \\mathrm{d} s_{y} \\, \\mathrm{d} s_x $$ \n",
    "\n",
    "This explicit represenation of $D$ is the singular layer potential operator with vector valued surface curl operator applied on trial and test functions. You may assemble $D$ it by\n",
    "\n",
    "```\n",
    "D = LaplaceSL(curl(u)*ds)*curl(v)*ds\n",
    "```"
   ]
  },
  {
   "cell_type": "markdown",
   "id": "534cf761-83a9-409b-8e38-6d4dc5c30321",
   "metadata": {},
   "source": [
    "**References:** \n",
    "\n",
    "For details on the explicit representation of the hypersingular operator have a look into [Numerische Näherungsverfahren für elliptische Randwertprobleme](https://link.springer.com/book/10.1007/978-3-322-80054-1), p.127, p.259 (1st edition)."
   ]
  },
  {
   "cell_type": "code",
   "execution_count": null,
   "id": "72f4238b-9ca2-46ec-bc75-a37251074678",
   "metadata": {},
   "outputs": [],
   "source": []
  }
 ],
 "metadata": {
  "kernelspec": {
   "display_name": "Python 3 (ipykernel)",
   "language": "python",
   "name": "python3"
  },
  "language_info": {
   "codemirror_mode": {
    "name": "ipython",
    "version": 3
   },
   "file_extension": ".py",
   "mimetype": "text/x-python",
   "name": "python",
   "nbconvert_exporter": "python",
   "pygments_lexer": "ipython3",
   "version": "3.12.3"
  }
 },
 "nbformat": 4,
 "nbformat_minor": 5
}
