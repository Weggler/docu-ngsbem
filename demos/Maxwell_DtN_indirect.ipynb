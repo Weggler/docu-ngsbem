{
 "cells": [
  {
   "cell_type": "code",
   "execution_count": null,
   "id": "4220f8af-1580-467a-801e-6ef49d43c70c",
   "metadata": {},
   "outputs": [],
   "source": [
    "from netgen.occ import *\n",
    "import netgen.meshing as meshing\n",
    "from ngsolve import *\n",
    "from ngsolve.webgui import Draw\n",
    "from ngsolve.bem import *\n",
    "from ngsolve import Projector, Preconditioner\n",
    "from ngsolve.krylovspace import CG"
   ]
  },
  {
   "cell_type": "markdown",
   "id": "9a6b75af-958f-498e-969f-b325ddc1ae33",
   "metadata": {},
   "source": [
    "**keys**: PEC scattering, single layer potential, EFIE, MoM "
   ]
  },
  {
   "cell_type": "markdown",
   "id": "27439a9a-bf23-4761-bb28-b73132b97f25",
   "metadata": {},
   "source": [
    "Maxwell PEC Indirect Method\n",
    "============================="
   ]
  },
  {
   "cell_type": "markdown",
   "id": "60f033eb-7ce3-464f-a114-cbcd2b784c83",
   "metadata": {},
   "source": [
    "**Boundary Value Problem**\n",
    "\n",
    "We consider a perfect conducter $\\Omega \\subset \\mathbb R^3$ and a plane wave $\\boldsymbol E_{\\mathrm{inc}} $ with tangential trace $\\gamma_R \\boldsymbol E_{\\mathrm{inc}} = -\\boldsymbol m \\in \\boldsymbol H^{-\\frac12}\\left( \\mathrm{curl}_\\Gamma, \\Gamma\\right)\\,.$ The incoming wave thus induces a scattered electric field $\\boldsymbol E$ which propagates into $\\Omega^c$. The scattered electric field solves the following boundary value problem: \n",
    "\n",
    "$$ \\left\\{ \\begin{array}{rcl l} \\mathbf{curl} \\, \\mathbf{curl}\\, \\boldsymbol E - \\kappa^2 \\, \\boldsymbol E &=& \\boldsymbol 0, \\quad &\\textnormal{in } \\Omega^c \\subset \\mathbb R^3\\,,\\\\ \\gamma_R \\,\\boldsymbol E &=& \\boldsymbol m, \\quad & \\textnormal{on }\\Gamma \\\\ \\left\\| \\mathbf{curl} \\, \\boldsymbol E( x) - i\\,\\omega\\,\\epsilon \\, \\boldsymbol E( x)\\right\\| &=& \\mathcal O\\left( \\displaystyle \\frac{1}{\\| x\\|^2}\\right), &\\textnormal{for} \\; \\|x\\| \\to \\infty\\,.\\end{array} \\right. $$ "
   ]
  },
  {
   "cell_type": "markdown",
   "id": "a5742d03-74bb-4b9b-ba12-9b3006a84a80",
   "metadata": {},
   "source": [
    "**Representation Formula**\n",
    "\n",
    "A possible representation for $\\boldsymbol E$ reads\n",
    "\n",
    "$$ \\boldsymbol E(x) = \\underbrace{ \\kappa \\, \\int\\limits_\\Gamma \\displaystyle{ \\frac{1}{4\\,\\pi} \\, \\frac{e^{i\\,\\kappa\\,\\|x-y\\|}}{\\| x-y\\|} } \\, \\boldsymbol j(y)\\, \\mathrm{d}s_y  +  \\frac{1}{\\kappa} \\, \\nabla \\int\\limits_\\Gamma \\displaystyle{ \\frac{1}{4\\,\\pi}\\, \\frac{e^{i\\,\\kappa\\,\\|x-y\\|}}{\\| x-y\\|} } \\, \\mathrm{div}_\\Gamma \\boldsymbol j(y)\\, \\mathrm{d}s_y}_{\\displaystyle{ \\mathrm{SL}(\\boldsymbol j)}} \\,.$$"
   ]
  },
  {
   "cell_type": "markdown",
   "id": "c74e2639-0d66-49ca-84e1-62a4631f1652",
   "metadata": {},
   "source": [
    "**Solution with NGSolve** \n",
    "\n",
    "Define the geometry of the perfect conductor and create a mesh:"
   ]
  },
  {
   "cell_type": "code",
   "execution_count": null,
   "id": "b3bee3e9-b23a-43dd-b5d9-8f9265af827a",
   "metadata": {},
   "outputs": [],
   "source": [
    "sp = Sphere( (0,0,0), 1)\n",
    "mesh = Mesh( OCCGeometry(sp).GenerateMesh(maxh=1, perfstepsend=meshing.MeshingStep.MESHSURFACE)).Curve(4)"
   ]
  },
  {
   "cell_type": "markdown",
   "id": "e8c31fe0-9761-494b-9ab7-81a88a8c9bbb",
   "metadata": {},
   "source": [
    "Next, we create finite element spaces $\\boldsymbol H^{-\\frac12}(\\mathrm{curl}_\\Gamma, \\Gamma)$ and $\\boldsymbol H^{-\\frac12}(\\mathrm{div}_\\Gamma, \\Gamma)$:"
   ]
  },
  {
   "cell_type": "code",
   "execution_count": null,
   "id": "5a6ee11f-4bc6-4cc8-9408-c4d6d9c4727d",
   "metadata": {},
   "outputs": [],
   "source": [
    "fesHCurl = HCurl(mesh, order=3, complex=True)\n",
    "fesHDiv = HDivSurface(mesh, order=3, complex=True)\n",
    "uHCurl,vHCurl = fesHCurl.TnT() # H(curl_Gamma) trial for Dirichlet data ( (nxE)xn )\n",
    "uHDiv,vHDiv = fesHDiv.TnT() # H(div_Gamma) trial space for Neumann data ( nx curlE ) and test space for BIE\n",
    "\n",
    "print (\"ndof HCurl = \", fesHCurl.ndof)\n",
    "print (\"ndof HDiv = \", fesHDiv.ndof)"
   ]
  },
  {
   "cell_type": "markdown",
   "id": "072b149e-d83c-46f6-9d30-b0a432e7dcdd",
   "metadata": {},
   "source": [
    "Define the incoming plane wave and compute the given Dirichlet data $\\boldsymbol m$: "
   ]
  },
  {
   "cell_type": "code",
   "execution_count": null,
   "id": "2ea25412-738b-469b-a30c-990d32089e9c",
   "metadata": {},
   "outputs": [],
   "source": [
    "eps0 = 8.854e-12 \n",
    "mu0 = 4*pi*1e-7\n",
    "omega = 1.5e9\n",
    "kappa = omega*sqrt(eps0*mu0)\n",
    "print(\"kappa = \", kappa)\n",
    "\n",
    "E_inc = CF((1,0,0))*exp( -1j * kappa * z )\n",
    "n = specialcf.normal(3)\n",
    "m = - Cross( Cross(n, E_inc), n) # m = (nxE)xn in H(curl_Gamma)\n",
    "Draw(Norm(m), mesh, draw_vol=False, order=2) ;"
   ]
  },
  {
   "cell_type": "markdown",
   "id": "38f69033-8bac-4519-bef5-8a9d73f715e8",
   "metadata": {},
   "source": [
    "**Boundary Integral Equation**\n",
    "\n",
    "The density $\\boldsymbol j$ is determined by the boundary element method, i.e. the numerical solution of the variational formulation \n",
    "\n",
    "$$ \\begin{array}{l c c c c} \\forall \\, \\boldsymbol v\\in H^{-\\frac12}(\\mathrm{div}_\\Gamma, \\Gamma): &  & \\displaystyle \\int\\limits_\\Gamma \\mathrm{SL}(\\boldsymbol j) \\cdot \\boldsymbol v \\, \\mathrm d s &=&  \\displaystyle \\int\\limits_\\Gamma \\boldsymbol m \\cdot  \\boldsymbol v \\, \\mathrm d s \\\\[2ex] & \\Rightarrow & \\mathrm{V}\\,\\mathrm j &=& \\mathrm{M}\\, \\mathrm m \\,. \\end{array} $$ \n",
    "\n",
    "In the enineering community, the approximation scheme is also known as **method of moments** (MoM) and the resulting equation for $\\boldsymbol j$ is called the **EFIE**, the electric field integral equation. "
   ]
  },
  {
   "cell_type": "markdown",
   "id": "c9255ee1-9bb1-47a3-a3f1-12fc048bb19e",
   "metadata": {},
   "source": [
    "The discretisation of the above variational formulation leads to a system of linear equations, ie\n",
    "\n",
    "$$ V\\, \\mathrm j = \\mathrm{M} \\, \\mathrm m\\,,$$ \n",
    "\n",
    "where the single layer operator $V$ on the left is a regular and symmetric matrix. Its assembly is declarative and close to their actual implementations. All contributions to the Maxwell layer potentials are derivates of the Helmholtz layer potentials and thus, we use the Helmholtz operators as building blocks (explicit formulas are given below)."
   ]
  },
  {
   "cell_type": "code",
   "execution_count": null,
   "id": "5da7bba5-fe7a-4b35-814e-50f380c0c338",
   "metadata": {},
   "outputs": [],
   "source": [
    "rhs = LinearForm( m * vHDiv.Trace() *ds(bonus_intorder=3) ).Assemble()  # <H(curl_Gamma), H(div_Gamma)> "
   ]
  },
  {
   "cell_type": "code",
   "execution_count": null,
   "id": "86468414-ef61-462e-a97d-6dbd0e1f5098",
   "metadata": {},
   "outputs": [],
   "source": [
    "with TaskManager(): \n",
    "    V1 = HelmholtzSL( uHDiv.Trace()*ds(bonus_intorder=6) , kappa) * vHDiv.Trace() * ds(bonus_intorder=6)\n",
    "    V2 = HelmholtzSL( div(uHDiv.Trace()) * ds(bonus_intorder=6), kappa) * div(vHDiv.Trace()) * ds(bounus_intorder=6)\n",
    "    V = kappa * V1.mat - 1/kappa * V2.mat"
   ]
  },
  {
   "cell_type": "code",
   "execution_count": null,
   "id": "0547ded5-a9f5-4515-9ad5-3b5dc006549d",
   "metadata": {},
   "outputs": [],
   "source": [
    "j = GridFunction(fesHDiv)\n",
    "pre = BilinearForm( uHDiv.Trace() * vHDiv.Trace() *ds ).Assemble().mat.Inverse(freedofs=fesHDiv.FreeDofs()) \n",
    "with TaskManager():\n",
    "    CG(mat = V, pre=pre, rhs = rhs.vec, sol=j.vec, tol=1e-8, maxsteps=500, initialize=False, printrates=False)"
   ]
  },
  {
   "cell_type": "code",
   "execution_count": null,
   "id": "1e63632c-608c-4a1d-b1fb-7e7fc709c3d0",
   "metadata": {},
   "outputs": [],
   "source": [
    "Draw (Norm(j), mesh, draw_vol=False, order=3);"
   ]
  },
  {
   "cell_type": "code",
   "execution_count": null,
   "id": "c51ec3c8-e5b3-4228-8ea4-204522da614d",
   "metadata": {},
   "outputs": [],
   "source": [
    "Draw( j, mesh, draw_vol=False, order=3, min=-2, max=2, animate_complex=True);"
   ]
  },
  {
   "cell_type": "markdown",
   "id": "ab4aa5bb-60c9-4fdd-90ec-c4d5e228d8b8",
   "metadata": {},
   "source": [
    "**Evaluation of the Scattered Field**\n",
    "\n",
    "Define the geometry of the receiver, generate a mesh and evaluate the scattered field $\\boldsymbol E$.\n",
    "\n",
    "- consider as receiver a sphere around the PEC body:   "
   ]
  },
  {
   "cell_type": "code",
   "execution_count": null,
   "id": "68517fff-28d1-4019-a689-c9e7b7abc51f",
   "metadata": {},
   "outputs": [],
   "source": [
    "# sphere \n",
    "order = 3\n",
    "screen = Sphere( (0,0,0), 20)\n",
    "mesh_screen = Mesh( OCCGeometry(screen).GenerateMesh(maxh=1, perfstepsend=meshing.MeshingStep.MESHSURFACE)).Curve(4)\n",
    "fes_screen = HCurl(mesh_screen, order=3, complex=True)\n",
    "E_screen = GridFunction(fes_screen)\n",
    "\n",
    "V = MaxwellSingleLayerPotentialOperator(fesHDiv, kappa, intorder=8 + 2 * order)\n",
    "E_screen.Set (V.GetPotential(j)[0:3], definedon=mesh_screen.Boundaries(\".*\"))"
   ]
  },
  {
   "cell_type": "markdown",
   "id": "1b496b5d-ac77-4027-9373-18e67af9d1e2",
   "metadata": {},
   "source": [
    "We obtain the typical far field pattern of the scattered field:"
   ]
  },
  {
   "cell_type": "code",
   "execution_count": null,
   "id": "b0127c65-c9ff-4b64-be4d-edc5f7a925e7",
   "metadata": {},
   "outputs": [],
   "source": [
    "Draw(kappa*300*Norm(E_screen)*n, mesh_screen, deformation=True);"
   ]
  },
  {
   "cell_type": "markdown",
   "id": "dd6583c0-89ef-4cbb-93b3-a16c45835f5c",
   "metadata": {},
   "source": [
    "- consider as receiver a plane screen in the back of the PEC body:"
   ]
  },
  {
   "cell_type": "code",
   "execution_count": null,
   "id": "2616eeef-bdcd-4093-ba3c-fe4d147ac335",
   "metadata": {},
   "outputs": [],
   "source": [
    "# plane screen \n",
    "screen = WorkPlane(Axes( (0,0,-3.5), Z, X)).RectangleC(20,20).Face()\n",
    "mesh_screen = Mesh( OCCGeometry(screen).GenerateMesh(maxh=1)).Curve(1)\n",
    "fes_screen = HCurl(mesh_screen, order=3, complex=True)\n",
    "E_screen = GridFunction(fes_screen)\n",
    "E_screen.Set (V.GetPotential(j)[0:3], definedon=mesh_screen.Boundaries(\".*\"))"
   ]
  },
  {
   "cell_type": "code",
   "execution_count": null,
   "id": "01237ec8-6d4f-4237-aa7a-ce51b8c7a1ca",
   "metadata": {},
   "outputs": [],
   "source": [
    "Draw( E_screen, mesh_screen, draw_vol=False, order=3, min=0, max=0.1, animate_complex=True);"
   ]
  },
  {
   "cell_type": "markdown",
   "id": "ea385457-1e87-40f9-819d-9203aa52c828",
   "metadata": {},
   "source": [
    "**Details on Layer Potential Operator**\n",
    "\n",
    "For a trial function $\\boldsymbol u_j \\in H^{-\\frac12}(\\mathrm{div}_\\Gamma,\\Gamma)$ and a test function $\\boldsymbol v_i \\in H^{-\\frac12}(\\mathrm{div}_\\Gamma,\\Gamma)$ the Maxwell single layer potential operator entry $V_{ij}$ can formally written as\n",
    "\n",
    "$$ V_{ij} = \\kappa \\, \\int\\limits_\\Gamma \\int\\limits_\\Gamma \\displaystyle{ \\frac{1}{4\\,\\pi} \\, \\frac{e^{i\\,\\kappa\\,\\|x-y\\|}}{\\| x-y\\|} } \\, \\boldsymbol u_j(y) \\cdot \\boldsymbol v_i(x) \\, \\mathrm{d}s_x \\mathrm{d} s_x - \\frac{1}{\\kappa} \\int\\limits_\\Gamma \\int\\limits_\\Gamma \\displaystyle{ \\frac{1}{4\\,\\pi}\\, \\frac{e^{i\\,\\kappa\\,\\|x-y\\|}}{\\| x-y\\|} } \\, \\mathrm{div}_\\Gamma \\boldsymbol u_i(y)\\,  \\mathrm{div}_\\Gamma \\boldsymbol v_i(x)\\, \\mathrm{d}\\sigma_y\\,\\mathrm d s_x\\,. $$ \n",
    "\n",
    "The two contributions are derivates of the Helmholtz single layer potential operator and may be implemented as such:   \n",
    "\n",
    "```\n",
    "V = kappa * (HelmholtzSL(u*ds, kappa)*v*ds - 1/kappa * HelmholtzSL(div(u)*ds, kappa)*div(v)*ds\n",
    "```\n",
    "\n",
    "\n",
    "**References**\n",
    "\n",
    "Further details on convergence rates and low frequency stabilisation of the EFIE look [here](https://publikationen.sulb.uni-saarland.de/bitstream/20.500.11880/26312/1/thesis_weggler_final_6.1.12.pdf)."
   ]
  },
  {
   "cell_type": "code",
   "execution_count": null,
   "id": "23220268-e118-441f-b53e-9c361504682d",
   "metadata": {},
   "outputs": [],
   "source": []
  }
 ],
 "metadata": {
  "kernelspec": {
   "display_name": "Python 3 (ipykernel)",
   "language": "python",
   "name": "python3"
  },
  "language_info": {
   "codemirror_mode": {
    "name": "ipython",
    "version": 3
   },
   "file_extension": ".py",
   "mimetype": "text/x-python",
   "name": "python",
   "nbconvert_exporter": "python",
   "pygments_lexer": "ipython3",
   "version": "3.12.3"
  }
 },
 "nbformat": 4,
 "nbformat_minor": 5
}
