{
 "cells": [
  {
   "cell_type": "code",
   "execution_count": null,
   "id": "813a7d56-14bb-412e-ad82-828c7954d860",
   "metadata": {},
   "outputs": [],
   "source": [
    "from netgen.occ import *\n",
    "from ngsolve import *\n",
    "from ngsolve.webgui import Draw\n",
    "from ngsolve.bem import *\n",
    "from ngsolve import Projector, Preconditioner\n",
    "from ngsolve.krylovspace import CG"
   ]
  },
  {
   "cell_type": "markdown",
   "id": "e365de8e-1b97-4c44-9dc8-3f87749f2a69",
   "metadata": {},
   "source": [
    "**keys**: homogeneous Neumann bvp, hypersingular operator $D$"
   ]
  },
  {
   "cell_type": "markdown",
   "id": "2a52dea9-c14a-42b3-b2ce-b9531b60fa8c",
   "metadata": {},
   "source": [
    "Neumann Laplace Indirect Method\n",
    "======================================================"
   ]
  },
  {
   "cell_type": "markdown",
   "id": "569d07a9-d847-4149-90a4-da2dcd3b843b",
   "metadata": {},
   "source": [
    "Consider the Neumann boundary value problem \n",
    "\n",
    "$$ \\left\\{ \\begin{array}{rlc l} \\Delta u &=& 0, \\quad &\\Omega \\subset \\mathbb R^3\\,,\\\\ \\gamma_1 u&=& j, \\quad &\\Gamma = \\partial \\Omega\\,.\\end{array} \\right. $$ \n",
    "\n",
    "The solution $u\\in H^1(\\Omega)$ of the above bvp can be written in the following form (representation forumula) \n",
    "\n",
    "$$ u(x) =  \\underbrace{ \\int\\limits_\\Gamma \\displaystyle{\\frac{1}{4\\,\\pi}\\, \\frac{ \\langle n(y), x-y \\rangle }{\\| x-y\\|^3} } \\, m(y)\\, \\mathrm{d}s_y}_{\\displaystyle{ \\mathrm{DL}(m) }}\\,.$$ \n"
   ]
  },
  {
   "cell_type": "markdown",
   "id": "b21358c0-3911-4322-9f31-ed01e6d731c7",
   "metadata": {},
   "source": [
    "**NGSolve Solution** "
   ]
  },
  {
   "cell_type": "markdown",
   "id": "287efd33-3b03-43a0-b161-92dc6e8dc5e4",
   "metadata": {},
   "source": [
    "Define the geometry $\\Omega \\subset \\mathbb R^3$ and create a mesh:"
   ]
  },
  {
   "cell_type": "code",
   "execution_count": null,
   "id": "fdc2b350-833b-47d0-b37f-c2a2ce73f9c2",
   "metadata": {},
   "outputs": [],
   "source": [
    "sp = Sphere( (0,0,0), 1)\n",
    "mesh = Mesh( OCCGeometry(sp).GenerateMesh(maxh=0.3)).Curve(2)"
   ]
  },
  {
   "cell_type": "markdown",
   "id": "aa9c28c5-febb-4771-81b7-1ff023b019ae",
   "metadata": {},
   "source": [
    "Define the finite element space for $H^{\\frac12}(\\Gamma)$ for given geometry :  "
   ]
  },
  {
   "cell_type": "code",
   "execution_count": null,
   "id": "9078bc2e-e3de-4564-a6f2-69553e6d1c39",
   "metadata": {},
   "outputs": [],
   "source": [
    "fesH1 = H1(mesh, order=2, definedon=mesh.Boundaries(\".*\"))\n",
    "uH1,vH1 = fesH1.TnT()\n",
    "print (\"ndof H1 = \", fesH1.ndof)"
   ]
  },
  {
   "cell_type": "markdown",
   "id": "f3991fc0-8223-4849-a5ee-3a1fd78bf03a",
   "metadata": {},
   "source": [
    "**Boundary Integral Equation** \n",
    "\n",
    "Let's carefully apply the Neumann trace $\\gamma_1$ to the representation formula and solve the resulting boundary integral equation for $m \\in H^{\\frac12}(\\Gamma)$ by discretisation of the following variational formulation: \n",
    "\n",
    "$$\\begin{array}{r c ccc} \\forall \\, v\\in H^{\\frac12}(\\Gamma): && \\displaystyle \\int\\limits_\\Gamma v \\cdot \\gamma_1 \\left(\\mathrm{DL}(m) \\right) \\, \\mathrm d s  &=&  \\displaystyle \\int\\limits_\\Gamma j \\cdot  v \\,\\mathrm d s \\\\[2ex] & \\Rightarrow & \\mathrm{D}\\,\\mathrm{m} &=& \\mathrm{M} \\, \\mathrm j \\,. \\end{array} $$ \n"
   ]
  },
  {
   "cell_type": "markdown",
   "id": "28919ee9-0164-4a9e-8ea7-5c22681609e9",
   "metadata": {},
   "source": [
    "The discretisation of the variational formulation leads to a system of linear equations, ie \n",
    "\n",
    "$$ \\left( \\mathrm{D} + \\mathrm{S}\\right) \\, \\mathrm{m}= \\mathrm{M}\\, \\mathrm j\\,, $$ \n",
    "\n",
    "where $\\mathrm{D}$ is the hypersingular operator and the stabilisation $(\\mathrm D + \\mathrm{S})$ is regular and symmetric and $\\mathrm j$ is the given Neumann data."
   ]
  },
  {
   "cell_type": "code",
   "execution_count": null,
   "id": "da3065d0-817d-4268-a14a-c9494e084ab3",
   "metadata": {},
   "outputs": [],
   "source": [
    "uexa = 1/ sqrt( (x-1)**2 + (y-1)**2 + (z-1)**2 )\n",
    "graduexa = CF( (uexa.Diff(x), uexa.Diff(y), uexa.Diff(z)) )\n",
    "\n",
    "n = specialcf.normal(3)\n",
    "j = graduexa*n\n",
    "rhs = LinearForm(j*vH1.Trace()*ds(bonus_intorder=3)).Assemble()"
   ]
  },
  {
   "cell_type": "code",
   "execution_count": null,
   "id": "08cd62aa-9014-4a70-ae17-290dfd2de5c5",
   "metadata": {},
   "outputs": [],
   "source": [
    "vH1m1 = LinearForm(vH1*1*ds(bonus_intorder=3)).Assemble()\n",
    "S = (BaseMatrix(Matrix(vH1m1.vec.Reshape(1))))@(BaseMatrix(Matrix(vH1m1.vec.Reshape(fesH1.ndof))))"
   ]
  },
  {
   "cell_type": "markdown",
   "id": "48ab0e23-5745-4c63-959c-ecc6c6ba9db2",
   "metadata": {},
   "source": [
    "The assembly of the hypersingular operator $D$ is declarative and close to their actual implementations (explicit formula are given below)."
   ]
  },
  {
   "cell_type": "code",
   "execution_count": null,
   "id": "7e872d44-2db1-47c6-bb03-cff11a9fcba4",
   "metadata": {},
   "outputs": [],
   "source": [
    "D = LaplaceSL(curl(uH1)*ds) * curl(vH1)*ds"
   ]
  },
  {
   "cell_type": "code",
   "execution_count": null,
   "id": "9cd5c990-4240-4032-af06-ff2a7beacd20",
   "metadata": {},
   "outputs": [],
   "source": [
    "m = GridFunction(fesH1)\n",
    "pre = BilinearForm(uH1*vH1*ds).Assemble().mat.Inverse(freedofs=fesH1.FreeDofs()) \n",
    "with TaskManager(): \n",
    "    CG(mat = D.mat+S, pre=pre, rhs = rhs.vec, sol=m.vec, tol=1e-8, maxsteps=200, initialize=False, printrates=True)"
   ]
  },
  {
   "cell_type": "code",
   "execution_count": null,
   "id": "a08103a9-c71c-44d9-95ef-16664cf1b712",
   "metadata": {},
   "outputs": [],
   "source": [
    "Draw (m, mesh, draw_vol=False, order=3);"
   ]
  },
  {
   "cell_type": "markdown",
   "id": "8f84f41b-4f9d-4957-b51f-74af3370096a",
   "metadata": {},
   "source": [
    "**TODO Evaluation of the solution**"
   ]
  },
  {
   "cell_type": "code",
   "execution_count": null,
   "id": "73ca13dc-d5e9-4c5e-a098-e6e0bb0c49ba",
   "metadata": {},
   "outputs": [],
   "source": []
  },
  {
   "cell_type": "markdown",
   "id": "770891ee-616c-44b0-8c8e-b08932059d60",
   "metadata": {},
   "source": [
    "**Details** \n",
    "\n",
    "The hypersingular operator is implemented as follows (reference below)\n",
    "\n",
    "$$ D_{ij} = \\big\\langle v_j, \\gamma_1 \\mathrm{DL}(u_i) \\big\\rangle = \\frac{1}{4\\pi} \\int\\limits_\\Gamma\\int\\limits_\\Gamma \\frac{ \\langle \\mathrm{\\boldsymbol {curl}}_\\Gamma  \\,u_i(x), \\mathrm{\\boldsymbol{curl}}_\\Gamma\\, v_j(y) \\rangle}{\\|x-y\\|} \\, \\mathrm{d} s_{y} \\, \\mathrm{d} s_x $$ \n",
    "\n",
    "This explicit represenation of $D$ is the singular layer potential operator with vector valued surface curl operator applied on trial and test functions. You may assemble $D$ it by\n",
    "\n",
    "```\n",
    "    D = LaplaceSL(curl(u)*ds)*curl(v)*ds\n",
    "```\n",
    "\n",
    "**References**\n",
    "\n",
    "For details on the explicit representation of the hypersingular operator have a look into [Numerische Näherungsverfahren für elliptische Randwertprobleme](https://link.springer.com/book/10.1007/978-3-322-80054-1), p.127, p.259 (1st edition)."
   ]
  },
  {
   "cell_type": "code",
   "execution_count": null,
   "id": "d625c394-9c1e-4b3b-ae8e-19248d825de5",
   "metadata": {},
   "outputs": [],
   "source": []
  }
 ],
 "metadata": {
  "kernelspec": {
   "display_name": "Python 3 (ipykernel)",
   "language": "python",
   "name": "python3"
  },
  "language_info": {
   "codemirror_mode": {
    "name": "ipython",
    "version": 3
   },
   "file_extension": ".py",
   "mimetype": "text/x-python",
   "name": "python",
   "nbconvert_exporter": "python",
   "pygments_lexer": "ipython3",
   "version": "3.12.3"
  },
  "widgets": {
   "application/vnd.jupyter.widget-state+json": {
    "state": {},
    "version_major": 2,
    "version_minor": 0
   }
  }
 },
 "nbformat": 4,
 "nbformat_minor": 5
}
