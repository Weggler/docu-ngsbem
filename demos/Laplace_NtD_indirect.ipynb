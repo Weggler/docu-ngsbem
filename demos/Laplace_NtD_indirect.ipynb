{
 "cells": [
  {
   "cell_type": "code",
   "execution_count": 10,
   "id": "813a7d56-14bb-412e-ad82-828c7954d860",
   "metadata": {},
   "outputs": [],
   "source": [
    "from netgen.occ import *\n",
    "from ngsolve import *\n",
    "from ngsolve.webgui import Draw\n",
    "from ngsolve.bem import *\n",
    "from ngsolve import Projector, Preconditioner\n",
    "from ngsolve.krylovspace import CG"
   ]
  },
  {
   "cell_type": "markdown",
   "id": "e365de8e-1b97-4c44-9dc8-3f87749f2a69",
   "metadata": {},
   "source": [
    "**keys**: homogeneous Neumann bvp, hypersingular operator $D$"
   ]
  },
  {
   "cell_type": "markdown",
   "id": "2a52dea9-c14a-42b3-b2ce-b9531b60fa8c",
   "metadata": {},
   "source": [
    "Neumann Laplace Indirect Method\n",
    "======================================================"
   ]
  },
  {
   "cell_type": "markdown",
   "id": "569d07a9-d847-4149-90a4-da2dcd3b843b",
   "metadata": {},
   "source": [
    "Consider the Neumann boundary value problem \n",
    "\n",
    "$$ \\left\\{ \\begin{array}{rlc l} \\Delta u &=& 0, \\quad &\\Omega \\subset \\mathbb R^3\\,,\\\\ \\gamma_1 u&=& j, \\quad &\\Gamma = \\partial \\Omega\\,.\\end{array} \\right. $$ \n",
    "\n",
    "The solution $u\\in H^1(\\Omega)$ of the above bvp can be written in the following form (representation forumula) \n",
    "\n",
    "$$ u(x) =  \\underbrace{ \\int\\limits_\\Gamma \\displaystyle{\\frac{1}{4\\,\\pi}\\, \\frac{ \\langle n(y), x-y \\rangle }{\\| x-y\\|^3} } \\, m(y)\\, \\mathrm{d}s_y}_{\\displaystyle{ \\mathrm{DL}(m) }}\\,.$$ \n"
   ]
  },
  {
   "cell_type": "markdown",
   "id": "b21358c0-3911-4322-9f31-ed01e6d731c7",
   "metadata": {},
   "source": [
    "**NGSolve Solution** "
   ]
  },
  {
   "cell_type": "markdown",
   "id": "287efd33-3b03-43a0-b161-92dc6e8dc5e4",
   "metadata": {},
   "source": [
    "Define the geometry $\\Omega \\subset \\mathbb R^3$ and create a mesh:"
   ]
  },
  {
   "cell_type": "code",
   "execution_count": 11,
   "id": "fdc2b350-833b-47d0-b37f-c2a2ce73f9c2",
   "metadata": {},
   "outputs": [],
   "source": [
    "sp = Sphere( (0,0,0), 1)\n",
    "mesh = Mesh( OCCGeometry(sp).GenerateMesh(maxh=0.3)).Curve(2)"
   ]
  },
  {
   "cell_type": "markdown",
   "id": "aa9c28c5-febb-4771-81b7-1ff023b019ae",
   "metadata": {},
   "source": [
    "Define the finite element space for $H^{\\frac12}(\\Gamma)$ for given geometry :  "
   ]
  },
  {
   "cell_type": "code",
   "execution_count": 12,
   "id": "9078bc2e-e3de-4564-a6f2-69553e6d1c39",
   "metadata": {},
   "outputs": [
    {
     "name": "stdout",
     "output_type": "stream",
     "text": [
      "ndof H1 =  630\n"
     ]
    }
   ],
   "source": [
    "fesH1 = H1(mesh, order=2, definedon=mesh.Boundaries(\".*\"))\n",
    "uH1,vH1 = fesH1.TnT()\n",
    "print (\"ndof H1 = \", fesH1.ndof)"
   ]
  },
  {
   "cell_type": "markdown",
   "id": "f3991fc0-8223-4849-a5ee-3a1fd78bf03a",
   "metadata": {},
   "source": [
    "**Boundary Integral Equation** \n",
    "\n",
    "Let's carefully apply the Neumann trace $\\gamma_1$ to the representation formula and solve the resulting boundary integral equation for $m \\in H^{\\frac12}(\\Gamma)$ by discretisation of the following variational formulation: \n",
    "\n",
    "$$\\begin{array}{r c ccc} \\forall \\, v\\in H^{\\frac12}(\\Gamma): && \\displaystyle \\int\\limits_\\Gamma v \\cdot \\gamma_1 \\left(\\mathrm{DL}(m) \\right) \\, \\mathrm d s  &=&  \\displaystyle \\int\\limits_\\Gamma j \\cdot  v \\,\\mathrm d s \\\\[2ex] & \\Rightarrow & \\mathrm{D}\\,\\mathrm{m} &=& \\mathrm{M} \\, \\mathrm j \\,. \\end{array} $$ \n"
   ]
  },
  {
   "cell_type": "markdown",
   "id": "28919ee9-0164-4a9e-8ea7-5c22681609e9",
   "metadata": {},
   "source": [
    "The discretisation of the variational formulation leads to a system of linear equations, ie \n",
    "\n",
    "$$ \\left( \\mathrm{D} + \\mathrm{S}\\right) \\, \\mathrm{m}= \\mathrm{M}\\, \\mathrm j\\,, $$ \n",
    "\n",
    "where $\\mathrm{D}$ is the hypersingular operator and the stabilisation $(\\mathrm D + \\mathrm{S})$ is regular and symmetric and $\\mathrm j$ is the given Neumann data."
   ]
  },
  {
   "cell_type": "code",
   "execution_count": 13,
   "id": "da3065d0-817d-4268-a14a-c9494e084ab3",
   "metadata": {},
   "outputs": [],
   "source": [
    "u_exa = 1/ sqrt( (x-1)**2 + (y-1)**2 + (z-1)**2 )\n",
    "gradu_exa = CF( (u_exa.Diff(x), u_exa.Diff(y), u_exa.Diff(z)) )\n",
    "\n",
    "n = specialcf.normal(3)\n",
    "j = gradu_exa*n\n",
    "rhs = LinearForm(j*vH1.Trace()*ds(bonus_intorder=3)).Assemble()"
   ]
  },
  {
   "cell_type": "code",
   "execution_count": 14,
   "id": "08cd62aa-9014-4a70-ae17-290dfd2de5c5",
   "metadata": {},
   "outputs": [],
   "source": [
    "vH1m1 = LinearForm(vH1*1*ds(bonus_intorder=3)).Assemble()\n",
    "S = (BaseMatrix(Matrix(vH1m1.vec.Reshape(1))))@(BaseMatrix(Matrix(vH1m1.vec.Reshape(fesH1.ndof))))"
   ]
  },
  {
   "cell_type": "markdown",
   "id": "48ab0e23-5745-4c63-959c-ecc6c6ba9db2",
   "metadata": {},
   "source": [
    "The assembly of the hypersingular operator $D$ is declarative and close to their actual implementations (explicit formula are given below)."
   ]
  },
  {
   "cell_type": "code",
   "execution_count": 32,
   "id": "7e872d44-2db1-47c6-bb03-cff11a9fcba4",
   "metadata": {},
   "outputs": [],
   "source": [
    "D = LaplaceSL(-curl(uH1)*ds) * curl(vH1)*ds # ZU KLÄREN VORZEICHEN irgendwo geht ein VORZEICHEN SCHIEF"
   ]
  },
  {
   "cell_type": "code",
   "execution_count": 33,
   "id": "9cd5c990-4240-4032-af06-ff2a7beacd20",
   "metadata": {},
   "outputs": [
    {
     "name": "stdout",
     "output_type": "stream",
     "text": [
      "\u001b[2KCG iteration 1, residual = 1.0926249988826613     \n",
      "\u001b[2KCG iteration 2, residual = 0.5729010293377176     \n",
      "\u001b[2KCG iteration 3, residual = 0.34312530188590223     \n",
      "\u001b[2KCG iteration 4, residual = 0.2303924026796566     \n",
      "\u001b[2KCG iteration 5, residual = 0.17840078203740353     \n",
      "\u001b[2KCG iteration 6, residual = 0.11050149092809973     \n",
      "\u001b[2KCG iteration 7, residual = 0.07041199040456789     \n",
      "\u001b[2KCG iteration 8, residual = 0.0424621243976524     \n",
      "\u001b[2KCG iteration 9, residual = 0.026992974308580005     \n",
      "\u001b[2KCG iteration 10, residual = 0.016201774986785808     \n",
      "\u001b[2KCG iteration 11, residual = 0.01864346924208354     \n",
      "\u001b[2KCG iteration 12, residual = 0.02056086215637912     \n",
      "\u001b[2KCG iteration 13, residual = 0.006946861001430852     \n",
      "\u001b[2KCG iteration 14, residual = 0.003687515147986319     \n",
      "\u001b[2KCG iteration 15, residual = 0.001856658345736144     \n",
      "\u001b[2KCG iteration 16, residual = 0.0009253109947845533     \n",
      "\u001b[2KCG iteration 17, residual = 0.0004411780375487626     \n",
      "\u001b[2KCG iteration 18, residual = 0.00020689857099380433     \n",
      "\u001b[2KCG iteration 19, residual = 9.382945877775458e-05     \n",
      "\u001b[2KCG iteration 20, residual = 4.1342574505381214e-05     \n",
      "\u001b[2KCG iteration 21, residual = 1.7927723946356597e-05     \n",
      "\u001b[2KCG iteration 22, residual = 7.132860201185534e-06     \n",
      "\u001b[2KCG iteration 23, residual = 2.7865283200635e-06     \n",
      "\u001b[2KCG iteration 24, residual = 1.0532230218821883e-06     \n",
      "\u001b[2KCG iteration 25, residual = 6.117733200783969e-07     \n",
      "\u001b[2KCG iteration 26, residual = 1.5301777310250243e-06     \n",
      "\u001b[2KCG iteration 27, residual = 2.2228372134029882e-07     \n",
      "\u001b[2KCG iteration 28, residual = 7.905543595306541e-08     \n",
      "\u001b[2KCG iteration 29, residual = 4.0759197209770913e-08     \n",
      "\u001b[2KCG iteration 30, residual = 3.954845063805263e-08     \n",
      "\u001b[2KCG iteration 31, residual = 3.9202621905521385e-08     \n",
      "\u001b[2KCG iteration 32, residual = 1.811933481110138e-08     \n",
      "\u001b[2KCG iteration 33, residual = 8.619080341900025e-09     \n"
     ]
    }
   ],
   "source": [
    "m = GridFunction(fesH1)\n",
    "pre = BilinearForm(uH1*vH1*ds).Assemble().mat.Inverse(freedofs=fesH1.FreeDofs()) \n",
    "with TaskManager(): \n",
    "    CG(mat = D.mat+S, pre=pre, rhs = rhs.vec, sol=m.vec, tol=1e-8, maxsteps=200, initialize=False, printrates=True)"
   ]
  },
  {
   "cell_type": "code",
   "execution_count": 34,
   "id": "a08103a9-c71c-44d9-95ef-16664cf1b712",
   "metadata": {},
   "outputs": [
    {
     "data": {
      "application/vnd.jupyter.widget-view+json": {
       "model_id": "d19a83b9b342418ab03864d5be66eeea",
       "version_major": 2,
       "version_minor": 0
      },
      "text/plain": [
       "WebGuiWidget(layout=Layout(height='50vh', width='100%'), value={'gui_settings': {}, 'ngsolve_version': '6.2.25…"
      ]
     },
     "metadata": {},
     "output_type": "display_data"
    }
   ],
   "source": [
    "Draw (m, mesh, draw_vol=False, order=3);"
   ]
  },
  {
   "cell_type": "markdown",
   "id": "8f84f41b-4f9d-4957-b51f-74af3370096a",
   "metadata": {},
   "source": [
    "**Evaluation of the solution**"
   ]
  },
  {
   "cell_type": "code",
   "execution_count": 43,
   "id": "73ca13dc-d5e9-4c5e-a098-e6e0bb0c49ba",
   "metadata": {},
   "outputs": [
    {
     "data": {
      "application/vnd.jupyter.widget-view+json": {
       "model_id": "f7cb5d253cee4979bc2d5268d86bdc3c",
       "version_major": 2,
       "version_minor": 0
      },
      "text/plain": [
       "WebGuiWidget(layout=Layout(height='50vh', width='100%'), value={'gui_settings': {}, 'ngsolve_version': '6.2.25…"
      ]
     },
     "metadata": {},
     "output_type": "display_data"
    },
    {
     "data": {
      "application/vnd.jupyter.widget-view+json": {
       "model_id": "1f2fa3c6afbf418aa5ea46ada004cd94",
       "version_major": 2,
       "version_minor": 0
      },
      "text/plain": [
       "WebGuiWidget(layout=Layout(height='50vh', width='100%'), value={'gui_settings': {}, 'ngsolve_version': '6.2.25…"
      ]
     },
     "metadata": {},
     "output_type": "display_data"
    },
    {
     "data": {
      "text/plain": [
       "BaseWebGuiScene"
      ]
     },
     "execution_count": 43,
     "metadata": {},
     "output_type": "execute_result"
    }
   ],
   "source": [
    "screen = WorkPlane(Axes( (0,0,0), Z, X)).RectangleC(0.5,0.5).Face()\n",
    "vismesh = screen.GenerateMesh(maxh=0.05)\n",
    "#Draw (vismesh);\n",
    "LDL = LaplaceDL( uH1*ds)\n",
    "u_num = LDL(m)\n",
    "u_num.BuildLocalExpansion(vismesh.Boundaries(\".*\")) #MLFMM evaluation\n",
    "Draw(u_num+0.575, vismesh) # Übereinstimmung bis auf Konstante\n",
    "Draw(u_exa, vismesh)"
   ]
  },
  {
   "cell_type": "markdown",
   "id": "770891ee-616c-44b0-8c8e-b08932059d60",
   "metadata": {},
   "source": [
    "**Details** \n",
    "\n",
    "For any $u_j, v_i \\in H^{\\frac12}(\\Gamma)$, hypersingular operator is implemented as follows (reference below)\n",
    "\n",
    "$$ D_{ij} = \\big\\langle v_i, \\gamma_1 \\mathrm{DL}(u_j) \\big\\rangle = \\frac{1}{4\\pi} \\int\\limits_\\Gamma\\int\\limits_\\Gamma \\frac{ \\langle \\mathrm{\\boldsymbol {curl}}_\\Gamma  \\,u_j(x), \\mathrm{\\boldsymbol{curl}}_\\Gamma\\, v_i(y) \\rangle}{\\|x-y\\|} \\, \\mathrm{d} s_{y} \\, \\mathrm{d} s_x $$ \n",
    "\n",
    "This explicit represenation of $D$ is the singular layer potential operator with vector valued surface curl operator applied on trial and test functions. You may assemble $D$ it by\n",
    "\n",
    "```\n",
    "D = LaplaceSL(curl(u)*ds)*curl(v)*ds\n",
    "```\n",
    "\n",
    "**References**\n",
    "\n",
    "For details on the explicit representation of the hypersingular operator have a look into [Numerische Näherungsverfahren für elliptische Randwertprobleme](https://link.springer.com/book/10.1007/978-3-322-80054-1), p.127, p.259 (1st edition)."
   ]
  },
  {
   "cell_type": "code",
   "execution_count": null,
   "id": "d625c394-9c1e-4b3b-ae8e-19248d825de5",
   "metadata": {},
   "outputs": [],
   "source": []
  }
 ],
 "metadata": {
  "kernelspec": {
   "display_name": "Python 3 (ipykernel)",
   "language": "python",
   "name": "python3"
  },
  "language_info": {
   "codemirror_mode": {
    "name": "ipython",
    "version": 3
   },
   "file_extension": ".py",
   "mimetype": "text/x-python",
   "name": "python",
   "nbconvert_exporter": "python",
   "pygments_lexer": "ipython3",
   "version": "3.12.3"
  },
  "widgets": {
   "application/vnd.jupyter.widget-state+json": {
    "state": {},
    "version_major": 2,
    "version_minor": 0
   }
  }
 },
 "nbformat": 4,
 "nbformat_minor": 5
}
